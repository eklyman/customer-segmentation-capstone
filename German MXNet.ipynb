{
 "cells": [
  {
   "cell_type": "code",
   "execution_count": 3,
   "metadata": {},
   "outputs": [],
   "source": [
    "import io\n",
    "import os\n",
    "import matplotlib.pyplot as plt\n",
    "import pandas as pd\n",
    "import numpy as np\n",
    "\n",
    "import boto3\n",
    "import sagemaker\n",
    "from sagemaker import get_execution_role, PCA"
   ]
  },
  {
   "cell_type": "code",
   "execution_count": 4,
   "metadata": {},
   "outputs": [
    {
     "name": "stdout",
     "output_type": "stream",
     "text": [
      "<sagemaker.session.Session object at 0x7f9d1001f518>\n",
      "arn:aws:iam::240038582877:role/service-role/AmazonSageMaker-ExecutionRole-20191028T202433\n"
     ]
    }
   ],
   "source": [
    "session = sagemaker.Session()\n",
    "print(session)\n",
    "\n",
    "role = get_execution_role()\n",
    "print(role)\n",
    "\n",
    "bucket = session.default_bucket()"
   ]
  },
  {
   "cell_type": "code",
   "execution_count": 5,
   "metadata": {},
   "outputs": [],
   "source": [
    "# load data\n",
    "prefix = 'segmentation'\n",
    "\n",
    "data_key= prefix + '/azdias_scaled.csv'\n",
    "data_location = 's3://{}/{}'.format(bucket, data_key)"
   ]
  },
  {
   "cell_type": "code",
   "execution_count": 6,
   "metadata": {},
   "outputs": [
    {
     "name": "stdout",
     "output_type": "stream",
     "text": [
      "(891221, 93)\n"
     ]
    }
   ],
   "source": [
    "tmp_list = []\n",
    "\n",
    "for chunk in pd.read_csv(data_location, chunksize=100000):\n",
    "    tmp_list.append(chunk)\n",
    "    \n",
    "df = pd.concat(tmp_list, axis=0).drop(['Unnamed: 0'], axis=1)\n",
    "print(df.shape)\n",
    "del tmp_list"
   ]
  },
  {
   "cell_type": "code",
   "execution_count": 7,
   "metadata": {},
   "outputs": [
    {
     "data": {
      "text/html": [
       "<div>\n",
       "<style scoped>\n",
       "    .dataframe tbody tr th:only-of-type {\n",
       "        vertical-align: middle;\n",
       "    }\n",
       "\n",
       "    .dataframe tbody tr th {\n",
       "        vertical-align: top;\n",
       "    }\n",
       "\n",
       "    .dataframe thead th {\n",
       "        text-align: right;\n",
       "    }\n",
       "</style>\n",
       "<table border=\"1\" class=\"dataframe\">\n",
       "  <thead>\n",
       "    <tr style=\"text-align: right;\">\n",
       "      <th></th>\n",
       "      <th>LNR</th>\n",
       "      <th>AGER_TYP</th>\n",
       "      <th>D19_BANKEN_ANZ_12</th>\n",
       "      <th>D19_BANKEN_ANZ_24</th>\n",
       "      <th>D19_BANKEN_DATUM</th>\n",
       "      <th>D19_BANKEN_DIREKT</th>\n",
       "      <th>D19_BANKEN_GROSS</th>\n",
       "      <th>D19_BANKEN_LOKAL</th>\n",
       "      <th>D19_BANKEN_OFFLINE_DATUM</th>\n",
       "      <th>D19_BANKEN_ONLINE_DATUM</th>\n",
       "      <th>...</th>\n",
       "      <th>SEMIO_RAT</th>\n",
       "      <th>SEMIO_REL</th>\n",
       "      <th>SEMIO_SOZ</th>\n",
       "      <th>SEMIO_TRADV</th>\n",
       "      <th>SEMIO_VERT</th>\n",
       "      <th>SHOPPER_TYP</th>\n",
       "      <th>VERS_TYP</th>\n",
       "      <th>ZABEOTYP</th>\n",
       "      <th>ANREDE_KZ</th>\n",
       "      <th>ALTERSKATEGORIE_GROB</th>\n",
       "    </tr>\n",
       "  </thead>\n",
       "  <tbody>\n",
       "    <tr>\n",
       "      <th>0</th>\n",
       "      <td>0.806268</td>\n",
       "      <td>0.00</td>\n",
       "      <td>0.0</td>\n",
       "      <td>0.000000</td>\n",
       "      <td>1.000000</td>\n",
       "      <td>0.000000</td>\n",
       "      <td>0.000000</td>\n",
       "      <td>0.0</td>\n",
       "      <td>1.0</td>\n",
       "      <td>1.000000</td>\n",
       "      <td>...</td>\n",
       "      <td>0.500000</td>\n",
       "      <td>1.000000</td>\n",
       "      <td>0.166667</td>\n",
       "      <td>0.333333</td>\n",
       "      <td>0.0</td>\n",
       "      <td>0.00</td>\n",
       "      <td>0.000000</td>\n",
       "      <td>0.4</td>\n",
       "      <td>0.0</td>\n",
       "      <td>0.125</td>\n",
       "    </tr>\n",
       "    <tr>\n",
       "      <th>1</th>\n",
       "      <td>0.806273</td>\n",
       "      <td>0.00</td>\n",
       "      <td>0.0</td>\n",
       "      <td>0.000000</td>\n",
       "      <td>1.000000</td>\n",
       "      <td>0.000000</td>\n",
       "      <td>0.000000</td>\n",
       "      <td>0.0</td>\n",
       "      <td>1.0</td>\n",
       "      <td>1.000000</td>\n",
       "      <td>...</td>\n",
       "      <td>0.833333</td>\n",
       "      <td>0.500000</td>\n",
       "      <td>0.666667</td>\n",
       "      <td>0.833333</td>\n",
       "      <td>0.0</td>\n",
       "      <td>1.00</td>\n",
       "      <td>1.000000</td>\n",
       "      <td>0.8</td>\n",
       "      <td>1.0</td>\n",
       "      <td>0.000</td>\n",
       "    </tr>\n",
       "    <tr>\n",
       "      <th>2</th>\n",
       "      <td>0.806279</td>\n",
       "      <td>0.00</td>\n",
       "      <td>0.0</td>\n",
       "      <td>0.000000</td>\n",
       "      <td>1.000000</td>\n",
       "      <td>0.000000</td>\n",
       "      <td>0.000000</td>\n",
       "      <td>0.0</td>\n",
       "      <td>1.0</td>\n",
       "      <td>1.000000</td>\n",
       "      <td>...</td>\n",
       "      <td>0.500000</td>\n",
       "      <td>0.333333</td>\n",
       "      <td>0.500000</td>\n",
       "      <td>0.333333</td>\n",
       "      <td>0.5</td>\n",
       "      <td>0.75</td>\n",
       "      <td>0.666667</td>\n",
       "      <td>0.8</td>\n",
       "      <td>1.0</td>\n",
       "      <td>0.250</td>\n",
       "    </tr>\n",
       "    <tr>\n",
       "      <th>3</th>\n",
       "      <td>0.806280</td>\n",
       "      <td>0.75</td>\n",
       "      <td>0.0</td>\n",
       "      <td>0.000000</td>\n",
       "      <td>1.000000</td>\n",
       "      <td>0.000000</td>\n",
       "      <td>0.000000</td>\n",
       "      <td>0.0</td>\n",
       "      <td>1.0</td>\n",
       "      <td>1.000000</td>\n",
       "      <td>...</td>\n",
       "      <td>0.333333</td>\n",
       "      <td>0.166667</td>\n",
       "      <td>0.666667</td>\n",
       "      <td>0.500000</td>\n",
       "      <td>0.5</td>\n",
       "      <td>0.50</td>\n",
       "      <td>0.666667</td>\n",
       "      <td>0.4</td>\n",
       "      <td>1.0</td>\n",
       "      <td>0.375</td>\n",
       "    </tr>\n",
       "    <tr>\n",
       "      <th>4</th>\n",
       "      <td>0.806297</td>\n",
       "      <td>0.00</td>\n",
       "      <td>0.5</td>\n",
       "      <td>0.833333</td>\n",
       "      <td>0.444444</td>\n",
       "      <td>0.142857</td>\n",
       "      <td>0.333333</td>\n",
       "      <td>0.0</td>\n",
       "      <td>1.0</td>\n",
       "      <td>0.444444</td>\n",
       "      <td>...</td>\n",
       "      <td>0.166667</td>\n",
       "      <td>0.500000</td>\n",
       "      <td>0.833333</td>\n",
       "      <td>0.166667</td>\n",
       "      <td>1.0</td>\n",
       "      <td>0.75</td>\n",
       "      <td>1.000000</td>\n",
       "      <td>0.6</td>\n",
       "      <td>0.0</td>\n",
       "      <td>0.250</td>\n",
       "    </tr>\n",
       "  </tbody>\n",
       "</table>\n",
       "<p>5 rows × 93 columns</p>\n",
       "</div>"
      ],
      "text/plain": [
       "        LNR  AGER_TYP  D19_BANKEN_ANZ_12  D19_BANKEN_ANZ_24  D19_BANKEN_DATUM  \\\n",
       "0  0.806268      0.00                0.0           0.000000          1.000000   \n",
       "1  0.806273      0.00                0.0           0.000000          1.000000   \n",
       "2  0.806279      0.00                0.0           0.000000          1.000000   \n",
       "3  0.806280      0.75                0.0           0.000000          1.000000   \n",
       "4  0.806297      0.00                0.5           0.833333          0.444444   \n",
       "\n",
       "   D19_BANKEN_DIREKT  D19_BANKEN_GROSS  D19_BANKEN_LOKAL  \\\n",
       "0           0.000000          0.000000               0.0   \n",
       "1           0.000000          0.000000               0.0   \n",
       "2           0.000000          0.000000               0.0   \n",
       "3           0.000000          0.000000               0.0   \n",
       "4           0.142857          0.333333               0.0   \n",
       "\n",
       "   D19_BANKEN_OFFLINE_DATUM  D19_BANKEN_ONLINE_DATUM  ...  SEMIO_RAT  \\\n",
       "0                       1.0                 1.000000  ...   0.500000   \n",
       "1                       1.0                 1.000000  ...   0.833333   \n",
       "2                       1.0                 1.000000  ...   0.500000   \n",
       "3                       1.0                 1.000000  ...   0.333333   \n",
       "4                       1.0                 0.444444  ...   0.166667   \n",
       "\n",
       "   SEMIO_REL  SEMIO_SOZ  SEMIO_TRADV  SEMIO_VERT  SHOPPER_TYP  VERS_TYP  \\\n",
       "0   1.000000   0.166667     0.333333         0.0         0.00  0.000000   \n",
       "1   0.500000   0.666667     0.833333         0.0         1.00  1.000000   \n",
       "2   0.333333   0.500000     0.333333         0.5         0.75  0.666667   \n",
       "3   0.166667   0.666667     0.500000         0.5         0.50  0.666667   \n",
       "4   0.500000   0.833333     0.166667         1.0         0.75  1.000000   \n",
       "\n",
       "   ZABEOTYP  ANREDE_KZ  ALTERSKATEGORIE_GROB  \n",
       "0       0.4        0.0                 0.125  \n",
       "1       0.8        1.0                 0.000  \n",
       "2       0.8        1.0                 0.250  \n",
       "3       0.4        1.0                 0.375  \n",
       "4       0.6        0.0                 0.250  \n",
       "\n",
       "[5 rows x 93 columns]"
      ]
     },
     "execution_count": 7,
     "metadata": {},
     "output_type": "execute_result"
    }
   ],
   "source": [
    "df.head()"
   ]
  },
  {
   "cell_type": "code",
   "execution_count": 8,
   "metadata": {},
   "outputs": [
    {
     "data": {
      "text/plain": [
       "'s3://sagemaker-us-east-2-240038582877/pca/'"
      ]
     },
     "execution_count": 8,
     "metadata": {},
     "output_type": "execute_result"
    }
   ],
   "source": [
    "# prepare space to store model artifacts\n",
    "prefix = 'pca'\n",
    "output_path = 's3://{}/{}/'.format(bucket, prefix)\n",
    "output_path"
   ]
  },
  {
   "cell_type": "code",
   "execution_count": 9,
   "metadata": {},
   "outputs": [],
   "source": [
    "N_COMPONENTS = 10\n",
    "pca = PCA(role=role,\n",
    "          train_instance_count=1,\n",
    "          train_instance_type='ml.c4.xlarge',\n",
    "          output_path=output_path,\n",
    "          num_components=N_COMPONENTS,\n",
    "          sagemaker_session=session)"
   ]
  },
  {
   "cell_type": "code",
   "execution_count": 10,
   "metadata": {},
   "outputs": [],
   "source": [
    "#must convert to RecordSet for built in sagemaker models\n",
    "\n",
    "#convert df to np array (pass this to the deployed PCA model later)\n",
    "train_data_np = df.values.astype('float32')\n",
    "\n",
    "#convert to RecordSet format\n",
    "formatted_train_data = pca.record_set(train_data_np)"
   ]
  },
  {
   "cell_type": "code",
   "execution_count": 11,
   "metadata": {},
   "outputs": [
    {
     "name": "stdout",
     "output_type": "stream",
     "text": [
      "2020-04-27 01:44:08 Starting - Starting the training job...\n",
      "2020-04-27 01:44:09 Starting - Launching requested ML instances...\n",
      "2020-04-27 01:45:06 Starting - Preparing the instances for training.........\n",
      "2020-04-27 01:46:30 Downloading - Downloading input data\n",
      "2020-04-27 01:46:30 Training - Downloading the training image..\u001b[34mDocker entrypoint called with argument(s): train\u001b[0m\n",
      "\u001b[34mRunning default environment configuration script\u001b[0m\n",
      "\u001b[34m[04/27/2020 01:46:52 INFO 140291171944256] Reading default configuration from /opt/amazon/lib/python2.7/site-packages/algorithm/resources/default-conf.json: {u'_num_gpus': u'auto', u'_log_level': u'info', u'subtract_mean': u'true', u'force_dense': u'true', u'epochs': 1, u'algorithm_mode': u'regular', u'extra_components': u'-1', u'_kvstore': u'dist_sync', u'_num_kv_servers': u'auto'}\u001b[0m\n",
      "\u001b[34m[04/27/2020 01:46:52 INFO 140291171944256] Reading provided configuration from /opt/ml/input/config/hyperparameters.json: {u'feature_dim': u'93', u'mini_batch_size': u'500', u'num_components': u'10'}\u001b[0m\n",
      "\u001b[34m[04/27/2020 01:46:52 INFO 140291171944256] Final configuration: {u'num_components': u'10', u'_num_gpus': u'auto', u'_log_level': u'info', u'subtract_mean': u'true', u'force_dense': u'true', u'epochs': 1, u'algorithm_mode': u'regular', u'feature_dim': u'93', u'extra_components': u'-1', u'_kvstore': u'dist_sync', u'_num_kv_servers': u'auto', u'mini_batch_size': u'500'}\u001b[0m\n",
      "\u001b[34m[04/27/2020 01:46:52 WARNING 140291171944256] Loggers have already been setup.\u001b[0m\n",
      "\u001b[34m[04/27/2020 01:46:53 INFO 140291171944256] Launching parameter server for role scheduler\u001b[0m\n",
      "\u001b[34m[04/27/2020 01:46:53 INFO 140291171944256] {'ECS_CONTAINER_METADATA_URI': 'http://169.254.170.2/v3/deea1fb6-184e-48c7-9f53-4bc85f9afe6c', 'PROTOCOL_BUFFERS_PYTHON_IMPLEMENTATION_VERSION': '2', 'PATH': '/opt/amazon/bin:/usr/local/nvidia/bin:/usr/local/sbin:/usr/local/bin:/usr/sbin:/usr/bin:/sbin:/bin:/opt/amazon/bin:/opt/amazon/bin', 'SAGEMAKER_HTTP_PORT': '8080', 'HOME': '/root', 'PYTHONUNBUFFERED': 'TRUE', 'CANONICAL_ENVROOT': '/opt/amazon', 'LD_LIBRARY_PATH': '/opt/amazon/lib/python2.7/site-packages/cv2/../../../../lib:/usr/local/nvidia/lib64:/opt/amazon/lib', 'LANG': 'en_US.utf8', 'DMLC_INTERFACE': 'eth0', 'SHLVL': '1', 'AWS_REGION': 'us-east-2', 'NVIDIA_VISIBLE_DEVICES': 'void', 'TRAINING_JOB_NAME': 'pca-2020-04-27-01-44-07-956', 'PROTOCOL_BUFFERS_PYTHON_IMPLEMENTATION': 'cpp', 'ENVROOT': '/opt/amazon', 'SAGEMAKER_DATA_PATH': '/opt/ml', 'NVIDIA_DRIVER_CAPABILITIES': 'compute,utility', 'NVIDIA_REQUIRE_CUDA': 'cuda>=9.0', 'OMP_NUM_THREADS': '2', 'HOSTNAME': 'ip-10-0-111-154.us-east-2.compute.internal', 'AWS_CONTAINER_CREDENTIALS_RELATIVE_URI': '/v2/credentials/816adf0f-59e5-43ec-a029-90ca7654f974', 'PWD': '/', 'TRAINING_JOB_ARN': 'arn:aws:sagemaker:us-east-2:240038582877:training-job/pca-2020-04-27-01-44-07-956', 'AWS_EXECUTION_ENV': 'AWS_ECS_EC2'}\u001b[0m\n",
      "\u001b[34m[04/27/2020 01:46:53 INFO 140291171944256] envs={'ECS_CONTAINER_METADATA_URI': 'http://169.254.170.2/v3/deea1fb6-184e-48c7-9f53-4bc85f9afe6c', 'PROTOCOL_BUFFERS_PYTHON_IMPLEMENTATION_VERSION': '2', 'DMLC_NUM_WORKER': '1', 'DMLC_PS_ROOT_PORT': '9000', 'PATH': '/opt/amazon/bin:/usr/local/nvidia/bin:/usr/local/sbin:/usr/local/bin:/usr/sbin:/usr/bin:/sbin:/bin:/opt/amazon/bin:/opt/amazon/bin', 'SAGEMAKER_HTTP_PORT': '8080', 'HOME': '/root', 'PYTHONUNBUFFERED': 'TRUE', 'CANONICAL_ENVROOT': '/opt/amazon', 'LD_LIBRARY_PATH': '/opt/amazon/lib/python2.7/site-packages/cv2/../../../../lib:/usr/local/nvidia/lib64:/opt/amazon/lib', 'LANG': 'en_US.utf8', 'DMLC_INTERFACE': 'eth0', 'SHLVL': '1', 'DMLC_PS_ROOT_URI': '10.0.111.154', 'AWS_REGION': 'us-east-2', 'NVIDIA_VISIBLE_DEVICES': 'void', 'TRAINING_JOB_NAME': 'pca-2020-04-27-01-44-07-956', 'PROTOCOL_BUFFERS_PYTHON_IMPLEMENTATION': 'cpp', 'ENVROOT': '/opt/amazon', 'SAGEMAKER_DATA_PATH': '/opt/ml', 'NVIDIA_DRIVER_CAPABILITIES': 'compute,utility', 'NVIDIA_REQUIRE_CUDA': 'cuda>=9.0', 'OMP_NUM_THREADS': '2', 'HOSTNAME': 'ip-10-0-111-154.us-east-2.compute.internal', 'AWS_CONTAINER_CREDENTIALS_RELATIVE_URI': '/v2/credentials/816adf0f-59e5-43ec-a029-90ca7654f974', 'DMLC_ROLE': 'scheduler', 'PWD': '/', 'DMLC_NUM_SERVER': '1', 'TRAINING_JOB_ARN': 'arn:aws:sagemaker:us-east-2:240038582877:training-job/pca-2020-04-27-01-44-07-956', 'AWS_EXECUTION_ENV': 'AWS_ECS_EC2'}\u001b[0m\n",
      "\u001b[34m[04/27/2020 01:46:53 INFO 140291171944256] Launching parameter server for role server\u001b[0m\n",
      "\u001b[34m[04/27/2020 01:46:53 INFO 140291171944256] {'ECS_CONTAINER_METADATA_URI': 'http://169.254.170.2/v3/deea1fb6-184e-48c7-9f53-4bc85f9afe6c', 'PROTOCOL_BUFFERS_PYTHON_IMPLEMENTATION_VERSION': '2', 'PATH': '/opt/amazon/bin:/usr/local/nvidia/bin:/usr/local/sbin:/usr/local/bin:/usr/sbin:/usr/bin:/sbin:/bin:/opt/amazon/bin:/opt/amazon/bin', 'SAGEMAKER_HTTP_PORT': '8080', 'HOME': '/root', 'PYTHONUNBUFFERED': 'TRUE', 'CANONICAL_ENVROOT': '/opt/amazon', 'LD_LIBRARY_PATH': '/opt/amazon/lib/python2.7/site-packages/cv2/../../../../lib:/usr/local/nvidia/lib64:/opt/amazon/lib', 'LANG': 'en_US.utf8', 'DMLC_INTERFACE': 'eth0', 'SHLVL': '1', 'AWS_REGION': 'us-east-2', 'NVIDIA_VISIBLE_DEVICES': 'void', 'TRAINING_JOB_NAME': 'pca-2020-04-27-01-44-07-956', 'PROTOCOL_BUFFERS_PYTHON_IMPLEMENTATION': 'cpp', 'ENVROOT': '/opt/amazon', 'SAGEMAKER_DATA_PATH': '/opt/ml', 'NVIDIA_DRIVER_CAPABILITIES': 'compute,utility', 'NVIDIA_REQUIRE_CUDA': 'cuda>=9.0', 'OMP_NUM_THREADS': '2', 'HOSTNAME': 'ip-10-0-111-154.us-east-2.compute.internal', 'AWS_CONTAINER_CREDENTIALS_RELATIVE_URI': '/v2/credentials/816adf0f-59e5-43ec-a029-90ca7654f974', 'PWD': '/', 'TRAINING_JOB_ARN': 'arn:aws:sagemaker:us-east-2:240038582877:training-job/pca-2020-04-27-01-44-07-956', 'AWS_EXECUTION_ENV': 'AWS_ECS_EC2'}\u001b[0m\n",
      "\u001b[34m[04/27/2020 01:46:53 INFO 140291171944256] envs={'ECS_CONTAINER_METADATA_URI': 'http://169.254.170.2/v3/deea1fb6-184e-48c7-9f53-4bc85f9afe6c', 'PROTOCOL_BUFFERS_PYTHON_IMPLEMENTATION_VERSION': '2', 'DMLC_NUM_WORKER': '1', 'DMLC_PS_ROOT_PORT': '9000', 'PATH': '/opt/amazon/bin:/usr/local/nvidia/bin:/usr/local/sbin:/usr/local/bin:/usr/sbin:/usr/bin:/sbin:/bin:/opt/amazon/bin:/opt/amazon/bin', 'SAGEMAKER_HTTP_PORT': '8080', 'HOME': '/root', 'PYTHONUNBUFFERED': 'TRUE', 'CANONICAL_ENVROOT': '/opt/amazon', 'LD_LIBRARY_PATH': '/opt/amazon/lib/python2.7/site-packages/cv2/../../../../lib:/usr/local/nvidia/lib64:/opt/amazon/lib', 'LANG': 'en_US.utf8', 'DMLC_INTERFACE': 'eth0', 'SHLVL': '1', 'DMLC_PS_ROOT_URI': '10.0.111.154', 'AWS_REGION': 'us-east-2', 'NVIDIA_VISIBLE_DEVICES': 'void', 'TRAINING_JOB_NAME': 'pca-2020-04-27-01-44-07-956', 'PROTOCOL_BUFFERS_PYTHON_IMPLEMENTATION': 'cpp', 'ENVROOT': '/opt/amazon', 'SAGEMAKER_DATA_PATH': '/opt/ml', 'NVIDIA_DRIVER_CAPABILITIES': 'compute,utility', 'NVIDIA_REQUIRE_CUDA': 'cuda>=9.0', 'OMP_NUM_THREADS': '2', 'HOSTNAME': 'ip-10-0-111-154.us-east-2.compute.internal', 'AWS_CONTAINER_CREDENTIALS_RELATIVE_URI': '/v2/credentials/816adf0f-59e5-43ec-a029-90ca7654f974', 'DMLC_ROLE': 'server', 'PWD': '/', 'DMLC_NUM_SERVER': '1', 'TRAINING_JOB_ARN': 'arn:aws:sagemaker:us-east-2:240038582877:training-job/pca-2020-04-27-01-44-07-956', 'AWS_EXECUTION_ENV': 'AWS_ECS_EC2'}\u001b[0m\n",
      "\u001b[34m[04/27/2020 01:46:53 INFO 140291171944256] Environment: {'ECS_CONTAINER_METADATA_URI': 'http://169.254.170.2/v3/deea1fb6-184e-48c7-9f53-4bc85f9afe6c', 'PROTOCOL_BUFFERS_PYTHON_IMPLEMENTATION_VERSION': '2', 'DMLC_PS_ROOT_PORT': '9000', 'DMLC_NUM_WORKER': '1', 'SAGEMAKER_HTTP_PORT': '8080', 'PATH': '/opt/amazon/bin:/usr/local/nvidia/bin:/usr/local/sbin:/usr/local/bin:/usr/sbin:/usr/bin:/sbin:/bin:/opt/amazon/bin:/opt/amazon/bin', 'PYTHONUNBUFFERED': 'TRUE', 'CANONICAL_ENVROOT': '/opt/amazon', 'LD_LIBRARY_PATH': '/opt/amazon/lib/python2.7/site-packages/cv2/../../../../lib:/usr/local/nvidia/lib64:/opt/amazon/lib', 'LANG': 'en_US.utf8', 'DMLC_INTERFACE': 'eth0', 'SHLVL': '1', 'DMLC_PS_ROOT_URI': '10.0.111.154', 'AWS_REGION': 'us-east-2', 'NVIDIA_VISIBLE_DEVICES': 'void', 'TRAINING_JOB_NAME': 'pca-2020-04-27-01-44-07-956', 'HOME': '/root', 'PROTOCOL_BUFFERS_PYTHON_IMPLEMENTATION': 'cpp', 'ENVROOT': '/opt/amazon', 'SAGEMAKER_DATA_PATH': '/opt/ml', 'NVIDIA_DRIVER_CAPABILITIES': 'compute,utility', 'NVIDIA_REQUIRE_CUDA': 'cuda>=9.0', 'OMP_NUM_THREADS': '2', 'HOSTNAME': 'ip-10-0-111-154.us-east-2.compute.internal', 'AWS_CONTAINER_CREDENTIALS_RELATIVE_URI': '/v2/credentials/816adf0f-59e5-43ec-a029-90ca7654f974', 'DMLC_ROLE': 'worker', 'PWD': '/', 'DMLC_NUM_SERVER': '1', 'TRAINING_JOB_ARN': 'arn:aws:sagemaker:us-east-2:240038582877:training-job/pca-2020-04-27-01-44-07-956', 'AWS_EXECUTION_ENV': 'AWS_ECS_EC2'}\u001b[0m\n",
      "\u001b[34mProcess 60 is a shell:scheduler.\u001b[0m\n",
      "\u001b[34mProcess 69 is a shell:server.\u001b[0m\n",
      "\u001b[34mProcess 1 is a worker.\u001b[0m\n",
      "\u001b[34m[04/27/2020 01:46:53 INFO 140291171944256] Using default worker.\u001b[0m\n",
      "\u001b[34m[04/27/2020 01:46:53 INFO 140291171944256] Loaded iterator creator application/x-recordio-protobuf for content type ('application/x-recordio-protobuf', '1.0')\u001b[0m\n",
      "\u001b[34m[04/27/2020 01:46:53 INFO 140291171944256] Loaded iterator creator application/x-labeled-vector-protobuf for content type ('application/x-labeled-vector-protobuf', '1.0')\u001b[0m\n",
      "\u001b[34m[04/27/2020 01:46:53 INFO 140291171944256] Loaded iterator creator protobuf for content type ('protobuf', '1.0')\u001b[0m\n",
      "\u001b[34m[04/27/2020 01:46:53 INFO 140291171944256] Create Store: dist_sync\u001b[0m\n",
      "\u001b[34m[04/27/2020 01:46:54 INFO 140291171944256] nvidia-smi took: 0.0251801013947 secs to identify 0 gpus\u001b[0m\n",
      "\u001b[34m[04/27/2020 01:46:54 INFO 140291171944256] Number of GPUs being used: 0\u001b[0m\n",
      "\u001b[34m[04/27/2020 01:46:54 INFO 140291171944256] The default executor is <PCAExecutor on cpu(0)>.\u001b[0m\n",
      "\u001b[34m[04/27/2020 01:46:54 INFO 140291171944256] 93 feature(s) found in 'data'.\u001b[0m\n",
      "\u001b[34m[04/27/2020 01:46:54 INFO 140291171944256] <PCAExecutor on cpu(0)> is assigned to batch slice from 0 to 499.\u001b[0m\n",
      "\u001b[34m#metrics {\"Metrics\": {\"initialize.time\": {\"count\": 1, \"max\": 782.351016998291, \"sum\": 782.351016998291, \"min\": 782.351016998291}}, \"EndTime\": 1587952014.29127, \"Dimensions\": {\"Host\": \"algo-1\", \"Operation\": \"training\", \"Algorithm\": \"PCA\"}, \"StartTime\": 1587952013.499863}\n",
      "\u001b[0m\n",
      "\u001b[34m#metrics {\"Metrics\": {\"Max Batches Seen Between Resets\": {\"count\": 1, \"max\": 0, \"sum\": 0.0, \"min\": 0}, \"Number of Batches Since Last Reset\": {\"count\": 1, \"max\": 0, \"sum\": 0.0, \"min\": 0}, \"Number of Records Since Last Reset\": {\"count\": 1, \"max\": 0, \"sum\": 0.0, \"min\": 0}, \"Total Batches Seen\": {\"count\": 1, \"max\": 0, \"sum\": 0.0, \"min\": 0}, \"Total Records Seen\": {\"count\": 1, \"max\": 0, \"sum\": 0.0, \"min\": 0}, \"Max Records Seen Between Resets\": {\"count\": 1, \"max\": 0, \"sum\": 0.0, \"min\": 0}, \"Reset Count\": {\"count\": 1, \"max\": 0, \"sum\": 0.0, \"min\": 0}}, \"EndTime\": 1587952014.291524, \"Dimensions\": {\"Host\": \"algo-1\", \"Meta\": \"init_train_data_iter\", \"Operation\": \"training\", \"Algorithm\": \"PCA\"}, \"StartTime\": 1587952014.291437}\n",
      "\u001b[0m\n",
      "\u001b[34m[2020-04-27 01:46:54.295] [tensorio] [info] epoch_stats={\"data_pipeline\": \"/opt/ml/input/data/train\", \"epoch\": 0, \"duration\": 795, \"num_examples\": 1, \"num_bytes\": 200000}\u001b[0m\n"
     ]
    },
    {
     "name": "stdout",
     "output_type": "stream",
     "text": [
      "\n",
      "2020-04-27 01:47:06 Uploading - Uploading generated training model\n",
      "2020-04-27 01:47:06 Completed - Training job completed\n",
      "\u001b[34m[2020-04-27 01:46:56.044] [tensorio] [info] epoch_stats={\"data_pipeline\": \"/opt/ml/input/data/train\", \"epoch\": 1, \"duration\": 1740, \"num_examples\": 1783, \"num_bytes\": 356488400}\u001b[0m\n",
      "\u001b[34m#metrics {\"Metrics\": {\"epochs\": {\"count\": 1, \"max\": 1, \"sum\": 1.0, \"min\": 1}, \"update.time\": {\"count\": 1, \"max\": 1748.4431266784668, \"sum\": 1748.4431266784668, \"min\": 1748.4431266784668}}, \"EndTime\": 1587952016.044561, \"Dimensions\": {\"Host\": \"algo-1\", \"Operation\": \"training\", \"Algorithm\": \"PCA\"}, \"StartTime\": 1587952014.291367}\n",
      "\u001b[0m\n",
      "\u001b[34m[04/27/2020 01:46:56 INFO 140291171944256] #progress_metric: host=algo-1, completed 100 % of epochs\u001b[0m\n",
      "\u001b[34m#metrics {\"Metrics\": {\"Max Batches Seen Between Resets\": {\"count\": 1, \"max\": 1783, \"sum\": 1783.0, \"min\": 1783}, \"Number of Batches Since Last Reset\": {\"count\": 1, \"max\": 1783, \"sum\": 1783.0, \"min\": 1783}, \"Number of Records Since Last Reset\": {\"count\": 1, \"max\": 891221, \"sum\": 891221.0, \"min\": 891221}, \"Total Batches Seen\": {\"count\": 1, \"max\": 1783, \"sum\": 1783.0, \"min\": 1783}, \"Total Records Seen\": {\"count\": 1, \"max\": 891221, \"sum\": 891221.0, \"min\": 891221}, \"Max Records Seen Between Resets\": {\"count\": 1, \"max\": 891221, \"sum\": 891221.0, \"min\": 891221}, \"Reset Count\": {\"count\": 1, \"max\": 1, \"sum\": 1.0, \"min\": 1}}, \"EndTime\": 1587952016.045083, \"Dimensions\": {\"Host\": \"algo-1\", \"Meta\": \"training_data_iter\", \"Operation\": \"training\", \"Algorithm\": \"PCA\", \"epoch\": 0}, \"StartTime\": 1587952014.296075}\n",
      "\u001b[0m\n",
      "\u001b[34m[04/27/2020 01:46:56 INFO 140291171944256] #throughput_metric: host=algo-1, train throughput=509517.792009 records/second\u001b[0m\n",
      "\u001b[34m#metrics {\"Metrics\": {\"finalize.time\": {\"count\": 1, \"max\": 19.63496208190918, \"sum\": 19.63496208190918, \"min\": 19.63496208190918}}, \"EndTime\": 1587952016.065077, \"Dimensions\": {\"Host\": \"algo-1\", \"Operation\": \"training\", \"Algorithm\": \"PCA\"}, \"StartTime\": 1587952016.044653}\n",
      "\u001b[0m\n",
      "\u001b[34m[04/27/2020 01:46:56 INFO 140291171944256] Test data is not provided.\u001b[0m\n",
      "\u001b[34m#metrics {\"Metrics\": {\"totaltime\": {\"count\": 1, \"max\": 3243.3600425720215, \"sum\": 3243.3600425720215, \"min\": 3243.3600425720215}, \"setuptime\": {\"count\": 1, \"max\": 568.7198638916016, \"sum\": 568.7198638916016, \"min\": 568.7198638916016}}, \"EndTime\": 1587952016.086283, \"Dimensions\": {\"Host\": \"algo-1\", \"Operation\": \"training\", \"Algorithm\": \"PCA\"}, \"StartTime\": 1587952016.065123}\n",
      "\u001b[0m\n",
      "Training seconds: 49\n",
      "Billable seconds: 49\n"
     ]
    }
   ],
   "source": [
    "pca.fit(formatted_train_data)"
   ]
  },
  {
   "cell_type": "code",
   "execution_count": null,
   "metadata": {},
   "outputs": [],
   "source": []
  },
  {
   "cell_type": "code",
   "execution_count": 12,
   "metadata": {},
   "outputs": [
    {
     "name": "stdout",
     "output_type": "stream",
     "text": [
      "pca/pca-2020-04-27-01-44-07-956/output/model.tar.gz\n"
     ]
    },
    {
     "data": {
      "text/plain": [
       "2304"
      ]
     },
     "execution_count": 12,
     "metadata": {},
     "output_type": "execute_result"
    }
   ],
   "source": [
    "#get from AWS console\n",
    "training_job_name = 'pca-2020-04-27-01-44-07-956'\n",
    "model_key = os.path.join(prefix, training_job_name, 'output/model.tar.gz')\n",
    "print(model_key)\n",
    "\n",
    "boto3.resource('s3').Bucket(bucket).download_file(model_key, 'model.tar.gz')\n",
    "\n",
    "os.system('tar -zxvf model.tar.gz')\n",
    "os.system('unzip model_algo-1')"
   ]
  },
  {
   "cell_type": "code",
   "execution_count": 13,
   "metadata": {},
   "outputs": [],
   "source": [
    "import mxnet as mx\n",
    "\n",
    "pca_model_params = mx.ndarray.load('model_algo-1')\n",
    "# kmeans_numpy = pca_model_params[0].asnumpy()\n",
    "# distortions = sum(np.min(cdist(formatted_train_data, kmeans_numpy, 'euclidian')))\n",
    "# print(distortions)\n"
   ]
  },
  {
   "cell_type": "code",
   "execution_count": 19,
   "metadata": {},
   "outputs": [
    {
     "name": "stdout",
     "output_type": "stream",
     "text": [
      "             0\n",
      "6   587.926880\n",
      "7   808.306152\n",
      "8   878.501404\n",
      "9  1095.519653\n"
     ]
    }
   ],
   "source": [
    "#mean - mean subtracted from a component in order to center it\n",
    "#v - makeup of the principal component (same as components_)\n",
    "#s - singular values of the components for the PCA transformation, % of variance from the projected future space\n",
    "\n",
    "#explained-variance-ratio ~= square(s) / sum(square(s))\n",
    "\n",
    "s=pd.DataFrame(pca_model_params['s'].asnumpy())\n",
    "v=pd.DataFrame(pca_model_params['v'].asnumpy())\n",
    "\n",
    "n_principal_components = 4\n",
    "\n",
    "start_idx = N_COMPONENTS - n_principal_components\n",
    "\n",
    "print(s.iloc[start_idx:])"
   ]
  },
  {
   "cell_type": "code",
   "execution_count": 20,
   "metadata": {},
   "outputs": [],
   "source": [
    "#what is the smallest number or principal comonents that captures at least 80% of the\n",
    "#total variance in the dataset?\n",
    "\n",
    "def explained_variance(s, n_top_components):\n",
    "    exp_variance = np.square(s.iloc[start_idx:]).sum() / np.square(s).sum()\n",
    "    return exp_variance"
   ]
  },
  {
   "cell_type": "code",
   "execution_count": 21,
   "metadata": {},
   "outputs": [
    {
     "name": "stdout",
     "output_type": "stream",
     "text": [
      "0    0.763119\n",
      "dtype: float32\n"
     ]
    }
   ],
   "source": [
    "n_top_components = 10\n",
    "exp_variance = explained_variance(s, n_top_components)\n",
    "print(exp_variance)"
   ]
  },
  {
   "cell_type": "code",
   "execution_count": 22,
   "metadata": {},
   "outputs": [],
   "source": [
    "import seaborn as sns\n",
    "\n",
    "def display_component(v, features_list, component_num, n_weights=10):\n",
    "        row_idx = N_COMPONENTS-component_num\n",
    "        v_l_row = v.iloc[:, row_idx]\n",
    "        v_1 = np.squeeze(v_l_row.values)\n",
    "        \n",
    "        compos = pd.DataFrame(list(zip(v_1, features_list)), columns=['weights', 'features'])\n",
    "        \n",
    "        # get absolute value\n",
    "        #weights can be neg/pos and we'll sort by magnitude\n",
    "        \n",
    "        compos['abs_weights'] = compos['weights'].apply(lambda x: abs(x))\n",
    "        sorted_compos = compos.sort_values('abs_weights', ascending=False).head(n_weights)\n",
    "        print(sorted_compos)\n",
    "        \n",
    "        ax=plt.subplots(figsize=(10,6))\n",
    "        ax=sns.barplot(data=sorted_compos, x=\"weights\", y=\"features\", palette=\"Blues_d\")\n",
    "        ax.set_title(\"PCA Component Makeup Component #{}\".format(component_num))\n",
    "        plt.show()"
   ]
  },
  {
   "cell_type": "code",
   "execution_count": 25,
   "metadata": {},
   "outputs": [
    {
     "name": "stdout",
     "output_type": "stream",
     "text": [
      "     weights                  features  abs_weights\n",
      "29 -0.284604         D19_KONSUMTYP_MAX     0.284604\n",
      "23 -0.265860          D19_GESAMT_DATUM     0.265860\n",
      "25 -0.239023   D19_GESAMT_ONLINE_DATUM     0.239023\n",
      "49 -0.238502         D19_VERSAND_DATUM     0.238502\n",
      "68  0.226424               GEBURTSJAHR     0.226424\n",
      "51 -0.224247  D19_VERSAND_ONLINE_DATUM     0.224247\n",
      "22  0.205994         D19_GESAMT_ANZ_24     0.205994\n",
      "37  0.183869              D19_SONSTIGE     0.183869\n",
      "38  0.175681               D19_TECHNIK     0.175681\n",
      "59  0.173789         D19_VOLLSORTIMENT     0.173789\n",
      "48  0.171369        D19_VERSAND_ANZ_24     0.171369\n",
      "15  0.165757               D19_BUCH_CD     0.165757\n",
      "21  0.144603         D19_GESAMT_ANZ_12     0.144603\n",
      "27  0.140930             D19_HAUS_DEKO     0.140930\n",
      "12  0.139139       D19_BEKLEIDUNG_REST     0.139139\n",
      "58  0.131372        D19_VERSICHERUNGEN     0.131372\n",
      "30  0.120456              D19_KOSMETIK     0.120456\n",
      "28  0.118430         D19_KINDERARTIKEL     0.118430\n",
      "47  0.116591        D19_VERSAND_ANZ_12     0.116591\n",
      "34  0.114791                D19_REISEN     0.114791\n",
      "42  0.113194          D19_TELKO_MOBILE     0.113194\n",
      "89  0.111197                  VERS_TYP     0.111197\n",
      "69  0.110543          GREEN_AVANTGARDE     0.110543\n",
      "52  0.109789          D19_VERSAND_REST     0.109789\n",
      "70  0.108063                HEALTH_TYP     0.108063\n"
     ]
    },
    {
     "data": {
      "image/png": "[encoded data removed]",
      "text/plain": [
       "<Figure size 720x432 with 1 Axes>"
      ]
     },
     "metadata": {},
     "output_type": "display_data"
    }
   ],
   "source": [
    "display_component(v, df.columns.values, component_num=1, n_weights=25)"
   ]
  },
  {
   "cell_type": "code",
   "execution_count": null,
   "metadata": {},
   "outputs": [],
   "source": [
    "training_job_name = pca.latest_training_job.name\n",
    "training_job_name"
   ]
  },
  {
   "cell_type": "code",
   "execution_count": null,
   "metadata": {},
   "outputs": [],
   "source": [
    "attached_estimator = pca.attach(training_job_name)"
   ]
  },
  {
   "cell_type": "code",
   "execution_count": null,
   "metadata": {},
   "outputs": [],
   "source": [
    "%%time\n",
    "\n",
    "# pca_predictor = pca.deploy(initial_instance_count=1, instance_type='ml.t2.medium')\n",
    "pca_predictor = attached_estimator.deploy(initial_instance_count=1, instance_type='ml.t2.medium')"
   ]
  },
  {
   "cell_type": "code",
   "execution_count": null,
   "metadata": {},
   "outputs": [],
   "source": [
    "%%time\n",
    "\n",
    "#try chunking data to PCA endpoint\n",
    "train_pca = []\n",
    "\n",
    "for chunk in np.array_split(train_data_np, 5000):\n",
    "    train_pca.append(pca_predictor.predict(chunk))"
   ]
  },
  {
   "cell_type": "code",
   "execution_count": null,
   "metadata": {},
   "outputs": [],
   "source": [
    "flattened_train_pca = [list for sublist in train_pca for list in sublist]\n",
    "del train_pca"
   ]
  },
  {
   "cell_type": "code",
   "execution_count": null,
   "metadata": {},
   "outputs": [],
   "source": [
    "def create_transformed_df(flattened_train_pca, scaled_df, n_top_components):\n",
    "    start_idx = N_COMPONENTS - n_top_components\n",
    "    new_values = [x.label['projection'].float32_tensor.values for x in flattened_train_pca]\n",
    "    df = pd.DataFrame(index=scaled_df.index.values, data=new_values)\n",
    "    \n",
    "    top_components = df.iloc[:,start_idx:]\n",
    "    return top_components.iloc[:,::-1]"
   ]
  },
  {
   "cell_type": "code",
   "execution_count": null,
   "metadata": {},
   "outputs": [],
   "source": [
    "flattened_train_pca = flattened_train_pca[:-1]\n",
    "len(flattened_train_pca)"
   ]
  },
  {
   "cell_type": "code",
   "execution_count": null,
   "metadata": {},
   "outputs": [],
   "source": [
    "df = df[:-1]\n",
    "df.shape[0]"
   ]
  },
  {
   "cell_type": "code",
   "execution_count": null,
   "metadata": {},
   "outputs": [],
   "source": [
    "len(flattened_train_pca) == df.shape[0]"
   ]
  },
  {
   "cell_type": "code",
   "execution_count": null,
   "metadata": {},
   "outputs": [],
   "source": [
    "import numpy as np\n",
    "set1, set2, set3, set4 = np.array_split(flattened_train_pca, 4)"
   ]
  },
  {
   "cell_type": "code",
   "execution_count": null,
   "metadata": {},
   "outputs": [],
   "source": [
    "print(len(set1))\n",
    "print(len(set2))\n",
    "print(len(set3))\n",
    "print(len(set4))"
   ]
  },
  {
   "cell_type": "code",
   "execution_count": null,
   "metadata": {
    "scrolled": false
   },
   "outputs": [],
   "source": [
    "%%time\n",
    "\n",
    "import math\n",
    "start_idx = 668415\n",
    "end_idx = 891220\n",
    "chunk_num = 4\n",
    "\n",
    "top_n=5\n",
    "cols = ['c1', 'c2', 'c3', 'c4', 'c5']\n",
    "\n",
    "\n",
    "print('beginning', start_idx, end_idx)\n",
    "print('scaled df index values: %.2d and x shape %.2d' % (df.iloc[start_idx:end_idx].shape[0], set1.shape[0]))\n",
    "print()\n",
    "df_transformed = create_transformed_df(set1, df.iloc[start_idx:end_idx], n_top_components=top_n)\n",
    "df_transformed.columns = cols\n",
    "\n",
    "file_name = '{}_transformed.csv'.format(chunk_num)\n",
    "print(file_name)\n",
    "df_transformed.to_csv(file_name)"
   ]
  },
  {
   "cell_type": "code",
   "execution_count": null,
   "metadata": {},
   "outputs": [],
   "source": [
    "print(df.iloc[0:222805].shape[0])\n",
    "print(df.iloc[222805:445610].shape[0])\n",
    "print(df.iloc[445610:668415].shape[0])\n",
    "print(df.iloc[668415:891220].shape[0])\n",
    "print(df.shape[0])"
   ]
  },
  {
   "cell_type": "code",
   "execution_count": null,
   "metadata": {},
   "outputs": [],
   "source": [
    "len(flattened_train_pca)"
   ]
  },
  {
   "cell_type": "code",
   "execution_count": null,
   "metadata": {},
   "outputs": [],
   "source": [
    "session.delete_endpoint(pca_predictor.endpoint)"
   ]
  },
  {
   "cell_type": "markdown",
   "metadata": {},
   "source": [
    "### KMeans Training"
   ]
  },
  {
   "cell_type": "code",
   "execution_count": null,
   "metadata": {},
   "outputs": [],
   "source": [
    "df1_transformed = pd.read_csv('1_transformed.csv')"
   ]
  },
  {
   "cell_type": "code",
   "execution_count": null,
   "metadata": {},
   "outputs": [],
   "source": [
    "df2_transformed = pd.read_csv('2_transformed.csv')"
   ]
  },
  {
   "cell_type": "code",
   "execution_count": null,
   "metadata": {},
   "outputs": [],
   "source": [
    "df3_transformed = pd.read_csv('3_transformed.csv')"
   ]
  },
  {
   "cell_type": "code",
   "execution_count": null,
   "metadata": {},
   "outputs": [],
   "source": [
    "df4_transformed = pd.read_csv('4_transformed.csv')"
   ]
  },
  {
   "cell_type": "code",
   "execution_count": null,
   "metadata": {},
   "outputs": [],
   "source": [
    "df1_transformed = df1_transformed.append(df4_transformed)\n",
    "print(df1_transformed.shape[0])\n",
    "\n",
    "del df4_transformed"
   ]
  },
  {
   "cell_type": "code",
   "execution_count": null,
   "metadata": {},
   "outputs": [],
   "source": [
    "df1_transformed = df1_transformed.drop('Unnamed: 0', axis=1)\n",
    "df1_transformed.head()"
   ]
  },
  {
   "cell_type": "code",
   "execution_count": null,
   "metadata": {},
   "outputs": [],
   "source": [
    "# KMeans\n",
    "\n",
    "from sagemaker import KMeans\n",
    "\n",
    "prefix = 'segmentation'\n",
    "output_path = 's3://{}/{}/'.format(bucket, prefix)\n",
    "print(output_path)"
   ]
  },
  {
   "cell_type": "code",
   "execution_count": null,
   "metadata": {},
   "outputs": [],
   "source": [
    "kmeans = KMeans(\n",
    "    role=role,\n",
    "    train_instance_count=1,\n",
    "    train_instance_type='ml.c4.xlarge',\n",
    "    output_path=output_path,\n",
    "    sagemaker_session=session,\n",
    "    k=8\n",
    ")"
   ]
  },
  {
   "cell_type": "code",
   "execution_count": null,
   "metadata": {},
   "outputs": [],
   "source": [
    "%%time\n",
    "train_data_np = df1_transformed.values.astype('float32')\n",
    "formatted_train_data = kmeans.record_set(train_data_np)"
   ]
  },
  {
   "cell_type": "code",
   "execution_count": null,
   "metadata": {},
   "outputs": [],
   "source": [
    "%%time\n",
    "kmeans.fit(formatted_train_data, logs=True)"
   ]
  },
  {
   "cell_type": "code",
   "execution_count": null,
   "metadata": {},
   "outputs": [],
   "source": [
    "print(kmeans)"
   ]
  },
  {
   "cell_type": "code",
   "execution_count": null,
   "metadata": {},
   "outputs": [],
   "source": [
    "%%time\n",
    "kmeans_predictor = kmeans.deploy(initial_instance_count=1, instance_type='ml.t2.medium')"
   ]
  },
  {
   "cell_type": "code",
   "execution_count": null,
   "metadata": {},
   "outputs": [],
   "source": [
    "%%time\n",
    "\n",
    "#try chunking data to PCA endpoint\n",
    "cluster_info = []\n",
    "\n",
    "#is this appending as expected?\n",
    "\n",
    "for chunk in np.array_split(train_data_np, 2000):\n",
    "    cluster_info.append(kmeans_predictor.predict(chunk))"
   ]
  },
  {
   "cell_type": "code",
   "execution_count": null,
   "metadata": {},
   "outputs": [],
   "source": [
    "len(cluster_info)"
   ]
  },
  {
   "cell_type": "code",
   "execution_count": null,
   "metadata": {},
   "outputs": [],
   "source": [
    "#explore clusters\n",
    "data_idx = 1\n",
    "\n",
    "# print(df1_transformed.index[data_idx])\n",
    "# cluster_info[data_idx]"
   ]
  },
  {
   "cell_type": "code",
   "execution_count": null,
   "metadata": {},
   "outputs": [],
   "source": [
    "flattened_cluster_info = [list for sublist in cluster_info for list in sublist]"
   ]
  },
  {
   "cell_type": "code",
   "execution_count": null,
   "metadata": {},
   "outputs": [],
   "source": [
    "len(flattened_cluster_info)"
   ]
  },
  {
   "cell_type": "code",
   "execution_count": null,
   "metadata": {},
   "outputs": [],
   "source": [
    "flattened_cluster_info[:1]"
   ]
  },
  {
   "cell_type": "code",
   "execution_count": null,
   "metadata": {},
   "outputs": [],
   "source": [
    "cluster_labels = [c.label['closest_cluster'].float32_tensor.values[0] for c in flattened_cluster_info]"
   ]
  },
  {
   "cell_type": "code",
   "execution_count": null,
   "metadata": {},
   "outputs": [],
   "source": [
    "cluster_df = pd.DataFrame(cluster_labels)[0].value_counts()\n",
    "cluster_df.to_csv('german_cluster_df_6.csv')\n",
    "print('Cluster Membership')\n",
    "print(cluster_df)"
   ]
  },
  {
   "cell_type": "code",
   "execution_count": null,
   "metadata": {},
   "outputs": [],
   "source": []
  },
  {
   "cell_type": "code",
   "execution_count": null,
   "metadata": {},
   "outputs": [],
   "source": [
    "session.delete_endpoint(kmeans_predictor.endpoint)"
   ]
  },
  {
   "cell_type": "code",
   "execution_count": null,
   "metadata": {},
   "outputs": [],
   "source": []
  }
 ],
 "metadata": {
  "kernelspec": {
   "display_name": "conda_amazonei_mxnet_p36",
   "language": "python",
   "name": "conda_amazonei_mxnet_p36"
  },
  "language_info": {
   "codemirror_mode": {
    "name": "ipython",
    "version": 3
   },
   "file_extension": ".py",
   "mimetype": "text/x-python",
   "name": "python",
   "nbconvert_exporter": "python",
   "pygments_lexer": "ipython3",
   "version": "3.6.5"
  }
 },
 "nbformat": 4,
 "nbformat_minor": 4
}
