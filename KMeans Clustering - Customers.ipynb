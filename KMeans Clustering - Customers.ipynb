{
 "cells": [
  {
   "cell_type": "code",
   "execution_count": 1,
   "metadata": {},
   "outputs": [],
   "source": [
    "import io\n",
    "import os\n",
    "import matplotlib.pyplot as plt\n",
    "import pandas as pd\n",
    "import numpy as np\n",
    "\n",
    "import boto3\n",
    "import sagemaker\n",
    "from sagemaker import get_execution_role, PCA"
   ]
  },
  {
   "cell_type": "code",
   "execution_count": 2,
   "metadata": {},
   "outputs": [
    {
     "name": "stdout",
     "output_type": "stream",
     "text": [
      "<sagemaker.session.Session object at 0x7feb5cb60be0>\n",
      "arn:aws:iam::240038582877:role/service-role/AmazonSageMaker-ExecutionRole-20191028T202433\n"
     ]
    }
   ],
   "source": [
    "session = sagemaker.Session()\n",
    "print(session)\n",
    "\n",
    "role = get_execution_role()\n",
    "print(role)\n",
    "\n",
    "bucket = session.default_bucket()"
   ]
  },
  {
   "cell_type": "markdown",
   "metadata": {},
   "source": [
    "### Customers"
   ]
  },
  {
   "cell_type": "code",
   "execution_count": 3,
   "metadata": {},
   "outputs": [],
   "source": [
    "# load data\n",
    "prefix = 'segmentation'\n",
    "\n",
    "data_key= prefix + '/customers_scaled.csv'\n",
    "data_location = 's3://{}/{}'.format(bucket, data_key)"
   ]
  },
  {
   "cell_type": "code",
   "execution_count": 4,
   "metadata": {},
   "outputs": [
    {
     "name": "stdout",
     "output_type": "stream",
     "text": [
      "(191652, 94)\n"
     ]
    }
   ],
   "source": [
    "tmp_list = []\n",
    "\n",
    "for chunk in pd.read_csv(data_location, chunksize=100000):\n",
    "    tmp_list.append(chunk)\n",
    "    \n",
    "df = pd.concat(tmp_list, axis=0).drop(['Unnamed: 0'], axis=1)\n",
    "print(df.shape)\n",
    "del tmp_list"
   ]
  },
  {
   "cell_type": "code",
   "execution_count": 5,
   "metadata": {},
   "outputs": [
    {
     "data": {
      "text/html": [
       "<div>\n",
       "<style scoped>\n",
       "    .dataframe tbody tr th:only-of-type {\n",
       "        vertical-align: middle;\n",
       "    }\n",
       "\n",
       "    .dataframe tbody tr th {\n",
       "        vertical-align: top;\n",
       "    }\n",
       "\n",
       "    .dataframe thead th {\n",
       "        text-align: right;\n",
       "    }\n",
       "</style>\n",
       "<table border=\"1\" class=\"dataframe\">\n",
       "  <thead>\n",
       "    <tr style=\"text-align: right;\">\n",
       "      <th></th>\n",
       "      <th>LNR</th>\n",
       "      <th>AGER_TYP</th>\n",
       "      <th>D19_BANKEN_ANZ_12</th>\n",
       "      <th>D19_BANKEN_ANZ_24</th>\n",
       "      <th>D19_BANKEN_DATUM</th>\n",
       "      <th>D19_BANKEN_DIREKT</th>\n",
       "      <th>D19_BANKEN_GROSS</th>\n",
       "      <th>D19_BANKEN_LOKAL</th>\n",
       "      <th>D19_BANKEN_OFFLINE_DATUM</th>\n",
       "      <th>D19_BANKEN_ONLINE_DATUM</th>\n",
       "      <th>...</th>\n",
       "      <th>SEMIO_REL</th>\n",
       "      <th>SEMIO_SOZ</th>\n",
       "      <th>SEMIO_TRADV</th>\n",
       "      <th>SEMIO_VERT</th>\n",
       "      <th>SHOPPER_TYP</th>\n",
       "      <th>VERS_TYP</th>\n",
       "      <th>ZABEOTYP</th>\n",
       "      <th>ONLINE_PURCHASE</th>\n",
       "      <th>ANREDE_KZ</th>\n",
       "      <th>ALTERSKATEGORIE_GROB</th>\n",
       "    </tr>\n",
       "  </thead>\n",
       "  <tbody>\n",
       "    <tr>\n",
       "      <th>0</th>\n",
       "      <td>0.050221</td>\n",
       "      <td>0.75</td>\n",
       "      <td>0.000000</td>\n",
       "      <td>0.000000</td>\n",
       "      <td>1.000000</td>\n",
       "      <td>0.000000</td>\n",
       "      <td>0.000000</td>\n",
       "      <td>0.000000</td>\n",
       "      <td>1.0</td>\n",
       "      <td>1.000000</td>\n",
       "      <td>...</td>\n",
       "      <td>0.166667</td>\n",
       "      <td>0.833333</td>\n",
       "      <td>0.0</td>\n",
       "      <td>0.833333</td>\n",
       "      <td>1.00</td>\n",
       "      <td>0.666667</td>\n",
       "      <td>0.4</td>\n",
       "      <td>0.0</td>\n",
       "      <td>0.0</td>\n",
       "      <td>0.375</td>\n",
       "    </tr>\n",
       "    <tr>\n",
       "      <th>1</th>\n",
       "      <td>0.050232</td>\n",
       "      <td>0.00</td>\n",
       "      <td>0.000000</td>\n",
       "      <td>0.166667</td>\n",
       "      <td>0.555556</td>\n",
       "      <td>0.000000</td>\n",
       "      <td>0.833333</td>\n",
       "      <td>0.000000</td>\n",
       "      <td>1.0</td>\n",
       "      <td>1.000000</td>\n",
       "      <td>...</td>\n",
       "      <td>0.166667</td>\n",
       "      <td>0.333333</td>\n",
       "      <td>0.0</td>\n",
       "      <td>1.000000</td>\n",
       "      <td>1.00</td>\n",
       "      <td>0.666667</td>\n",
       "      <td>0.4</td>\n",
       "      <td>0.0</td>\n",
       "      <td>0.0</td>\n",
       "      <td>0.375</td>\n",
       "    </tr>\n",
       "    <tr>\n",
       "      <th>2</th>\n",
       "      <td>0.750693</td>\n",
       "      <td>0.00</td>\n",
       "      <td>0.000000</td>\n",
       "      <td>0.000000</td>\n",
       "      <td>1.000000</td>\n",
       "      <td>0.000000</td>\n",
       "      <td>0.000000</td>\n",
       "      <td>0.000000</td>\n",
       "      <td>1.0</td>\n",
       "      <td>1.000000</td>\n",
       "      <td>...</td>\n",
       "      <td>0.000000</td>\n",
       "      <td>0.166667</td>\n",
       "      <td>0.0</td>\n",
       "      <td>0.333333</td>\n",
       "      <td>0.50</td>\n",
       "      <td>1.000000</td>\n",
       "      <td>0.4</td>\n",
       "      <td>0.0</td>\n",
       "      <td>1.0</td>\n",
       "      <td>0.375</td>\n",
       "    </tr>\n",
       "    <tr>\n",
       "      <th>3</th>\n",
       "      <td>0.750698</td>\n",
       "      <td>0.50</td>\n",
       "      <td>0.000000</td>\n",
       "      <td>0.000000</td>\n",
       "      <td>1.000000</td>\n",
       "      <td>0.000000</td>\n",
       "      <td>0.000000</td>\n",
       "      <td>0.000000</td>\n",
       "      <td>1.0</td>\n",
       "      <td>1.000000</td>\n",
       "      <td>...</td>\n",
       "      <td>0.333333</td>\n",
       "      <td>0.833333</td>\n",
       "      <td>0.5</td>\n",
       "      <td>1.000000</td>\n",
       "      <td>0.25</td>\n",
       "      <td>0.666667</td>\n",
       "      <td>0.0</td>\n",
       "      <td>0.0</td>\n",
       "      <td>0.0</td>\n",
       "      <td>0.375</td>\n",
       "    </tr>\n",
       "    <tr>\n",
       "      <th>4</th>\n",
       "      <td>0.750703</td>\n",
       "      <td>0.00</td>\n",
       "      <td>0.166667</td>\n",
       "      <td>0.333333</td>\n",
       "      <td>0.222222</td>\n",
       "      <td>0.714286</td>\n",
       "      <td>0.000000</td>\n",
       "      <td>0.428571</td>\n",
       "      <td>1.0</td>\n",
       "      <td>0.666667</td>\n",
       "      <td>...</td>\n",
       "      <td>0.500000</td>\n",
       "      <td>0.500000</td>\n",
       "      <td>0.5</td>\n",
       "      <td>0.666667</td>\n",
       "      <td>0.50</td>\n",
       "      <td>1.000000</td>\n",
       "      <td>0.0</td>\n",
       "      <td>0.0</td>\n",
       "      <td>0.0</td>\n",
       "      <td>0.250</td>\n",
       "    </tr>\n",
       "  </tbody>\n",
       "</table>\n",
       "<p>5 rows × 94 columns</p>\n",
       "</div>"
      ],
      "text/plain": [
       "        LNR  AGER_TYP  D19_BANKEN_ANZ_12  D19_BANKEN_ANZ_24  D19_BANKEN_DATUM  \\\n",
       "0  0.050221      0.75           0.000000           0.000000          1.000000   \n",
       "1  0.050232      0.00           0.000000           0.166667          0.555556   \n",
       "2  0.750693      0.00           0.000000           0.000000          1.000000   \n",
       "3  0.750698      0.50           0.000000           0.000000          1.000000   \n",
       "4  0.750703      0.00           0.166667           0.333333          0.222222   \n",
       "\n",
       "   D19_BANKEN_DIREKT  D19_BANKEN_GROSS  D19_BANKEN_LOKAL  \\\n",
       "0           0.000000          0.000000          0.000000   \n",
       "1           0.000000          0.833333          0.000000   \n",
       "2           0.000000          0.000000          0.000000   \n",
       "3           0.000000          0.000000          0.000000   \n",
       "4           0.714286          0.000000          0.428571   \n",
       "\n",
       "   D19_BANKEN_OFFLINE_DATUM  D19_BANKEN_ONLINE_DATUM  ...  SEMIO_REL  \\\n",
       "0                       1.0                 1.000000  ...   0.166667   \n",
       "1                       1.0                 1.000000  ...   0.166667   \n",
       "2                       1.0                 1.000000  ...   0.000000   \n",
       "3                       1.0                 1.000000  ...   0.333333   \n",
       "4                       1.0                 0.666667  ...   0.500000   \n",
       "\n",
       "   SEMIO_SOZ  SEMIO_TRADV  SEMIO_VERT  SHOPPER_TYP  VERS_TYP  ZABEOTYP  \\\n",
       "0   0.833333          0.0    0.833333         1.00  0.666667       0.4   \n",
       "1   0.333333          0.0    1.000000         1.00  0.666667       0.4   \n",
       "2   0.166667          0.0    0.333333         0.50  1.000000       0.4   \n",
       "3   0.833333          0.5    1.000000         0.25  0.666667       0.0   \n",
       "4   0.500000          0.5    0.666667         0.50  1.000000       0.0   \n",
       "\n",
       "   ONLINE_PURCHASE  ANREDE_KZ  ALTERSKATEGORIE_GROB  \n",
       "0              0.0        0.0                 0.375  \n",
       "1              0.0        0.0                 0.375  \n",
       "2              0.0        1.0                 0.375  \n",
       "3              0.0        0.0                 0.375  \n",
       "4              0.0        0.0                 0.250  \n",
       "\n",
       "[5 rows x 94 columns]"
      ]
     },
     "execution_count": 5,
     "metadata": {},
     "output_type": "execute_result"
    }
   ],
   "source": [
    "df.head()"
   ]
  },
  {
   "cell_type": "code",
   "execution_count": 6,
   "metadata": {},
   "outputs": [
    {
     "data": {
      "text/plain": [
       "'s3://sagemaker-us-east-2-240038582877/pca/'"
      ]
     },
     "execution_count": 6,
     "metadata": {},
     "output_type": "execute_result"
    }
   ],
   "source": [
    "# prepare space to store model artifacts\n",
    "prefix = 'pca'\n",
    "output_path = 's3://{}/{}/'.format(bucket, prefix)\n",
    "output_path"
   ]
  },
  {
   "cell_type": "code",
   "execution_count": 7,
   "metadata": {},
   "outputs": [],
   "source": [
    "N_COMPONENTS = 10\n",
    "pca = PCA(role=role,\n",
    "          train_instance_count=1,\n",
    "          train_instance_type='ml.c4.xlarge',\n",
    "          output_path=output_path,\n",
    "          num_components=N_COMPONENTS,\n",
    "          sagemaker_session=session)"
   ]
  },
  {
   "cell_type": "code",
   "execution_count": 8,
   "metadata": {},
   "outputs": [],
   "source": [
    "#must convert to RecordSet for built in sagemaker models\n",
    "\n",
    "#convert df to np array (pass this to the deployed PCA model later)\n",
    "train_data_np = df.values.astype('float32')\n",
    "\n",
    "#convert to RecordSet format\n",
    "formatted_train_data = pca.record_set(train_data_np)"
   ]
  },
  {
   "cell_type": "code",
   "execution_count": 9,
   "metadata": {},
   "outputs": [
    {
     "name": "stdout",
     "output_type": "stream",
     "text": [
      "2020-04-21 00:45:29 Starting - Starting the training job...\n",
      "2020-04-21 00:45:30 Starting - Launching requested ML instances...\n",
      "2020-04-21 00:46:27 Starting - Preparing the instances for training.........\n",
      "2020-04-21 00:47:52 Downloading - Downloading input data\n",
      "2020-04-21 00:47:52 Training - Downloading the training image..\u001b[34mDocker entrypoint called with argument(s): train\u001b[0m\n",
      "\u001b[34mRunning default environment configuration script\u001b[0m\n",
      "\u001b[34m[04/21/2020 00:48:09 INFO 140720273946432] Reading default configuration from /opt/amazon/lib/python2.7/site-packages/algorithm/resources/default-conf.json: {u'_num_gpus': u'auto', u'_log_level': u'info', u'subtract_mean': u'true', u'force_dense': u'true', u'epochs': 1, u'algorithm_mode': u'regular', u'extra_components': u'-1', u'_kvstore': u'dist_sync', u'_num_kv_servers': u'auto'}\u001b[0m\n",
      "\u001b[34m[04/21/2020 00:48:09 INFO 140720273946432] Reading provided configuration from /opt/ml/input/config/hyperparameters.json: {u'feature_dim': u'94', u'mini_batch_size': u'500', u'num_components': u'10'}\u001b[0m\n",
      "\u001b[34m[04/21/2020 00:48:09 INFO 140720273946432] Final configuration: {u'num_components': u'10', u'_num_gpus': u'auto', u'_log_level': u'info', u'subtract_mean': u'true', u'force_dense': u'true', u'epochs': 1, u'algorithm_mode': u'regular', u'feature_dim': u'94', u'extra_components': u'-1', u'_kvstore': u'dist_sync', u'_num_kv_servers': u'auto', u'mini_batch_size': u'500'}\u001b[0m\n",
      "\u001b[34m[04/21/2020 00:48:09 WARNING 140720273946432] Loggers have already been setup.\u001b[0m\n",
      "\u001b[34m[04/21/2020 00:48:09 INFO 140720273946432] Launching parameter server for role scheduler\u001b[0m\n",
      "\u001b[34m[04/21/2020 00:48:09 INFO 140720273946432] {'ECS_CONTAINER_METADATA_URI': 'http://169.254.170.2/v3/485aa014-939f-4584-b566-24febf663659', 'PROTOCOL_BUFFERS_PYTHON_IMPLEMENTATION_VERSION': '2', 'PATH': '/opt/amazon/bin:/usr/local/nvidia/bin:/usr/local/sbin:/usr/local/bin:/usr/sbin:/usr/bin:/sbin:/bin:/opt/amazon/bin:/opt/amazon/bin', 'SAGEMAKER_HTTP_PORT': '8080', 'HOME': '/root', 'PYTHONUNBUFFERED': 'TRUE', 'CANONICAL_ENVROOT': '/opt/amazon', 'LD_LIBRARY_PATH': '/opt/amazon/lib/python2.7/site-packages/cv2/../../../../lib:/usr/local/nvidia/lib64:/opt/amazon/lib', 'LANG': 'en_US.utf8', 'DMLC_INTERFACE': 'eth0', 'SHLVL': '1', 'AWS_REGION': 'us-east-2', 'NVIDIA_VISIBLE_DEVICES': 'void', 'TRAINING_JOB_NAME': 'pca-2020-04-21-00-45-29-356', 'PROTOCOL_BUFFERS_PYTHON_IMPLEMENTATION': 'cpp', 'ENVROOT': '/opt/amazon', 'SAGEMAKER_DATA_PATH': '/opt/ml', 'NVIDIA_DRIVER_CAPABILITIES': 'compute,utility', 'NVIDIA_REQUIRE_CUDA': 'cuda>=9.0', 'OMP_NUM_THREADS': '2', 'HOSTNAME': 'ip-10-0-84-126.us-east-2.compute.internal', 'AWS_CONTAINER_CREDENTIALS_RELATIVE_URI': '/v2/credentials/02d5f8d0-f8b3-4135-84a3-3c15f3bdc828', 'PWD': '/', 'TRAINING_JOB_ARN': 'arn:aws:sagemaker:us-east-2:240038582877:training-job/pca-2020-04-21-00-45-29-356', 'AWS_EXECUTION_ENV': 'AWS_ECS_EC2'}\u001b[0m\n",
      "\u001b[34m[04/21/2020 00:48:09 INFO 140720273946432] envs={'ECS_CONTAINER_METADATA_URI': 'http://169.254.170.2/v3/485aa014-939f-4584-b566-24febf663659', 'PROTOCOL_BUFFERS_PYTHON_IMPLEMENTATION_VERSION': '2', 'DMLC_NUM_WORKER': '1', 'DMLC_PS_ROOT_PORT': '9000', 'PATH': '/opt/amazon/bin:/usr/local/nvidia/bin:/usr/local/sbin:/usr/local/bin:/usr/sbin:/usr/bin:/sbin:/bin:/opt/amazon/bin:/opt/amazon/bin', 'SAGEMAKER_HTTP_PORT': '8080', 'HOME': '/root', 'PYTHONUNBUFFERED': 'TRUE', 'CANONICAL_ENVROOT': '/opt/amazon', 'LD_LIBRARY_PATH': '/opt/amazon/lib/python2.7/site-packages/cv2/../../../../lib:/usr/local/nvidia/lib64:/opt/amazon/lib', 'LANG': 'en_US.utf8', 'DMLC_INTERFACE': 'eth0', 'SHLVL': '1', 'DMLC_PS_ROOT_URI': '10.0.84.126', 'AWS_REGION': 'us-east-2', 'NVIDIA_VISIBLE_DEVICES': 'void', 'TRAINING_JOB_NAME': 'pca-2020-04-21-00-45-29-356', 'PROTOCOL_BUFFERS_PYTHON_IMPLEMENTATION': 'cpp', 'ENVROOT': '/opt/amazon', 'SAGEMAKER_DATA_PATH': '/opt/ml', 'NVIDIA_DRIVER_CAPABILITIES': 'compute,utility', 'NVIDIA_REQUIRE_CUDA': 'cuda>=9.0', 'OMP_NUM_THREADS': '2', 'HOSTNAME': 'ip-10-0-84-126.us-east-2.compute.internal', 'AWS_CONTAINER_CREDENTIALS_RELATIVE_URI': '/v2/credentials/02d5f8d0-f8b3-4135-84a3-3c15f3bdc828', 'DMLC_ROLE': 'scheduler', 'PWD': '/', 'DMLC_NUM_SERVER': '1', 'TRAINING_JOB_ARN': 'arn:aws:sagemaker:us-east-2:240038582877:training-job/pca-2020-04-21-00-45-29-356', 'AWS_EXECUTION_ENV': 'AWS_ECS_EC2'}\u001b[0m\n",
      "\u001b[34m[04/21/2020 00:48:09 INFO 140720273946432] Launching parameter server for role server\u001b[0m\n",
      "\u001b[34m[04/21/2020 00:48:09 INFO 140720273946432] {'ECS_CONTAINER_METADATA_URI': 'http://169.254.170.2/v3/485aa014-939f-4584-b566-24febf663659', 'PROTOCOL_BUFFERS_PYTHON_IMPLEMENTATION_VERSION': '2', 'PATH': '/opt/amazon/bin:/usr/local/nvidia/bin:/usr/local/sbin:/usr/local/bin:/usr/sbin:/usr/bin:/sbin:/bin:/opt/amazon/bin:/opt/amazon/bin', 'SAGEMAKER_HTTP_PORT': '8080', 'HOME': '/root', 'PYTHONUNBUFFERED': 'TRUE', 'CANONICAL_ENVROOT': '/opt/amazon', 'LD_LIBRARY_PATH': '/opt/amazon/lib/python2.7/site-packages/cv2/../../../../lib:/usr/local/nvidia/lib64:/opt/amazon/lib', 'LANG': 'en_US.utf8', 'DMLC_INTERFACE': 'eth0', 'SHLVL': '1', 'AWS_REGION': 'us-east-2', 'NVIDIA_VISIBLE_DEVICES': 'void', 'TRAINING_JOB_NAME': 'pca-2020-04-21-00-45-29-356', 'PROTOCOL_BUFFERS_PYTHON_IMPLEMENTATION': 'cpp', 'ENVROOT': '/opt/amazon', 'SAGEMAKER_DATA_PATH': '/opt/ml', 'NVIDIA_DRIVER_CAPABILITIES': 'compute,utility', 'NVIDIA_REQUIRE_CUDA': 'cuda>=9.0', 'OMP_NUM_THREADS': '2', 'HOSTNAME': 'ip-10-0-84-126.us-east-2.compute.internal', 'AWS_CONTAINER_CREDENTIALS_RELATIVE_URI': '/v2/credentials/02d5f8d0-f8b3-4135-84a3-3c15f3bdc828', 'PWD': '/', 'TRAINING_JOB_ARN': 'arn:aws:sagemaker:us-east-2:240038582877:training-job/pca-2020-04-21-00-45-29-356', 'AWS_EXECUTION_ENV': 'AWS_ECS_EC2'}\u001b[0m\n",
      "\u001b[34m[04/21/2020 00:48:09 INFO 140720273946432] envs={'ECS_CONTAINER_METADATA_URI': 'http://169.254.170.2/v3/485aa014-939f-4584-b566-24febf663659', 'PROTOCOL_BUFFERS_PYTHON_IMPLEMENTATION_VERSION': '2', 'DMLC_NUM_WORKER': '1', 'DMLC_PS_ROOT_PORT': '9000', 'PATH': '/opt/amazon/bin:/usr/local/nvidia/bin:/usr/local/sbin:/usr/local/bin:/usr/sbin:/usr/bin:/sbin:/bin:/opt/amazon/bin:/opt/amazon/bin', 'SAGEMAKER_HTTP_PORT': '8080', 'HOME': '/root', 'PYTHONUNBUFFERED': 'TRUE', 'CANONICAL_ENVROOT': '/opt/amazon', 'LD_LIBRARY_PATH': '/opt/amazon/lib/python2.7/site-packages/cv2/../../../../lib:/usr/local/nvidia/lib64:/opt/amazon/lib', 'LANG': 'en_US.utf8', 'DMLC_INTERFACE': 'eth0', 'SHLVL': '1', 'DMLC_PS_ROOT_URI': '10.0.84.126', 'AWS_REGION': 'us-east-2', 'NVIDIA_VISIBLE_DEVICES': 'void', 'TRAINING_JOB_NAME': 'pca-2020-04-21-00-45-29-356', 'PROTOCOL_BUFFERS_PYTHON_IMPLEMENTATION': 'cpp', 'ENVROOT': '/opt/amazon', 'SAGEMAKER_DATA_PATH': '/opt/ml', 'NVIDIA_DRIVER_CAPABILITIES': 'compute,utility', 'NVIDIA_REQUIRE_CUDA': 'cuda>=9.0', 'OMP_NUM_THREADS': '2', 'HOSTNAME': 'ip-10-0-84-126.us-east-2.compute.internal', 'AWS_CONTAINER_CREDENTIALS_RELATIVE_URI': '/v2/credentials/02d5f8d0-f8b3-4135-84a3-3c15f3bdc828', 'DMLC_ROLE': 'server', 'PWD': '/', 'DMLC_NUM_SERVER': '1', 'TRAINING_JOB_ARN': 'arn:aws:sagemaker:us-east-2:240038582877:training-job/pca-2020-04-21-00-45-29-356', 'AWS_EXECUTION_ENV': 'AWS_ECS_EC2'}\u001b[0m\n",
      "\u001b[34m[04/21/2020 00:48:09 INFO 140720273946432] Environment: {'ECS_CONTAINER_METADATA_URI': 'http://169.254.170.2/v3/485aa014-939f-4584-b566-24febf663659', 'PROTOCOL_BUFFERS_PYTHON_IMPLEMENTATION_VERSION': '2', 'DMLC_PS_ROOT_PORT': '9000', 'DMLC_NUM_WORKER': '1', 'SAGEMAKER_HTTP_PORT': '8080', 'PATH': '/opt/amazon/bin:/usr/local/nvidia/bin:/usr/local/sbin:/usr/local/bin:/usr/sbin:/usr/bin:/sbin:/bin:/opt/amazon/bin:/opt/amazon/bin', 'PYTHONUNBUFFERED': 'TRUE', 'CANONICAL_ENVROOT': '/opt/amazon', 'LD_LIBRARY_PATH': '/opt/amazon/lib/python2.7/site-packages/cv2/../../../../lib:/usr/local/nvidia/lib64:/opt/amazon/lib', 'LANG': 'en_US.utf8', 'DMLC_INTERFACE': 'eth0', 'SHLVL': '1', 'DMLC_PS_ROOT_URI': '10.0.84.126', 'AWS_REGION': 'us-east-2', 'NVIDIA_VISIBLE_DEVICES': 'void', 'TRAINING_JOB_NAME': 'pca-2020-04-21-00-45-29-356', 'HOME': '/root', 'PROTOCOL_BUFFERS_PYTHON_IMPLEMENTATION': 'cpp', 'ENVROOT': '/opt/amazon', 'SAGEMAKER_DATA_PATH': '/opt/ml', 'NVIDIA_DRIVER_CAPABILITIES': 'compute,utility', 'NVIDIA_REQUIRE_CUDA': 'cuda>=9.0', 'OMP_NUM_THREADS': '2', 'HOSTNAME': 'ip-10-0-84-126.us-east-2.compute.internal', 'AWS_CONTAINER_CREDENTIALS_RELATIVE_URI': '/v2/credentials/02d5f8d0-f8b3-4135-84a3-3c15f3bdc828', 'DMLC_ROLE': 'worker', 'PWD': '/', 'DMLC_NUM_SERVER': '1', 'TRAINING_JOB_ARN': 'arn:aws:sagemaker:us-east-2:240038582877:training-job/pca-2020-04-21-00-45-29-356', 'AWS_EXECUTION_ENV': 'AWS_ECS_EC2'}\u001b[0m\n",
      "\u001b[34mProcess 61 is a shell:scheduler.\u001b[0m\n",
      "\u001b[34mProcess 70 is a shell:server.\u001b[0m\n",
      "\u001b[34mProcess 1 is a worker.\u001b[0m\n",
      "\u001b[34m[04/21/2020 00:48:09 INFO 140720273946432] Using default worker.\u001b[0m\n",
      "\u001b[34m[04/21/2020 00:48:09 INFO 140720273946432] Loaded iterator creator application/x-recordio-protobuf for content type ('application/x-recordio-protobuf', '1.0')\u001b[0m\n",
      "\u001b[34m[04/21/2020 00:48:09 INFO 140720273946432] Loaded iterator creator application/x-labeled-vector-protobuf for content type ('application/x-labeled-vector-protobuf', '1.0')\u001b[0m\n",
      "\u001b[34m[04/21/2020 00:48:09 INFO 140720273946432] Loaded iterator creator protobuf for content type ('protobuf', '1.0')\u001b[0m\n",
      "\u001b[34m[04/21/2020 00:48:09 INFO 140720273946432] Create Store: dist_sync\u001b[0m\n",
      "\u001b[34m[04/21/2020 00:48:09 INFO 140720273946432] nvidia-smi took: 0.0252530574799 secs to identify 0 gpus\u001b[0m\n",
      "\u001b[34m[04/21/2020 00:48:09 INFO 140720273946432] Number of GPUs being used: 0\u001b[0m\n",
      "\u001b[34m[04/21/2020 00:48:09 INFO 140720273946432] The default executor is <PCAExecutor on cpu(0)>.\u001b[0m\n",
      "\u001b[34m[04/21/2020 00:48:09 INFO 140720273946432] 94 feature(s) found in 'data'.\u001b[0m\n",
      "\u001b[34m[04/21/2020 00:48:09 INFO 140720273946432] <PCAExecutor on cpu(0)> is assigned to batch slice from 0 to 499.\u001b[0m\n",
      "\u001b[34m#metrics {\"Metrics\": {\"initialize.time\": {\"count\": 1, \"max\": 700.537919998169, \"sum\": 700.537919998169, \"min\": 700.537919998169}}, \"EndTime\": 1587430089.980352, \"Dimensions\": {\"Host\": \"algo-1\", \"Operation\": \"training\", \"Algorithm\": \"PCA\"}, \"StartTime\": 1587430089.26528}\n",
      "\u001b[0m\n",
      "\u001b[34m#metrics {\"Metrics\": {\"Max Batches Seen Between Resets\": {\"count\": 1, \"max\": 0, \"sum\": 0.0, \"min\": 0}, \"Number of Batches Since Last Reset\": {\"count\": 1, \"max\": 0, \"sum\": 0.0, \"min\": 0}, \"Number of Records Since Last Reset\": {\"count\": 1, \"max\": 0, \"sum\": 0.0, \"min\": 0}, \"Total Batches Seen\": {\"count\": 1, \"max\": 0, \"sum\": 0.0, \"min\": 0}, \"Total Records Seen\": {\"count\": 1, \"max\": 0, \"sum\": 0.0, \"min\": 0}, \"Max Records Seen Between Resets\": {\"count\": 1, \"max\": 0, \"sum\": 0.0, \"min\": 0}, \"Reset Count\": {\"count\": 1, \"max\": 0, \"sum\": 0.0, \"min\": 0}}, \"EndTime\": 1587430089.980576, \"Dimensions\": {\"Host\": \"algo-1\", \"Meta\": \"init_train_data_iter\", \"Operation\": \"training\", \"Algorithm\": \"PCA\"}, \"StartTime\": 1587430089.980518}\n",
      "\u001b[0m\n",
      "\u001b[34m[2020-04-21 00:48:09.981] [tensorio] [info] epoch_stats={\"data_pipeline\": \"/opt/ml/input/data/train\", \"epoch\": 0, \"duration\": 714, \"num_examples\": 1, \"num_bytes\": 202000}\u001b[0m\n",
      "\u001b[34m[2020-04-21 00:48:10.404] [tensorio] [info] epoch_stats={\"data_pipeline\": \"/opt/ml/input/data/train\", \"epoch\": 1, \"duration\": 413, \"num_examples\": 384, \"num_bytes\": 77427408}\u001b[0m\n",
      "\u001b[34m#metrics {\"Metrics\": {\"epochs\": {\"count\": 1, \"max\": 1, \"sum\": 1.0, \"min\": 1}, \"update.time\": {\"count\": 1, \"max\": 422.9450225830078, \"sum\": 422.9450225830078, \"min\": 422.9450225830078}}, \"EndTime\": 1587430090.404308, \"Dimensions\": {\"Host\": \"algo-1\", \"Operation\": \"training\", \"Algorithm\": \"PCA\"}, \"StartTime\": 1587430089.980449}\n",
      "\u001b[0m\n",
      "\u001b[34m[04/21/2020 00:48:10 INFO 140720273946432] #progress_metric: host=algo-1, completed 100 % of epochs\u001b[0m\n",
      "\u001b[34m#metrics {\"Metrics\": {\"Max Batches Seen Between Resets\": {\"count\": 1, \"max\": 384, \"sum\": 384.0, \"min\": 384}, \"Number of Batches Since Last Reset\": {\"count\": 1, \"max\": 384, \"sum\": 384.0, \"min\": 384}, \"Number of Records Since Last Reset\": {\"count\": 1, \"max\": 191652, \"sum\": 191652.0, \"min\": 191652}, \"Total Batches Seen\": {\"count\": 1, \"max\": 384, \"sum\": 384.0, \"min\": 384}, \"Total Records Seen\": {\"count\": 1, \"max\": 191652, \"sum\": 191652.0, \"min\": 191652}, \"Max Records Seen Between Resets\": {\"count\": 1, \"max\": 191652, \"sum\": 191652.0, \"min\": 191652}, \"Reset Count\": {\"count\": 1, \"max\": 1, \"sum\": 1.0, \"min\": 1}}, \"EndTime\": 1587430090.404719, \"Dimensions\": {\"Host\": \"algo-1\", \"Meta\": \"training_data_iter\", \"Operation\": \"training\", \"Algorithm\": \"PCA\", \"epoch\": 0}, \"StartTime\": 1587430089.981324}\n",
      "\u001b[0m\n",
      "\u001b[34m[04/21/2020 00:48:10 INFO 140720273946432] #throughput_metric: host=algo-1, train throughput=452508.891585 records/second\u001b[0m\n",
      "\u001b[34m#metrics {\"Metrics\": {\"finalize.time\": {\"count\": 1, \"max\": 27.626991271972656, \"sum\": 27.626991271972656, \"min\": 27.626991271972656}}, \"EndTime\": 1587430090.432702, \"Dimensions\": {\"Host\": \"algo-1\", \"Operation\": \"training\", \"Algorithm\": \"PCA\"}, \"StartTime\": 1587430090.404394}\n",
      "\u001b[0m\n",
      "\u001b[34m[04/21/2020 00:48:10 INFO 140720273946432] Test data is not provided.\u001b[0m\n",
      "\u001b[34m#metrics {\"Metrics\": {\"totaltime\": {\"count\": 1, \"max\": 1331.0918807983398, \"sum\": 1331.0918807983398, \"min\": 1331.0918807983398}, \"setuptime\": {\"count\": 1, \"max\": 43.34688186645508, \"sum\": 43.34688186645508, \"min\": 43.34688186645508}}, \"EndTime\": 1587430090.442835, \"Dimensions\": {\"Host\": \"algo-1\", \"Operation\": \"training\", \"Algorithm\": \"PCA\"}, \"StartTime\": 1587430090.432747}\n",
      "\u001b[0m\n"
     ]
    },
    {
     "name": "stdout",
     "output_type": "stream",
     "text": [
      "\n",
      "2020-04-21 00:48:17 Uploading - Uploading generated training model\n",
      "2020-04-21 00:48:17 Completed - Training job completed\n",
      "Training seconds: 36\n",
      "Billable seconds: 36\n"
     ]
    }
   ],
   "source": [
    "pca.fit(formatted_train_data)"
   ]
  },
  {
   "cell_type": "code",
   "execution_count": 10,
   "metadata": {},
   "outputs": [
    {
     "name": "stdout",
     "output_type": "stream",
     "text": [
      "pca/pca-2020-04-21-00-45-29-356/output/model.tar.gz\n"
     ]
    },
    {
     "data": {
      "text/plain": [
       "2304"
      ]
     },
     "execution_count": 10,
     "metadata": {},
     "output_type": "execute_result"
    }
   ],
   "source": [
    "#get from AWS console\n",
    "training_job_name = 'pca-2020-04-21-00-45-29-356'\n",
    "model_key = os.path.join(prefix, training_job_name, 'output/model.tar.gz')\n",
    "print(model_key)\n",
    "\n",
    "boto3.resource('s3').Bucket(bucket).download_file(model_key, 'model.tar.gz')\n",
    "\n",
    "os.system('tar -zxvf model.tar.gz')\n",
    "os.system('unzip model_algo-1')"
   ]
  },
  {
   "cell_type": "code",
   "execution_count": 13,
   "metadata": {},
   "outputs": [
    {
     "name": "stdout",
     "output_type": "stream",
     "text": [
      "Collecting mxnet\n",
      "\u001b[?25l  Downloading https://files.pythonhosted.org/packages/81/f5/d79b5b40735086ff1100c680703e0f3efc830fa455e268e9e96f3c857e93/mxnet-1.6.0-py2.py3-none-any.whl (68.7MB)\n",
      "\u001b[K    100% |████████████████████████████████| 68.7MB 670kB/s eta 0:00:01\n",
      "\u001b[?25hCollecting graphviz<0.9.0,>=0.8.1 (from mxnet)\n",
      "  Downloading https://files.pythonhosted.org/packages/53/39/4ab213673844e0c004bed8a0781a0721a3f6bb23eb8854ee75c236428892/graphviz-0.8.4-py2.py3-none-any.whl\n",
      "Requirement already satisfied: requests<3,>=2.20.0 in /home/ec2-user/anaconda3/envs/pytorch_p36/lib/python3.6/site-packages (from mxnet) (2.20.0)\n",
      "Collecting numpy<2.0.0,>1.16.0 (from mxnet)\n",
      "\u001b[?25l  Downloading https://files.pythonhosted.org/packages/3d/fc/4763e5f17ac6e7e7d55f377cde859ca1c5d5ac624441ab45315bc578aa9e/numpy-1.18.3-cp36-cp36m-manylinux1_x86_64.whl (20.2MB)\n",
      "\u001b[K    100% |████████████████████████████████| 20.2MB 2.3MB/s eta 0:00:01    97% |███████████████████████████████▏| 19.6MB 13.1MB/s eta 0:00:01\n",
      "\u001b[?25hRequirement already satisfied: urllib3<1.25,>=1.21.1 in /home/ec2-user/anaconda3/envs/pytorch_p36/lib/python3.6/site-packages (from requests<3,>=2.20.0->mxnet) (1.23)\n",
      "Requirement already satisfied: chardet<3.1.0,>=3.0.2 in /home/ec2-user/anaconda3/envs/pytorch_p36/lib/python3.6/site-packages (from requests<3,>=2.20.0->mxnet) (3.0.4)\n",
      "Requirement already satisfied: idna<2.8,>=2.5 in /home/ec2-user/anaconda3/envs/pytorch_p36/lib/python3.6/site-packages (from requests<3,>=2.20.0->mxnet) (2.6)\n",
      "Requirement already satisfied: certifi>=2017.4.17 in /home/ec2-user/anaconda3/envs/pytorch_p36/lib/python3.6/site-packages (from requests<3,>=2.20.0->mxnet) (2019.11.28)\n",
      "\u001b[31mfastai 1.0.60 requires nvidia-ml-py3, which is not installed.\u001b[0m\n",
      "Installing collected packages: graphviz, numpy, mxnet\n",
      "  Found existing installation: numpy 1.15.4\n",
      "    Uninstalling numpy-1.15.4:\n",
      "      Successfully uninstalled numpy-1.15.4\n",
      "Successfully installed graphviz-0.8.4 mxnet-1.6.0 numpy-1.18.3\n",
      "\u001b[33mYou are using pip version 10.0.1, however version 20.0.2 is available.\n",
      "You should consider upgrading via the 'pip install --upgrade pip' command.\u001b[0m\n",
      "{'s': \n",
      "[151.03342 157.1557  158.33104 167.0297  188.32408 193.03432 221.53874\n",
      " 319.5286  337.85233 675.31635]\n",
      "<NDArray 10 @cpu(0)>, 'v': \n",
      "[[-1.56262788e-04  5.86214568e-03 -3.05910781e-03 -3.08205327e-03\n",
      "   2.03793729e-03 -1.74974452e-03  1.90320727e-03 -1.34209997e-03\n",
      "   3.80283134e-04  5.93305740e-04]\n",
      " [-2.17574567e-01 -8.72530639e-02 -8.74040574e-02 -2.98052549e-01\n",
      "  -2.02772513e-01 -1.02115884e-01 -5.94947152e-02  5.77346496e-02\n",
      "  -1.71816766e-01  1.26919270e-01]\n",
      " [-3.37096713e-02  1.10762764e-03 -5.56866499e-03  1.74006075e-02\n",
      "  -6.07536919e-03  3.93119175e-03  9.00153257e-03 -9.30448368e-05\n",
      "   2.08125096e-02  9.04781464e-03]\n",
      " [-5.92208728e-02  2.44399346e-03 -1.11421598e-02  3.14087532e-02\n",
      "  -3.81535618e-03  3.66294011e-03  1.41717987e-02 -3.09537500e-05\n",
      "   3.39998044e-02  1.52490316e-02]\n",
      " [ 1.33299515e-01 -1.08833648e-02  3.22222002e-02 -7.29797855e-02\n",
      "   5.09543018e-03 -6.90436317e-03 -2.31621582e-02  9.35912714e-04\n",
      "  -7.33822882e-02 -3.87603566e-02]\n",
      " [-2.01907605e-01  6.55699819e-02 -1.04897119e-01  1.60889179e-01\n",
      "   6.23099692e-02 -3.42966318e-02 -2.68639605e-02  7.22380646e-04\n",
      "   9.91789848e-02  5.08722700e-02]\n",
      " [-1.51566178e-01  1.81875024e-02 -4.83166166e-02  7.44144544e-02\n",
      "   2.09138189e-02 -1.09000178e-02  1.29126217e-02  8.93125951e-04\n",
      "   5.90180419e-02  3.63004282e-02]\n",
      " [-1.36347506e-02  3.58722992e-02 -1.74907763e-02  2.52422355e-02\n",
      "   5.37630124e-03 -1.05794137e-02 -2.73222998e-02 -1.27340388e-03\n",
      "   1.43963359e-02  1.06809875e-02]\n",
      " [ 3.33803035e-02 -1.20991170e-02  1.63389836e-02 -1.51963653e-02\n",
      "   1.61510222e-02 -2.16048141e-03  8.51701014e-03  3.08723451e-04\n",
      "  -1.96994413e-02 -1.02369450e-02]\n",
      " [ 9.19133052e-02 -4.24009137e-04  1.65093876e-02 -5.72853424e-02\n",
      "  -7.23326206e-03 -5.51026314e-03 -2.67851204e-02 -1.02114776e-04\n",
      "  -5.20539246e-02 -2.41530742e-02]\n",
      " [-9.97939557e-02  5.05850762e-02 -5.29311784e-02  7.09181130e-02\n",
      "   2.13280451e-02 -1.57994032e-02 -2.89583430e-02 -1.08687847e-03\n",
      "   6.03553131e-02  3.56095470e-02]\n",
      " [ 3.02772224e-02  5.88124283e-02 -1.20994993e-01  4.06960351e-03\n",
      "  -5.01350388e-02  4.87289689e-02 -7.41927177e-02  2.40026508e-02\n",
      "   8.11550990e-02  7.20520616e-02]\n",
      " [ 1.68143675e-01 -3.54514532e-02 -1.87114209e-01  9.68217775e-02\n",
      "   3.17501649e-02 -2.89048068e-02 -1.40724435e-01  4.22581360e-02\n",
      "   1.23373397e-01  1.09987110e-01]\n",
      " [ 5.22180125e-02  2.08752021e-01  1.62017167e-01 -1.03011295e-01\n",
      "  -1.28019685e-02 -5.68738058e-02 -1.88096002e-01  4.10170620e-03\n",
      "   5.92303835e-02  7.62714669e-02]\n",
      " [-2.52667367e-02  1.29284859e-01 -1.08247876e-01  7.17235878e-02\n",
      "  -4.74525103e-03 -2.52958164e-02 -1.07865460e-01  1.37612764e-02\n",
      "   5.03430553e-02  4.16191816e-02]\n",
      " [ 8.54683816e-02  1.13794856e-01  3.30796745e-03 -9.34518874e-02\n",
      "   1.46026060e-01 -7.54669979e-02 -2.47632012e-01  4.62754676e-03\n",
      "   6.62871636e-03  1.54062003e-01]\n",
      " [-2.53573358e-02  1.73526071e-02 -2.59029306e-02  2.46311948e-02\n",
      "   9.46090464e-03 -3.14094243e-03 -1.15923295e-02  2.83493404e-03\n",
      "   3.46823111e-02  1.79177113e-02]\n",
      " [-2.37991810e-02  8.60798918e-03 -1.07425459e-01  7.90995061e-02\n",
      "   1.24032702e-02 -2.70034671e-02 -3.80695499e-02  1.10242004e-02\n",
      "   1.12538561e-01  6.13578558e-02]\n",
      " [-5.45626506e-02  2.92455014e-02 -3.71816233e-02  2.73837298e-02\n",
      "   3.43174231e-03  6.61452254e-03 -2.51175500e-02 -5.11426525e-03\n",
      "   2.51488816e-02  3.36471833e-02]\n",
      " [ 3.91546544e-03  8.41649100e-02 -5.16104922e-02  7.80204311e-02\n",
      "   3.05837672e-02 -2.07566191e-02 -4.75654192e-02 -1.34904799e-03\n",
      "   1.23505086e-01  5.75795993e-02]\n",
      " [-3.22157666e-02  5.38969673e-02 -2.84252744e-02  2.58071441e-02\n",
      "  -2.22319160e-02 -2.23141648e-02 -4.52517122e-02  6.68893009e-03\n",
      "   4.00329977e-02  2.84742266e-02]\n",
      " [-2.39779186e-02 -2.44026631e-02  2.80943420e-02 -1.97558217e-02\n",
      "  -1.39428794e-01  3.92194279e-02  1.00537919e-01  1.72206573e-02\n",
      "   1.74527273e-01  8.76610428e-02]\n",
      " [-2.54237894e-02 -1.39143681e-02  2.62230523e-02 -1.49667114e-02\n",
      "  -1.38300419e-01  3.47396210e-02  1.12459175e-01  2.25968231e-02\n",
      "   2.18606248e-01  1.27041787e-01]\n",
      " [-3.26794689e-03  4.24224362e-02 -5.22901192e-02  3.68200317e-02\n",
      "   1.47495463e-01 -4.40596715e-02 -1.67075798e-01 -2.96556856e-02\n",
      "  -2.00427353e-01 -1.80082887e-01]\n",
      " [ 8.42976326e-04 -5.72671890e-02  2.22603753e-02  8.00155848e-02\n",
      "   1.41760856e-01 -9.17227194e-03  1.12888794e-02 -2.52688304e-02\n",
      "  -8.73813778e-02 -8.76872912e-02]\n",
      " [-2.94980165e-02  8.98622349e-02 -7.29639009e-02  2.22495459e-02\n",
      "   1.32141069e-01 -5.52557111e-02 -1.82146236e-01 -2.56463252e-02\n",
      "  -2.46789336e-01 -1.46456391e-01]\n",
      " [ 1.37279823e-01 -1.45621628e-01 -1.51771158e-01 -1.17676510e-02\n",
      "  -3.53792869e-02 -3.30043444e-03 -2.47759119e-01  1.68608613e-02\n",
      "   3.64254378e-02  1.07082210e-01]\n",
      " [ 1.42796293e-01  3.13829422e-01 -3.03344075e-02 -5.79864867e-02\n",
      "   3.10134925e-02 -7.05441833e-02 -1.52412266e-01  3.45522463e-02\n",
      "   1.22158952e-01  1.10771991e-01]\n",
      " [ 7.65613541e-02  1.38552412e-01  1.07621878e-01 -3.42394672e-02\n",
      "   5.43922484e-02 -5.57539798e-02 -1.13536932e-01  1.72464047e-02\n",
      "   1.26695588e-01  8.42066556e-02]\n",
      " [-3.53310518e-02  3.00643146e-02 -2.60315631e-02 -2.00596042e-02\n",
      "  -2.23537292e-02 -2.26162653e-03 -1.04413047e-01 -4.50750589e-02\n",
      "   5.14911227e-02 -2.20734850e-01]\n",
      " [ 2.03224525e-01 -6.33800328e-01 -2.65258372e-01  1.63750902e-01\n",
      "  -1.95933208e-02 -5.12963533e-02 -3.11665922e-01  4.17118371e-02\n",
      "   4.63031977e-02  1.22258365e-01]\n",
      " [-1.07954852e-02  6.00360036e-02 -9.12552401e-02 -5.75275766e-03\n",
      "  -3.25759314e-02 -2.62954030e-02 -7.09200650e-02  7.08252797e-03\n",
      "   5.31607419e-02  4.52099070e-02]\n",
      " [-1.91112533e-02  4.77653779e-02 -9.97573212e-02  2.60176081e-02\n",
      "  -3.24982405e-02 -3.02520953e-02 -9.55424756e-02  9.32300277e-03\n",
      "   2.99939588e-02  3.86156589e-02]\n",
      " [ 4.14097756e-02  2.15547532e-01  8.73666555e-02 -8.64096284e-02\n",
      "  -1.34910075e-02 -8.15836415e-02 -1.33179888e-01  2.11449284e-02\n",
      "   9.03530419e-02  6.49719834e-02]\n",
      " [ 5.98690845e-02  5.06307073e-02  5.79131007e-01 -1.49540072e-02\n",
      "   1.65754203e-02 -6.06200844e-02 -3.07156324e-01  5.91444178e-03\n",
      "   2.82637402e-02  1.23483516e-01]\n",
      " [-1.53749377e-01  1.14585012e-01 -9.05993357e-02 -7.03430474e-02\n",
      "  -8.38410258e-02 -2.64438000e-02 -2.67146707e-01 -1.30786290e-02\n",
      "   1.06665120e-02  1.01614103e-01]\n",
      " [ 1.89355761e-02  3.10936514e-02 -4.54461277e-02  5.22191450e-02\n",
      "  -2.14543426e-03 -8.39285902e-04 -7.81700946e-03  1.55844633e-02\n",
      "   8.38603750e-02  4.52303104e-02]\n",
      " [ 4.93720733e-02 -1.30277798e-01  2.87859678e-01  6.41509220e-02\n",
      "   1.20722264e-01 -3.58964354e-02 -1.40316278e-01  1.84078477e-02\n",
      "  -9.51253399e-02  1.81086004e-01]\n",
      " [-4.80037481e-01 -2.86378801e-01  3.28800052e-01  2.24712212e-02\n",
      "   9.44822133e-02 -3.40407491e-02 -1.87734738e-01 -3.42233926e-02\n",
      "   7.00490475e-02  1.58622473e-01]\n",
      " [-1.25101376e-02  2.62271240e-03 -3.17016663e-03  5.52715873e-03\n",
      "  -3.79299698e-03  6.78469252e-04  2.51597585e-03  8.26931428e-05\n",
      "   7.99545459e-03  4.29362431e-03]\n",
      " [-2.27667484e-02  5.95114892e-03 -7.53082754e-03  1.33952033e-02\n",
      "  -2.78950646e-03 -1.82358490e-04  3.96572473e-03  2.86757131e-04\n",
      "   1.41422451e-02  7.86693953e-03]\n",
      " [ 8.18086267e-02 -2.75891218e-02  3.27989347e-02 -5.84978573e-02\n",
      "  -8.09756387e-03  6.67071389e-03 -6.59390958e-03  2.37569460e-04\n",
      "  -4.82512303e-02 -2.99188141e-02]\n",
      " [-2.17864066e-01  1.21108405e-01 -1.36864692e-01  2.08782285e-01\n",
      "   8.48029330e-02 -3.66445109e-02 -3.96308340e-02 -1.10241480e-03\n",
      "   1.13042332e-01  6.93736896e-02]\n",
      " [ 4.38026227e-02 -2.07036082e-02  2.15666797e-02 -2.61958465e-02\n",
      "   7.00413855e-03  1.91590772e-03  6.95845624e-03  2.11750175e-05\n",
      "  -2.42936816e-02 -1.34331938e-02]\n",
      " [ 2.78664031e-03 -7.15649861e-04  1.69490022e-03 -1.96454674e-03\n",
      "  -8.36244493e-04  9.17350000e-04 -6.30792987e-04 -2.59781547e-04\n",
      "  -1.96249830e-03 -1.20776123e-03]\n",
      " [-1.20970502e-01  5.85828200e-02 -7.26926848e-02  1.29506677e-01\n",
      "   5.39664552e-02 -3.29996087e-02 -2.41709445e-02 -3.57550732e-03\n",
      "   8.15498531e-02  4.90744561e-02]\n",
      " [-2.03473512e-02  3.96413133e-02 -3.33881080e-02  4.68320549e-02\n",
      "   8.01779423e-03 -1.20836878e-02 -3.73823419e-02  4.76803631e-03\n",
      "   3.84640023e-02  1.97925325e-02]\n",
      " [ 1.36967385e-02 -2.76948214e-02  3.30640078e-02 -4.26953025e-02\n",
      "  -1.42898172e-01  3.88715528e-02  9.07189772e-02  1.92204211e-02\n",
      "   1.58402279e-01  7.41138160e-02]\n",
      " [ 2.93079466e-02 -1.93740092e-02  3.56101431e-02 -5.05209826e-02\n",
      "  -1.54347435e-01  3.69110592e-02  1.00662306e-01  2.64861919e-02\n",
      "   2.06982017e-01  1.10067353e-01]\n",
      " [-8.03854018e-02  4.92204651e-02 -6.81312680e-02  8.47374648e-02\n",
      "   1.83286354e-01 -4.32585366e-02 -1.44017950e-01 -3.94301191e-02\n",
      "  -2.31013462e-01 -1.58673972e-01]\n",
      " [-2.15102583e-02 -5.75460382e-02  1.71510614e-02  8.63130838e-02\n",
      "   1.35921255e-01 -4.13030293e-03  3.15713473e-02 -2.67263930e-02\n",
      "  -7.78026581e-02 -7.49702901e-02]\n",
      " [-6.81073740e-02  8.87473896e-02 -7.68538043e-02  3.90095972e-02\n",
      "   1.39252424e-01 -4.70753908e-02 -1.74583763e-01 -2.87266430e-02\n",
      "  -2.51180738e-01 -1.35779396e-01]\n",
      " [-6.20695427e-02  4.94180918e-02 -1.04350679e-01  1.09467499e-01\n",
      "   3.45523022e-02 -2.13483460e-02 -2.06684899e-02  6.80088252e-03\n",
      "   1.27473384e-01  6.28007054e-02]\n",
      " [-1.95090026e-02  3.22161615e-03 -1.62215764e-03  1.48893967e-02\n",
      "  -1.97452051e-03 -8.42570735e-04  8.56283214e-03 -1.11439440e-03\n",
      "   1.64035428e-02  9.21997987e-03]\n",
      " [-3.48119773e-02  7.30027026e-03 -5.63830510e-03  2.96717491e-02\n",
      "   1.97660713e-03 -3.69234686e-03  1.36786243e-02 -1.65175297e-03\n",
      "   2.68024839e-02  1.55602321e-02]\n",
      " [ 1.07295476e-01 -2.71918848e-02  2.34877169e-02 -8.93762484e-02\n",
      "  -1.31142894e-02  1.26758711e-02 -3.40999216e-02  4.50117933e-03\n",
      "  -6.66680858e-02 -4.46977355e-02]\n",
      " [ 2.20428146e-02 -8.29952955e-03  8.73167906e-03 -1.02449721e-02\n",
      "   6.75876811e-03 -1.74887630e-03  3.10635450e-03  3.05544876e-04\n",
      "  -1.15977433e-02 -6.16360363e-03]\n",
      " [ 2.54060864e-03 -3.09240451e-04  9.10324918e-04 -2.34992779e-03\n",
      "  -6.41062332e-04 -6.38274723e-05 -6.79048069e-04  7.08198713e-05\n",
      "  -2.08485755e-03 -1.03536190e-03]\n",
      " [-2.29021892e-01  1.03042632e-01 -1.08673684e-01  2.21958727e-01\n",
      "   9.27785486e-02 -4.87379432e-02 -2.87513970e-03 -5.46602067e-03\n",
      "   9.35548693e-02  7.94400275e-02]\n",
      " [ 2.91391224e-01 -9.13262218e-02 -8.00145939e-02 -5.51216751e-02\n",
      "   6.45518303e-03 -7.66153112e-02 -1.57568276e-01  4.72848415e-02\n",
      "   2.70272419e-02  1.49345830e-01]\n",
      " [-6.27055317e-02  9.76287052e-02 -1.51393548e-01  6.46337569e-02\n",
      "  -3.12268659e-02 -1.73567235e-02 -1.69200867e-01 -1.59573930e-04\n",
      "   4.74654138e-02  6.08832836e-02]\n",
      " [ 7.91339055e-02  1.31025994e-02  3.99738811e-02  4.06638011e-02\n",
      "   1.14324890e-01 -2.90609505e-02 -5.23540564e-02  1.42425625e-02\n",
      "   2.50701666e-01 -2.22747743e-01]\n",
      " [-1.47021428e-01 -9.16330591e-02 -3.98285501e-02 -6.52180016e-02\n",
      "  -2.05503911e-01 -1.96894392e-01 -2.43069907e-03  1.45679280e-01\n",
      "  -1.12118393e-01 -4.18878086e-02]\n",
      " [ 2.51528155e-02  5.62052689e-02  2.61297193e-03 -1.64006650e-02\n",
      "  -1.86469853e-02  1.55224383e-01 -3.88800129e-02 -1.09071679e-01\n",
      "  -4.95174751e-02  1.04932837e-01]\n",
      " [ 6.71173632e-02 -4.29602154e-03  2.18485519e-02  3.99849638e-02\n",
      "   1.54995292e-01 -3.87468986e-04 -3.92718473e-03 -3.96163799e-02\n",
      "   1.99985236e-01 -1.70079976e-01]\n",
      " [ 1.43627733e-01  1.68438889e-02  1.38159506e-02 -1.52419033e-02\n",
      "   1.27060816e-01  7.84872994e-02 -3.18131596e-02 -6.03379123e-02\n",
      "   2.01833665e-01 -2.04068378e-01]\n",
      " [-9.44663584e-02  4.63825604e-03 -3.01701520e-02 -4.26408798e-02\n",
      "  -1.89958602e-01 -6.85951905e-03 -3.04009337e-02  2.86904387e-02\n",
      "  -1.63242802e-01  1.05415605e-01]\n",
      " [-2.42654666e-01 -4.42202203e-02 -4.07961709e-03  5.55898957e-02\n",
      "  -1.68217588e-02 -1.67592168e-02  8.92548077e-03 -5.74932359e-02\n",
      "   8.14575981e-03  1.73679590e-02]\n",
      " [-8.71358886e-02  2.17909757e-02 -2.48871818e-01 -6.30151212e-01\n",
      "   3.82175297e-01 -2.59854645e-01  1.41308486e-01  1.10970601e-01\n",
      "   2.82461550e-02  1.95475280e-01]\n",
      " [-9.27203521e-02  2.68044369e-03 -9.48507935e-02 -1.90792888e-01\n",
      "   2.03483000e-01  8.32952201e-01 -1.25477642e-01 -7.50593394e-02\n",
      "  -5.36471866e-02  1.63222179e-01]\n",
      " [ 1.97529681e-02 -6.54823855e-02  7.07245320e-02  9.69875157e-02\n",
      "   2.05409974e-01 -7.87181407e-02  1.54095799e-01  4.75837253e-02\n",
      "  -7.68064782e-02  1.88768789e-01]\n",
      " [-6.26599342e-02  3.76117928e-03 -2.06777900e-02 -7.83947036e-02\n",
      "  -1.66389048e-01  3.25035639e-02 -1.28191531e-01 -3.35903838e-02\n",
      "   5.88936880e-02 -1.65738374e-01]\n",
      " [ 1.67362597e-02 -5.08613791e-03  7.58024538e-03  3.85019630e-02\n",
      "   5.63784018e-02 -2.06811000e-02  6.03361242e-02  1.89260356e-02\n",
      "  -4.81917672e-02  8.69887248e-02]\n",
      " [ 8.29092339e-02 -3.15318955e-03  3.15701626e-02  9.95131731e-02\n",
      "   3.01645219e-01  3.53286900e-02  1.42582834e-01  1.00228125e-02\n",
      "   7.64551610e-02  9.73957554e-02]\n",
      " [-6.62582368e-02 -6.66849688e-02  3.04786712e-02 -3.36542465e-02\n",
      "   7.78306276e-02  6.87269494e-02 -3.61589864e-02  1.99206889e-01\n",
      "   8.03252533e-02 -9.78944004e-02]\n",
      " [ 3.23939435e-02  6.34860098e-02  1.58272944e-02  9.88151059e-02\n",
      "  -1.70936473e-02  9.31200106e-03  3.68865542e-02  2.69288599e-01\n",
      "  -9.09964144e-02  6.66389465e-02]\n",
      " [-1.20609188e-02 -3.32977474e-02 -1.54480822e-02 -6.10048883e-02\n",
      "  -2.60641612e-02 -7.60667846e-02 -2.20752582e-02 -2.60710895e-01\n",
      "   7.95305893e-02 -7.80921653e-02]\n",
      " [-3.52166668e-02 -3.29022147e-02  3.01453341e-02 -5.59487892e-03\n",
      "   4.33411933e-02  3.12033240e-02 -3.27332243e-02  2.91069388e-01\n",
      "   7.48719424e-02 -1.21513732e-01]\n",
      " [ 2.59591974e-02  1.86419282e-02 -1.68283861e-02 -4.36504148e-02\n",
      "  -5.22925006e-03  3.84943411e-02 -2.47182697e-02  2.37503484e-01\n",
      "   5.91013171e-02 -1.56103939e-01]\n",
      " [ 2.87822797e-03 -5.37947491e-02  1.18653346e-02 -1.72629133e-02\n",
      "   7.82188773e-02 -7.78363720e-02  4.55798693e-02 -2.78806120e-01\n",
      "   2.56844498e-02  5.53235859e-02]\n",
      " [ 1.21244397e-02  9.83087495e-02 -4.82706912e-02  3.27815153e-02\n",
      "  -1.92411199e-01  9.42720473e-02 -6.83204010e-02  1.63589474e-02\n",
      "  -1.09285004e-01  2.44392660e-02]\n",
      " [-7.44212717e-02 -7.52168521e-02 -5.48586324e-02 -1.42178565e-01\n",
      "  -1.05301384e-02 -2.36721039e-02 -2.80829649e-02 -1.74904436e-01\n",
      "   7.34031200e-02 -6.13870956e-02]\n",
      " [-3.20534632e-02 -9.32927802e-02  2.53434423e-02 -7.68103078e-02\n",
      "   1.20761633e-01 -4.00630347e-02 -4.04632278e-03 -3.40543464e-02\n",
      "   1.28726289e-01 -8.79783630e-02]\n",
      " [-5.48303314e-02 -1.05052792e-01  2.39161029e-02 -7.67304972e-02\n",
      "   1.34754568e-01 -3.48482504e-02  8.18582065e-03  4.10271473e-02\n",
      "   1.09567575e-01 -5.52560724e-02]\n",
      " [-5.43626510e-02 -7.89052621e-02  4.88246616e-04 -1.25127897e-01\n",
      "   1.81941539e-02 -3.11539154e-02 -7.46265724e-02 -2.05353230e-01\n",
      "   1.60753608e-01 -1.57547310e-01]\n",
      " [ 1.61959305e-02 -3.72861624e-02  2.01859022e-03  2.11607516e-02\n",
      "   5.97792082e-02 -2.80619115e-02  6.19911775e-02 -1.35854691e-01\n",
      "  -6.01967089e-02  1.10317394e-01]\n",
      " [-3.32956947e-02 -9.97161642e-02  2.34994758e-02 -4.94103618e-02\n",
      "   1.46875992e-01 -2.64212471e-02  3.39238159e-02 -6.50491118e-02\n",
      "   7.09638074e-02 -2.92281434e-03]\n",
      " [ 8.28994885e-02  3.76160294e-02 -1.87965725e-02  6.39922023e-02\n",
      "   1.49317998e-02 -4.18301485e-02  8.83276537e-02 -2.41871521e-01\n",
      "  -1.16560407e-01  2.00417295e-01]\n",
      " [ 1.36744559e-01  1.03890203e-01 -3.58177237e-02  1.57717079e-01\n",
      "   3.54727916e-02  9.02906619e-03  1.09332174e-01  1.14982419e-01\n",
      "  -1.34352669e-01  1.71324879e-01]\n",
      " [ 2.60391235e-02 -2.48485897e-02  4.09085639e-02  1.14184156e-01\n",
      "   1.53044701e-01 -4.02410217e-02  1.48552358e-01  7.81402215e-02\n",
      "  -1.22376308e-01  2.10036144e-01]\n",
      " [ 1.40333008e-02  1.08283572e-02 -1.94405001e-02  5.32423966e-02\n",
      "   4.34313789e-02 -1.70625567e-01  4.51714657e-02  8.34182799e-02\n",
      "  -1.59064755e-02 -5.04614897e-02]\n",
      " [ 2.54918467e-02 -2.18653567e-02 -8.43208190e-03  2.05073468e-02\n",
      "   1.48483336e-01 -1.68629922e-02  7.47796223e-02 -2.49747895e-02\n",
      "   8.44196826e-02  1.30952091e-03]\n",
      " [-8.87272432e-02 -5.22279106e-02  4.15502079e-02 -2.26469114e-02\n",
      "   8.64191800e-02  1.16700895e-01 -4.17457484e-02  5.73093653e-01\n",
      "   3.68148647e-02 -8.51728320e-02]\n",
      " [ 2.26799902e-02  4.50426526e-02 -1.18193859e-02  3.96311209e-02\n",
      "  -4.96504642e-02  1.12065002e-02  1.21522676e-02  1.88854598e-02\n",
      "  -7.02959150e-02  5.85762411e-02]]\n",
      "<NDArray 94x10 @cpu(0)>, 'mean': \n",
      "[[0.49999985 0.33608964 0.01517333 0.02658724 0.92973363 0.09230943\n",
      "  0.07074629 0.01899574 0.98516315 0.95562726 0.0634968  0.13981819\n",
      "  0.2182542  0.14265218 0.07692737 0.349141   0.03118076 0.10828561\n",
      "  0.06775229 0.09834488 0.04921794 0.15627983 0.23976357 0.6143886\n",
      "  0.8236039  0.7161905  0.21932238 0.21957591 0.15478794 0.40305868\n",
      "  0.25087288 0.08251934 0.07227387 0.11425103 0.253651   0.20459703\n",
      "  0.08554121 0.46706212 0.33203346 0.00753797 0.0144785  0.9424455\n",
      "  0.13267052 0.97770447 0.9975562  0.09305406 0.03346393 0.12854724\n",
      "  0.20104752 0.68490726 0.8545821  0.7444205  0.1109667  0.01695781\n",
      "  0.0293144  0.91212994 0.99081105 0.99812996 0.1669447  0.3379846\n",
      "  0.11258951 0.35995188 0.44529408 0.7409432  0.26426283 0.4115441\n",
      "  0.7958292  0.6275918  0.4974679  0.3671707  0.549599   0.49973\n",
      "  0.25781095 0.2832181  0.5806393  0.5680034  0.56900424 0.5312076\n",
      "  0.61242217 0.4470829  0.72774637 0.48052692 0.42137575 0.3609799\n",
      "  0.51879793 0.45702305 0.31985998 0.5308797  0.49693847 0.6163359\n",
      "  0.31536123 0.09024691 0.37643227 0.25761342]]\n",
      "<NDArray 1x94 @cpu(0)>}\n"
     ]
    }
   ],
   "source": [
    "!pip install mxnet\n",
    "import mxnet as mx\n",
    "\n",
    "pca_model_params = mx.ndarray.load('model_algo-1')\n",
    "\n",
    "print(pca_model_params)"
   ]
  },
  {
   "cell_type": "code",
   "execution_count": 14,
   "metadata": {},
   "outputs": [
    {
     "name": "stdout",
     "output_type": "stream",
     "text": [
      "            0\n",
      "5  193.034317\n",
      "6  221.538742\n",
      "7  319.528595\n",
      "8  337.852325\n",
      "9  675.316345\n"
     ]
    }
   ],
   "source": [
    "#mean - mean subtracted from a component in order to center it\n",
    "#v - makeup of the principal component (same as components_)\n",
    "#s - singular values of the components for the PCA transformation, % of variance from the projected future space\n",
    "\n",
    "#explained-variance-ratio ~= square(s) / sum(square(s))\n",
    "\n",
    "s=pd.DataFrame(pca_model_params['s'].asnumpy())\n",
    "v=pd.DataFrame(pca_model_params['v'].asnumpy())\n",
    "\n",
    "n_principal_components = 5\n",
    "\n",
    "start_idx = N_COMPONENTS - n_principal_components\n",
    "\n",
    "print(s.iloc[start_idx:])"
   ]
  },
  {
   "cell_type": "code",
   "execution_count": 15,
   "metadata": {},
   "outputs": [],
   "source": [
    "#what is the smallest number or principal comonents that captures at least 80% of the\n",
    "#total variance in the dataset?\n",
    "\n",
    "def explained_variance(s, n_top_components):\n",
    "#     exp_variance = np.square(s.iloc[start_idx:])\n",
    "    exp_variance = np.square(s.iloc[start_idx:]).sum() / np.square(s).sum()\n",
    "    return exp_variance"
   ]
  },
  {
   "cell_type": "code",
   "execution_count": 16,
   "metadata": {},
   "outputs": [
    {
     "name": "stdout",
     "output_type": "stream",
     "text": [
      "0    0.848037\n",
      "dtype: float32\n"
     ]
    }
   ],
   "source": [
    "n_top_components = 10\n",
    "exp_variance = explained_variance(s, n_top_components)\n",
    "print(exp_variance)"
   ]
  },
  {
   "cell_type": "markdown",
   "metadata": {},
   "source": [
    "### Component Features"
   ]
  },
  {
   "cell_type": "code",
   "execution_count": 17,
   "metadata": {},
   "outputs": [],
   "source": [
    "df.columns.values;"
   ]
  },
  {
   "cell_type": "code",
   "execution_count": 18,
   "metadata": {},
   "outputs": [],
   "source": [
    "corr_matrix = df.corr().abs()\n",
    "c2 = corr_matrix.unstack().sort_values(ascending=False).to_frame()\n",
    "# set(c2[np.logical_and(c2[0] > 0.8, c2[0] < 1)].index.values)"
   ]
  },
  {
   "cell_type": "code",
   "execution_count": 19,
   "metadata": {
    "scrolled": false
   },
   "outputs": [],
   "source": [
    "corr_matrix.style.background_gradient(cmap='coolwarm');"
   ]
  },
  {
   "cell_type": "code",
   "execution_count": 20,
   "metadata": {},
   "outputs": [],
   "source": [
    "import seaborn as sns\n",
    "\n",
    "def display_component(v, features_list, component_num, n_weights=10):\n",
    "        row_idx = N_COMPONENTS-component_num\n",
    "        v_l_row = v.iloc[:, row_idx]\n",
    "        v_1 = np.squeeze(v_l_row.values)\n",
    "        \n",
    "        compos = pd.DataFrame(list(zip(v_1, features_list)), columns=['weights', 'features'])\n",
    "        \n",
    "        # get absolute value\n",
    "        #weights can be neg/pos and we'll sort by magnitude\n",
    "        \n",
    "        compos['abs_weights'] = compos['weights'].apply(lambda x: abs(x))\n",
    "        sorted_compos = compos.sort_values('abs_weights', ascending=False).head(n_weights)\n",
    "        print(sorted_compos)\n",
    "        \n",
    "        ax=plt.subplots(figsize=(10,6))\n",
    "        ax=sns.barplot(data=sorted_compos, x=\"weights\", y=\"features\", palette=\"Blues_d\")\n",
    "        ax.set_title(\"PCA Component Makeup Component #{}\".format(component_num))\n",
    "        plt.show()"
   ]
  },
  {
   "cell_type": "code",
   "execution_count": 22,
   "metadata": {},
   "outputs": [
    {
     "name": "stdout",
     "output_type": "stream",
     "text": [
      "     weights                  features  abs_weights\n",
      "51 -0.251181  D19_VERSAND_ONLINE_DATUM     0.251181\n",
      "61  0.250702            FINANZ_ANLEGER     0.250702\n",
      "25 -0.246789   D19_GESAMT_ONLINE_DATUM     0.246789\n",
      "49 -0.231013         D19_VERSAND_DATUM     0.231013\n",
      "22  0.218606         D19_GESAMT_ANZ_24     0.218606\n",
      "48  0.206982        D19_VERSAND_ANZ_24     0.206982\n",
      "65  0.201834     FINANZ_UNAUFFAELLIGER     0.201834\n",
      "23 -0.200427          D19_GESAMT_DATUM     0.200427\n",
      "64  0.199985             FINANZ_SPARER     0.199985\n",
      "21  0.174527         D19_GESAMT_ANZ_12     0.174527\n",
      "1  -0.171817                  AGER_TYP     0.171817\n",
      "66 -0.163243          FINANZ_VORSORGER     0.163243\n",
      "84  0.160754                 SEMIO_REL     0.160754\n",
      "47  0.158402        D19_VERSAND_ANZ_12     0.158402\n",
      "88 -0.134353               SHOPPER_TYP     0.134353\n",
      "82  0.128726             SEMIO_PFLICHT     0.128726\n",
      "52  0.127473          D19_VERSAND_REST     0.127473\n",
      "28  0.126696         D19_KINDERARTIKEL     0.126696\n",
      "19  0.123505              D19_FREIZEIT     0.123505\n",
      "12  0.123373       D19_BEKLEIDUNG_REST     0.123373\n",
      "89 -0.122376                  VERS_TYP     0.122376\n",
      "27  0.122159             D19_HAUS_DEKO     0.122159\n",
      "87 -0.116560                SEMIO_VERT     0.116560\n",
      "42  0.113042          D19_TELKO_MOBILE     0.113042\n",
      "17  0.112539       D19_DROGERIEARTIKEL     0.112539\n"
     ]
    },
    {
     "data": {
      "image/png": "[encoded data removed]",
      "text/plain": [
       "<Figure size 720x432 with 1 Axes>"
      ]
     },
     "metadata": {},
     "output_type": "display_data"
    }
   ],
   "source": [
    "display_component(v, df.columns.values, component_num=2, n_weights=25)"
   ]
  },
  {
   "cell_type": "markdown",
   "metadata": {},
   "source": [
    "### Deploying the PCA Model"
   ]
  },
  {
   "cell_type": "code",
   "execution_count": null,
   "metadata": {},
   "outputs": [],
   "source": [
    "%%time\n",
    "\n",
    "pca_predictor = pca.deploy(initial_instance_count=1, instance_type='ml.t2.medium')"
   ]
  },
  {
   "cell_type": "code",
   "execution_count": null,
   "metadata": {},
   "outputs": [],
   "source": [
    "#try chunking data to PCA endpoint\n",
    "train_pca = []\n",
    "\n",
    "for chunk in np.array_split(train_data_np, 120):\n",
    "    train_pca.append(pca_predictor.predict(chunk))"
   ]
  },
  {
   "cell_type": "code",
   "execution_count": null,
   "metadata": {},
   "outputs": [],
   "source": [
    "flattened_train_pca = [list for sublist in train_pca for list in sublist]"
   ]
  },
  {
   "cell_type": "code",
   "execution_count": null,
   "metadata": {},
   "outputs": [],
   "source": [
    "len(flattened_train_pca)"
   ]
  },
  {
   "cell_type": "code",
   "execution_count": null,
   "metadata": {},
   "outputs": [],
   "source": [
    "flattened_train_pca[:1]"
   ]
  },
  {
   "cell_type": "code",
   "execution_count": null,
   "metadata": {},
   "outputs": [],
   "source": [
    "def create_transformed_df(flattened_train_pca, scaled_df, n_top_components):\n",
    "    start_idx = N_COMPONENTS - n_top_components\n",
    "    new_values = [x.label['projection'].float32_tensor.values for x in flattened_train_pca]\n",
    "    df = pd.DataFrame(index=scaled_df.index.values, data=new_values)\n",
    "    \n",
    "    top_components = df.iloc[:,start_idx:]\n",
    "    return top_components.iloc[:,::-1]"
   ]
  },
  {
   "cell_type": "code",
   "execution_count": null,
   "metadata": {},
   "outputs": [],
   "source": [
    "top_n = 10\n",
    "\n",
    "df_transformed = create_transformed_df(flattened_train_pca, df, n_top_components=top_n)\n",
    "df_transformed.columns = ['c1', 'c2', 'c3', 'c4', 'c5','c6', 'c7', 'c8', 'c9', 'c10',]\n",
    "df_transformed.head(10)"
   ]
  },
  {
   "cell_type": "code",
   "execution_count": null,
   "metadata": {},
   "outputs": [],
   "source": [
    "session.delete_endpoint(pca_predictor.endpoint)"
   ]
  },
  {
   "cell_type": "code",
   "execution_count": null,
   "metadata": {},
   "outputs": [],
   "source": [
    "# KMeans\n",
    "\n",
    "from sagemaker import KMeans\n",
    "\n",
    "prefix = 'segmentation'\n",
    "output_path = 's3://{}/{}/'.format(bucket, prefix)\n",
    "print(output_path)"
   ]
  },
  {
   "cell_type": "code",
   "execution_count": null,
   "metadata": {},
   "outputs": [],
   "source": [
    "kmeans = KMeans(\n",
    "    role=role,\n",
    "    train_instance_count=1,\n",
    "    train_instance_type='ml.c4.xlarge',\n",
    "    output_path=output_path,\n",
    "    sagemaker_session=session,\n",
    "    k=8\n",
    ")"
   ]
  },
  {
   "cell_type": "code",
   "execution_count": null,
   "metadata": {},
   "outputs": [],
   "source": [
    "train_data_np = df_transformed.values.astype('float32')\n",
    "formatted_train_data = kmeans.record_set(train_data_np)"
   ]
  },
  {
   "cell_type": "code",
   "execution_count": null,
   "metadata": {
    "scrolled": true
   },
   "outputs": [],
   "source": [
    "%%time\n",
    "kmeans.fit(formatted_train_data)"
   ]
  },
  {
   "cell_type": "code",
   "execution_count": null,
   "metadata": {
    "scrolled": true
   },
   "outputs": [],
   "source": [
    "%%time\n",
    "kmeans_predictor = kmeans.deploy(initial_instance_count=1, instance_type='ml.t2.medium')"
   ]
  },
  {
   "cell_type": "code",
   "execution_count": null,
   "metadata": {},
   "outputs": [],
   "source": [
    "%%time\n",
    "# cluster_info=kmeans_predictor.predict(train_data_np)\n",
    "\n",
    "\n",
    "#try chunking data to PCA endpoint\n",
    "cluster_info = []\n",
    "\n",
    "for chunk in np.array_split(train_data_np, 120):\n",
    "    cluster_info.append(kmeans_predictor.predict(chunk))"
   ]
  },
  {
   "cell_type": "code",
   "execution_count": null,
   "metadata": {},
   "outputs": [],
   "source": [
    "#explore clusters\n",
    "data_idx = 0\n",
    "\n",
    "print(df_transformed.index[data_idx])\n",
    "cluster_info[data_idx]"
   ]
  },
  {
   "cell_type": "code",
   "execution_count": null,
   "metadata": {},
   "outputs": [],
   "source": [
    "flattened_cluster_info = [list for sublist in cluster_info for list in sublist]"
   ]
  },
  {
   "cell_type": "code",
   "execution_count": null,
   "metadata": {},
   "outputs": [],
   "source": [
    "len(flattened_cluster_info)"
   ]
  },
  {
   "cell_type": "code",
   "execution_count": null,
   "metadata": {},
   "outputs": [],
   "source": [
    "cluster_labels = [c.label['closest_cluster'].float32_tensor.values[0] for c in flattened_cluster_info]"
   ]
  },
  {
   "cell_type": "code",
   "execution_count": null,
   "metadata": {},
   "outputs": [],
   "source": [
    "cluster_df = pd.DataFrame(cluster_labels)[0].value_counts()\n",
    "\n",
    "print(cluster_df)"
   ]
  },
  {
   "cell_type": "code",
   "execution_count": null,
   "metadata": {},
   "outputs": [],
   "source": [
    "session.delete_endpoint(kmeans_predictor.endpoint)"
   ]
  },
  {
   "cell_type": "code",
   "execution_count": null,
   "metadata": {},
   "outputs": [],
   "source": []
  }
 ],
 "metadata": {
  "kernelspec": {
   "display_name": "conda_pytorch_p36",
   "language": "python",
   "name": "conda_pytorch_p36"
  },
  "language_info": {
   "codemirror_mode": {
    "name": "ipython",
    "version": 3
   },
   "file_extension": ".py",
   "mimetype": "text/x-python",
   "name": "python",
   "nbconvert_exporter": "python",
   "pygments_lexer": "ipython3",
   "version": "3.6.5"
  }
 },
 "nbformat": 4,
 "nbformat_minor": 4
}
