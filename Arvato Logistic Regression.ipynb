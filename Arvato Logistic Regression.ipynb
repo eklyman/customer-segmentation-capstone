{
 "cells": [
  {
   "cell_type": "code",
   "execution_count": 1,
   "metadata": {},
   "outputs": [],
   "source": [
    "import io\n",
    "import os\n",
    "import matplotlib.pyplot as plt\n",
    "import pandas as pd\n",
    "import numpy as np\n",
    "\n",
    "import boto3\n",
    "import sagemaker\n",
    "from sagemaker import get_execution_role"
   ]
  },
  {
   "cell_type": "code",
   "execution_count": 2,
   "metadata": {},
   "outputs": [
    {
     "name": "stdout",
     "output_type": "stream",
     "text": [
      "<sagemaker.session.Session object at 0x7f7d17942b00>\n",
      "arn:aws:iam::240038582877:role/service-role/AmazonSageMaker-ExecutionRole-20191028T202433\n"
     ]
    }
   ],
   "source": [
    "session = sagemaker.Session()\n",
    "print(session)\n",
    "\n",
    "role = get_execution_role()\n",
    "print(role)\n",
    "\n",
    "bucket = session.default_bucket()"
   ]
  },
  {
   "cell_type": "code",
   "execution_count": 3,
   "metadata": {},
   "outputs": [],
   "source": [
    "# load data\n",
    "prefix = 'segmentation'\n",
    "\n",
    "data_key= prefix + '/mailout_train_raw.csv'\n",
    "data_location = 's3://{}/{}'.format(bucket, data_key)"
   ]
  },
  {
   "cell_type": "code",
   "execution_count": 4,
   "metadata": {},
   "outputs": [
    {
     "name": "stderr",
     "output_type": "stream",
     "text": [
      "/home/ec2-user/anaconda3/envs/mxnet_p36/lib/python3.6/site-packages/IPython/core/interactiveshell.py:2785: DtypeWarning: Columns (19,20) have mixed types. Specify dtype option on import or set low_memory=False.\n",
      "  interactivity=interactivity, compiler=compiler, result=result)\n"
     ]
    },
    {
     "name": "stdout",
     "output_type": "stream",
     "text": [
      "(42962, 367)\n"
     ]
    }
   ],
   "source": [
    "tmp_list = []\n",
    "\n",
    "for chunk in pd.read_csv(data_location, chunksize=100000):\n",
    "    tmp_list.append(chunk)\n",
    "    \n",
    "train_df = pd.concat(tmp_list, axis=0).drop(['Unnamed: 0'], axis=1)\n",
    "print(train_df.shape)\n",
    "del tmp_list"
   ]
  },
  {
   "cell_type": "code",
   "execution_count": 5,
   "metadata": {},
   "outputs": [],
   "source": [
    "#shuffle data\n",
    "train_df = train_df.sample(frac=1, axis=1)"
   ]
  },
  {
   "cell_type": "code",
   "execution_count": 25,
   "metadata": {},
   "outputs": [
    {
     "data": {
      "text/plain": [
       "array(['KBA13_CCM_1000', 'D19_KONSUMTYP_MAX', 'KBA05_ANTG4',\n",
       "       'KK_KUNDENTYP', 'D19_GESAMT_ANZ_24', 'KBA05_CCM3',\n",
       "       'D19_BEKLEIDUNG_GEH', 'D19_FREIZEIT', 'SEMIO_FAM',\n",
       "       'KBA13_CCM_2500', 'KBA13_AUTOQUOTE', 'KBA13_AUDI',\n",
       "       'D19_DIGIT_SERV', 'DSL_FLAG', 'PLZ8_ANTG3', 'ALTER_KIND3',\n",
       "       'KBA13_KRSSEG_VAN', 'KBA13_FAB_SONSTIGE', 'KBA13_KW_50',\n",
       "       'D19_VERSI_DATUM', 'KBA13_SEG_MINIVANS', 'D19_BANKEN_DIREKT',\n",
       "       'KBA13_BJ_2009', 'KBA13_KW_0_60', 'KBA13_KMH_110',\n",
       "       'KBA13_CCM_2501', 'KBA13_ALTERHALTER_30', 'LP_STATUS_FEIN',\n",
       "       'STRUKTURTYP', 'KBA05_MOD3', 'NATIONALITAET_KZ', 'SEMIO_LUST',\n",
       "       'FINANZ_UNAUFFAELLIGER', 'KBA05_ANTG2', 'KBA05_SEG9',\n",
       "       'FINANZ_MINIMALIST', 'KBA13_ALTERHALTER_45', 'VHA', 'SOHO_KZ',\n",
       "       'KBA05_KW3', 'D19_VERSAND_DATUM', 'LP_STATUS_GROB',\n",
       "       'D19_GESAMT_ANZ_12', 'KKK', 'W_KEIT_KIND_HH', 'SEMIO_KAEM',\n",
       "       'KBA13_KRSZUL_NEU', 'GEBAEUDETYP', 'CJT_TYP_1',\n",
       "       'KBA13_SEG_MITTELKLASSE', 'KBA05_KW1', 'KBA13_KMH_210',\n",
       "       'KBA13_FAB_ASIEN', 'VK_DHT4A', 'ORTSGR_KLS9', 'KBA13_KW_80',\n",
       "       'D19_TECHNIK', 'D19_BEKLEIDUNG_REST', 'KBA13_KW_110',\n",
       "       'FINANZ_VORSORGER', 'SEMIO_VERT', 'KBA13_SEG_SPORTWAGEN',\n",
       "       'KBA13_SEG_KLEINST', 'KBA13_BJ_2004', 'KBA13_HERST_SONST',\n",
       "       'D19_TELKO_REST', 'KBA13_KW_120', 'LNR', 'KBA13_HALTER_40',\n",
       "       'KBA13_HERST_EUROPA', 'KBA05_SEG3', 'D19_TELKO_ANZ_24',\n",
       "       'KBA13_CCM_1500', 'KBA05_ALTER3', 'KBA05_MODTEMP', 'KBA05_ZUL4',\n",
       "       'KBA05_MOD8', 'KBA13_SEG_KOMPAKTKLASSE', 'KBA13_KW_90', 'VERS_TYP',\n",
       "       'KBA13_ANZAHL_PKW', 'RT_UEBERGROESSE', 'KBA05_HERST3',\n",
       "       'LP_LEBENSPHASE_GROB', 'KBA13_ANTG1', 'KBA13_VORB_2', 'SEMIO_ERL',\n",
       "       'FINANZ_HAUSBAUER', 'KBA05_MOTOR', 'KBA13_BJ_1999', 'KBA05_CCM2',\n",
       "       'FINANZTYP', 'KBA13_HALTER_50', 'D19_VERSI_OFFLINE_DATUM',\n",
       "       'GEMEINDETYP', 'KBA13_KMH_140', 'KBA13_HERST_AUDI_VW',\n",
       "       'KBA05_HERST5', 'D19_REISEN', 'KBA05_KRSHERST3', 'RESPONSE'],\n",
       "      dtype=object)"
      ]
     },
     "execution_count": 25,
     "metadata": {},
     "output_type": "execute_result"
    }
   ],
   "source": [
    "features = train_df.select_dtypes(['int', 'float']).columns.values[:100]\n",
    "features = np.append(features, 'RESPONSE')\n",
    "features"
   ]
  },
  {
   "cell_type": "code",
   "execution_count": 26,
   "metadata": {
    "scrolled": true
   },
   "outputs": [
    {
     "data": {
      "text/plain": [
       "(42962, 101)"
      ]
     },
     "execution_count": 26,
     "metadata": {},
     "output_type": "execute_result"
    }
   ],
   "source": [
    "df = train_df[features]\n",
    "df.shape"
   ]
  },
  {
   "cell_type": "code",
   "execution_count": 27,
   "metadata": {},
   "outputs": [],
   "source": [
    "y = df['RESPONSE']\n",
    "X = df.drop(['RESPONSE'], axis=1)"
   ]
  },
  {
   "cell_type": "code",
   "execution_count": 28,
   "metadata": {},
   "outputs": [
    {
     "data": {
      "text/plain": [
       "dtype('int64')"
      ]
     },
     "execution_count": 28,
     "metadata": {},
     "output_type": "execute_result"
    }
   ],
   "source": [
    "y.dtypes"
   ]
  },
  {
   "cell_type": "code",
   "execution_count": 29,
   "metadata": {},
   "outputs": [
    {
     "name": "stderr",
     "output_type": "stream",
     "text": [
      "/home/ec2-user/anaconda3/envs/mxnet_p36/lib/python3.6/site-packages/sklearn/preprocessing/data.py:645: DataConversionWarning: Data with input dtype int64, float64 were all converted to float64 by StandardScaler.\n",
      "  return self.partial_fit(X, y)\n",
      "/home/ec2-user/anaconda3/envs/mxnet_p36/lib/python3.6/site-packages/ipykernel/__main__.py:5: DataConversionWarning: Data with input dtype int64, float64 were all converted to float64 by StandardScaler.\n"
     ]
    }
   ],
   "source": [
    "from sklearn.preprocessing import StandardScaler\n",
    "scaler = StandardScaler()\n",
    "scaler.fit(X)\n",
    "StandardScaler()\n",
    "transformed_df = pd.DataFrame(columns = X.columns.values, index = X.index.values, data=scaler.transform(X));"
   ]
  },
  {
   "cell_type": "code",
   "execution_count": 30,
   "metadata": {},
   "outputs": [
    {
     "data": {
      "text/plain": [
       "(42962, 100)"
      ]
     },
     "execution_count": 30,
     "metadata": {},
     "output_type": "execute_result"
    }
   ],
   "source": [
    "transformed_df = transformed_df.fillna(0)\n",
    "transformed_df.isnull().any(axis=0);\n",
    "transformed_df.shape"
   ]
  },
  {
   "cell_type": "code",
   "execution_count": 31,
   "metadata": {},
   "outputs": [
    {
     "name": "stderr",
     "output_type": "stream",
     "text": [
      "/home/ec2-user/anaconda3/envs/mxnet_p36/lib/python3.6/site-packages/sklearn/linear_model/logistic.py:433: FutureWarning: Default solver will be changed to 'lbfgs' in 0.22. Specify a solver to silence this warning.\n",
      "  FutureWarning)\n"
     ]
    }
   ],
   "source": [
    "from sklearn.linear_model import LogisticRegression\n",
    "clf = LogisticRegression(multi_class='ovr').fit(transformed_df,y)"
   ]
  },
  {
   "cell_type": "code",
   "execution_count": 32,
   "metadata": {},
   "outputs": [
    {
     "data": {
      "text/plain": [
       "array([[0.97840254, 0.02159746],\n",
       "       [0.99380316, 0.00619684],\n",
       "       [0.99050343, 0.00949657],\n",
       "       ...,\n",
       "       [0.97409925, 0.02590075],\n",
       "       [0.99223352, 0.00776648],\n",
       "       [0.99496613, 0.00503387]])"
      ]
     },
     "execution_count": 32,
     "metadata": {},
     "output_type": "execute_result"
    }
   ],
   "source": [
    "#Return the mean accuracy on the given test data and labels\n",
    "clf.predict_proba(transformed_df)"
   ]
  },
  {
   "cell_type": "code",
   "execution_count": 33,
   "metadata": {},
   "outputs": [
    {
     "data": {
      "text/plain": [
       "0.9876169638284996"
      ]
     },
     "execution_count": 33,
     "metadata": {},
     "output_type": "execute_result"
    }
   ],
   "source": [
    "clf.score(transformed_df, y)"
   ]
  },
  {
   "cell_type": "code",
   "execution_count": null,
   "metadata": {},
   "outputs": [],
   "source": []
  }
 ],
 "metadata": {
  "kernelspec": {
   "display_name": "conda_mxnet_p36",
   "language": "python",
   "name": "conda_mxnet_p36"
  },
  "language_info": {
   "codemirror_mode": {
    "name": "ipython",
    "version": 3
   },
   "file_extension": ".py",
   "mimetype": "text/x-python",
   "name": "python",
   "nbconvert_exporter": "python",
   "pygments_lexer": "ipython3",
   "version": "3.6.5"
  }
 },
 "nbformat": 4,
 "nbformat_minor": 4
}
