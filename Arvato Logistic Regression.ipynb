{
 "cells": [
  {
   "cell_type": "code",
   "execution_count": 37,
   "metadata": {},
   "outputs": [],
   "source": [
    "import io\n",
    "import os\n",
    "import matplotlib.pyplot as plt\n",
    "import pandas as pd\n",
    "import numpy as np\n",
    "\n",
    "import boto3\n",
    "import sagemaker\n",
    "from sagemaker import get_execution_role"
   ]
  },
  {
   "cell_type": "code",
   "execution_count": 38,
   "metadata": {},
   "outputs": [
    {
     "name": "stdout",
     "output_type": "stream",
     "text": [
      "<sagemaker.session.Session object at 0x7f346d61c2e8>\n",
      "arn:aws:iam::240038582877:role/service-role/AmazonSageMaker-ExecutionRole-20191028T202433\n"
     ]
    }
   ],
   "source": [
    "session = sagemaker.Session()\n",
    "print(session)\n",
    "\n",
    "role = get_execution_role()\n",
    "print(role)\n",
    "\n",
    "bucket = session.default_bucket()"
   ]
  },
  {
   "cell_type": "code",
   "execution_count": 39,
   "metadata": {},
   "outputs": [],
   "source": [
    "# load data\n",
    "prefix = 'segmentation'\n",
    "\n",
    "data_key= prefix + '/scaled_mailout_train.csv'\n",
    "data_location = 's3://{}/{}'.format(bucket, data_key)"
   ]
  },
  {
   "cell_type": "code",
   "execution_count": 40,
   "metadata": {},
   "outputs": [
    {
     "name": "stdout",
     "output_type": "stream",
     "text": [
      "(42962, 94)\n"
     ]
    }
   ],
   "source": [
    "tmp_list = []\n",
    "\n",
    "for chunk in pd.read_csv(data_location, chunksize=100000):\n",
    "    tmp_list.append(chunk)\n",
    "    \n",
    "train_df = pd.concat(tmp_list, axis=0).drop(['Unnamed: 0'], axis=1)\n",
    "print(train_df.shape)\n",
    "del tmp_list"
   ]
  },
  {
   "cell_type": "code",
   "execution_count": 51,
   "metadata": {},
   "outputs": [],
   "source": [
    "# Explored with full feature set, and randomly dropping columns, got essentially \n",
    "# the same score\n",
    "train_df = train_df.sample(frac=0.75, random_state=42, axis=1)"
   ]
  },
  {
   "cell_type": "code",
   "execution_count": 42,
   "metadata": {},
   "outputs": [],
   "source": [
    "from sklearn.linear_model import LogisticRegression\n",
    "y = train_df['RESPONSE']\n",
    "X = train_df.drop(['RESPONSE'], axis=1)"
   ]
  },
  {
   "cell_type": "code",
   "execution_count": 48,
   "metadata": {},
   "outputs": [],
   "source": [
    "clf = LogisticRegression(random_state=0, solver='lbfgs', max_iter=250).fit(X,y)"
   ]
  },
  {
   "cell_type": "code",
   "execution_count": 49,
   "metadata": {},
   "outputs": [
    {
     "data": {
      "text/plain": [
       "array([[0.9840667 , 0.0159333 ],\n",
       "       [0.99337261, 0.00662739],\n",
       "       [0.98538652, 0.01461348],\n",
       "       ...,\n",
       "       [0.96855768, 0.03144232],\n",
       "       [0.99198291, 0.00801709],\n",
       "       [0.98841561, 0.01158439]])"
      ]
     },
     "execution_count": 49,
     "metadata": {},
     "output_type": "execute_result"
    }
   ],
   "source": [
    "clf.predict_proba(X)"
   ]
  },
  {
   "cell_type": "code",
   "execution_count": 50,
   "metadata": {},
   "outputs": [
    {
     "data": {
      "text/plain": [
       "0.9876169638284996"
      ]
     },
     "execution_count": 50,
     "metadata": {},
     "output_type": "execute_result"
    }
   ],
   "source": [
    "clf.score(X, y)"
   ]
  },
  {
   "cell_type": "code",
   "execution_count": null,
   "metadata": {},
   "outputs": [],
   "source": []
  }
 ],
 "metadata": {
  "kernelspec": {
   "display_name": "conda_mxnet_p36",
   "language": "python",
   "name": "conda_mxnet_p36"
  },
  "language_info": {
   "codemirror_mode": {
    "name": "ipython",
    "version": 3
   },
   "file_extension": ".py",
   "mimetype": "text/x-python",
   "name": "python",
   "nbconvert_exporter": "python",
   "pygments_lexer": "ipython3",
   "version": "3.6.5"
  }
 },
 "nbformat": 4,
 "nbformat_minor": 4
}
