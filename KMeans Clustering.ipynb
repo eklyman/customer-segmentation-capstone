{
 "cells": [
  {
   "cell_type": "code",
   "execution_count": 23,
   "metadata": {},
   "outputs": [],
   "source": [
    "import io\n",
    "import os\n",
    "import matplotlib.pyplot as plt\n",
    "import pandas as pd\n",
    "import numpy as np\n",
    "\n",
    "import boto3\n",
    "import sagemaker\n",
    "from sagemaker import get_execution_role, PCA"
   ]
  },
  {
   "cell_type": "code",
   "execution_count": 24,
   "metadata": {},
   "outputs": [
    {
     "name": "stdout",
     "output_type": "stream",
     "text": [
      "<sagemaker.session.Session object at 0x7fe919b1ef98>\n",
      "arn:aws:iam::240038582877:role/service-role/AmazonSageMaker-ExecutionRole-20191028T202433\n"
     ]
    }
   ],
   "source": [
    "session = sagemaker.Session()\n",
    "print(session)\n",
    "\n",
    "role = get_execution_role()\n",
    "print(role)\n",
    "\n",
    "bucket = session.default_bucket()"
   ]
  },
  {
   "cell_type": "markdown",
   "metadata": {},
   "source": [
    "### Customers"
   ]
  },
  {
   "cell_type": "code",
   "execution_count": 11,
   "metadata": {},
   "outputs": [
    {
     "name": "stdout",
     "output_type": "stream",
     "text": [
      "<sagemaker.session.Session object at 0x7fe91a566b70>\n",
      "arn:aws:iam::240038582877:role/service-role/AmazonSageMaker-ExecutionRole-20191028T202433\n"
     ]
    }
   ],
   "source": [
    "# load data\n",
    "prefix = 'segmentation'\n",
    "\n",
    "data_key= prefix + '/customers_scaled.csv'\n",
    "data_location = 's3://{}/{}'.format(bucket, data_key)"
   ]
  },
  {
   "cell_type": "code",
   "execution_count": 12,
   "metadata": {},
   "outputs": [],
   "source": [
    "tmp_list = []\n",
    "\n",
    "for chunk in pd.read_csv(data_location, chunksize=100000):\n",
    "    tmp_list.append(chunk)\n",
    "    \n",
    "df = pd.concat(tmp_list, axis=0)\n",
    "del tmp_list"
   ]
  },
  {
   "cell_type": "code",
   "execution_count": 19,
   "metadata": {},
   "outputs": [
    {
     "data": {
      "text/plain": [
       "'s3://sagemaker-us-east-2-240038582877/pca/'"
      ]
     },
     "execution_count": 19,
     "metadata": {},
     "output_type": "execute_result"
    }
   ],
   "source": [
    "# prepare space to store model artifacts\n",
    "prefix = 'pca'\n",
    "output_path = 's3://{}/{}/'.format(bucket, prefix)\n",
    "output_path"
   ]
  },
  {
   "cell_type": "code",
   "execution_count": 25,
   "metadata": {},
   "outputs": [],
   "source": [
    "#current features less 1\n",
    "N_COMPONENTS = 94\n",
    "pca = PCA(role=role,\n",
    "          train_instance_count=1,\n",
    "          train_instance_type='ml.c4.xlarge',\n",
    "          output_path=output_path,\n",
    "          num_components=N_COMPONENTS,\n",
    "          sagemaker_session=session)"
   ]
  },
  {
   "cell_type": "code",
   "execution_count": 26,
   "metadata": {},
   "outputs": [],
   "source": [
    "#must convert to RecordSet for built in sagemaker models\n",
    "\n",
    "#convert df to np array\n",
    "train_data_np = df.values.astype('float32')\n",
    "\n",
    "#convert to RecordSet format\n",
    "formatted_train_data = pca.record_set(train_data_np)"
   ]
  },
  {
   "cell_type": "code",
   "execution_count": 27,
   "metadata": {},
   "outputs": [
    {
     "name": "stdout",
     "output_type": "stream",
     "text": [
      "2020-04-07 03:45:18 Starting - Starting the training job...\n",
      "2020-04-07 03:45:19 Starting - Launching requested ML instances...\n",
      "2020-04-07 03:46:18 Starting - Preparing the instances for training......\n",
      "2020-04-07 03:47:00 Downloading - Downloading input data...\n",
      "2020-04-07 03:47:41 Training - Downloading the training image..\u001b[34mDocker entrypoint called with argument(s): train\u001b[0m\n",
      "\u001b[34mRunning default environment configuration script\u001b[0m\n",
      "\u001b[34m[04/07/2020 03:47:57 INFO 140434131449664] Reading default configuration from /opt/amazon/lib/python2.7/site-packages/algorithm/resources/default-conf.json: {u'_num_gpus': u'auto', u'_log_level': u'info', u'subtract_mean': u'true', u'force_dense': u'true', u'epochs': 1, u'algorithm_mode': u'regular', u'extra_components': u'-1', u'_kvstore': u'dist_sync', u'_num_kv_servers': u'auto'}\u001b[0m\n",
      "\u001b[34m[04/07/2020 03:47:57 INFO 140434131449664] Reading provided configuration from /opt/ml/input/config/hyperparameters.json: {u'feature_dim': u'95', u'mini_batch_size': u'500', u'num_components': u'94'}\u001b[0m\n",
      "\u001b[34m[04/07/2020 03:47:57 INFO 140434131449664] Final configuration: {u'num_components': u'94', u'_num_gpus': u'auto', u'_log_level': u'info', u'subtract_mean': u'true', u'force_dense': u'true', u'epochs': 1, u'algorithm_mode': u'regular', u'feature_dim': u'95', u'extra_components': u'-1', u'_kvstore': u'dist_sync', u'_num_kv_servers': u'auto', u'mini_batch_size': u'500'}\u001b[0m\n",
      "\u001b[34m[04/07/2020 03:47:57 WARNING 140434131449664] Loggers have already been setup.\u001b[0m\n",
      "\u001b[34m[04/07/2020 03:47:59 INFO 140434131449664] Launching parameter server for role scheduler\u001b[0m\n",
      "\u001b[34m[04/07/2020 03:47:59 INFO 140434131449664] {'ECS_CONTAINER_METADATA_URI': 'http://169.254.170.2/v3/5ed8bb0f-1067-4bda-b611-edebdf6050f7', 'PROTOCOL_BUFFERS_PYTHON_IMPLEMENTATION_VERSION': '2', 'PATH': '/opt/amazon/bin:/usr/local/nvidia/bin:/usr/local/sbin:/usr/local/bin:/usr/sbin:/usr/bin:/sbin:/bin:/opt/amazon/bin:/opt/amazon/bin', 'SAGEMAKER_HTTP_PORT': '8080', 'HOME': '/root', 'PYTHONUNBUFFERED': 'TRUE', 'CANONICAL_ENVROOT': '/opt/amazon', 'LD_LIBRARY_PATH': '/opt/amazon/lib/python2.7/site-packages/cv2/../../../../lib:/usr/local/nvidia/lib64:/opt/amazon/lib', 'LANG': 'en_US.utf8', 'DMLC_INTERFACE': 'eth0', 'SHLVL': '1', 'AWS_REGION': 'us-east-2', 'NVIDIA_VISIBLE_DEVICES': 'void', 'TRAINING_JOB_NAME': 'pca-2020-04-07-03-45-18-512', 'PROTOCOL_BUFFERS_PYTHON_IMPLEMENTATION': 'cpp', 'ENVROOT': '/opt/amazon', 'SAGEMAKER_DATA_PATH': '/opt/ml', 'NVIDIA_DRIVER_CAPABILITIES': 'compute,utility', 'NVIDIA_REQUIRE_CUDA': 'cuda>=9.0', 'OMP_NUM_THREADS': '2', 'HOSTNAME': 'ip-10-0-172-143.us-east-2.compute.internal', 'AWS_CONTAINER_CREDENTIALS_RELATIVE_URI': '/v2/credentials/8ddaa09e-ac44-4d7f-998c-257c9b7012e5', 'PWD': '/', 'TRAINING_JOB_ARN': 'arn:aws:sagemaker:us-east-2:240038582877:training-job/pca-2020-04-07-03-45-18-512', 'AWS_EXECUTION_ENV': 'AWS_ECS_EC2'}\u001b[0m\n",
      "\u001b[34m[04/07/2020 03:47:59 INFO 140434131449664] envs={'ECS_CONTAINER_METADATA_URI': 'http://169.254.170.2/v3/5ed8bb0f-1067-4bda-b611-edebdf6050f7', 'PROTOCOL_BUFFERS_PYTHON_IMPLEMENTATION_VERSION': '2', 'DMLC_NUM_WORKER': '1', 'DMLC_PS_ROOT_PORT': '9000', 'PATH': '/opt/amazon/bin:/usr/local/nvidia/bin:/usr/local/sbin:/usr/local/bin:/usr/sbin:/usr/bin:/sbin:/bin:/opt/amazon/bin:/opt/amazon/bin', 'SAGEMAKER_HTTP_PORT': '8080', 'HOME': '/root', 'PYTHONUNBUFFERED': 'TRUE', 'CANONICAL_ENVROOT': '/opt/amazon', 'LD_LIBRARY_PATH': '/opt/amazon/lib/python2.7/site-packages/cv2/../../../../lib:/usr/local/nvidia/lib64:/opt/amazon/lib', 'LANG': 'en_US.utf8', 'DMLC_INTERFACE': 'eth0', 'SHLVL': '1', 'DMLC_PS_ROOT_URI': '10.0.172.143', 'AWS_REGION': 'us-east-2', 'NVIDIA_VISIBLE_DEVICES': 'void', 'TRAINING_JOB_NAME': 'pca-2020-04-07-03-45-18-512', 'PROTOCOL_BUFFERS_PYTHON_IMPLEMENTATION': 'cpp', 'ENVROOT': '/opt/amazon', 'SAGEMAKER_DATA_PATH': '/opt/ml', 'NVIDIA_DRIVER_CAPABILITIES': 'compute,utility', 'NVIDIA_REQUIRE_CUDA': 'cuda>=9.0', 'OMP_NUM_THREADS': '2', 'HOSTNAME': 'ip-10-0-172-143.us-east-2.compute.internal', 'AWS_CONTAINER_CREDENTIALS_RELATIVE_URI': '/v2/credentials/8ddaa09e-ac44-4d7f-998c-257c9b7012e5', 'DMLC_ROLE': 'scheduler', 'PWD': '/', 'DMLC_NUM_SERVER': '1', 'TRAINING_JOB_ARN': 'arn:aws:sagemaker:us-east-2:240038582877:training-job/pca-2020-04-07-03-45-18-512', 'AWS_EXECUTION_ENV': 'AWS_ECS_EC2'}\u001b[0m\n",
      "\u001b[34m[04/07/2020 03:47:59 INFO 140434131449664] Launching parameter server for role server\u001b[0m\n",
      "\u001b[34m[04/07/2020 03:47:59 INFO 140434131449664] {'ECS_CONTAINER_METADATA_URI': 'http://169.254.170.2/v3/5ed8bb0f-1067-4bda-b611-edebdf6050f7', 'PROTOCOL_BUFFERS_PYTHON_IMPLEMENTATION_VERSION': '2', 'PATH': '/opt/amazon/bin:/usr/local/nvidia/bin:/usr/local/sbin:/usr/local/bin:/usr/sbin:/usr/bin:/sbin:/bin:/opt/amazon/bin:/opt/amazon/bin', 'SAGEMAKER_HTTP_PORT': '8080', 'HOME': '/root', 'PYTHONUNBUFFERED': 'TRUE', 'CANONICAL_ENVROOT': '/opt/amazon', 'LD_LIBRARY_PATH': '/opt/amazon/lib/python2.7/site-packages/cv2/../../../../lib:/usr/local/nvidia/lib64:/opt/amazon/lib', 'LANG': 'en_US.utf8', 'DMLC_INTERFACE': 'eth0', 'SHLVL': '1', 'AWS_REGION': 'us-east-2', 'NVIDIA_VISIBLE_DEVICES': 'void', 'TRAINING_JOB_NAME': 'pca-2020-04-07-03-45-18-512', 'PROTOCOL_BUFFERS_PYTHON_IMPLEMENTATION': 'cpp', 'ENVROOT': '/opt/amazon', 'SAGEMAKER_DATA_PATH': '/opt/ml', 'NVIDIA_DRIVER_CAPABILITIES': 'compute,utility', 'NVIDIA_REQUIRE_CUDA': 'cuda>=9.0', 'OMP_NUM_THREADS': '2', 'HOSTNAME': 'ip-10-0-172-143.us-east-2.compute.internal', 'AWS_CONTAINER_CREDENTIALS_RELATIVE_URI': '/v2/credentials/8ddaa09e-ac44-4d7f-998c-257c9b7012e5', 'PWD': '/', 'TRAINING_JOB_ARN': 'arn:aws:sagemaker:us-east-2:240038582877:training-job/pca-2020-04-07-03-45-18-512', 'AWS_EXECUTION_ENV': 'AWS_ECS_EC2'}\u001b[0m\n",
      "\u001b[34m[04/07/2020 03:47:59 INFO 140434131449664] envs={'ECS_CONTAINER_METADATA_URI': 'http://169.254.170.2/v3/5ed8bb0f-1067-4bda-b611-edebdf6050f7', 'PROTOCOL_BUFFERS_PYTHON_IMPLEMENTATION_VERSION': '2', 'DMLC_NUM_WORKER': '1', 'DMLC_PS_ROOT_PORT': '9000', 'PATH': '/opt/amazon/bin:/usr/local/nvidia/bin:/usr/local/sbin:/usr/local/bin:/usr/sbin:/usr/bin:/sbin:/bin:/opt/amazon/bin:/opt/amazon/bin', 'SAGEMAKER_HTTP_PORT': '8080', 'HOME': '/root', 'PYTHONUNBUFFERED': 'TRUE', 'CANONICAL_ENVROOT': '/opt/amazon', 'LD_LIBRARY_PATH': '/opt/amazon/lib/python2.7/site-packages/cv2/../../../../lib:/usr/local/nvidia/lib64:/opt/amazon/lib', 'LANG': 'en_US.utf8', 'DMLC_INTERFACE': 'eth0', 'SHLVL': '1', 'DMLC_PS_ROOT_URI': '10.0.172.143', 'AWS_REGION': 'us-east-2', 'NVIDIA_VISIBLE_DEVICES': 'void', 'TRAINING_JOB_NAME': 'pca-2020-04-07-03-45-18-512', 'PROTOCOL_BUFFERS_PYTHON_IMPLEMENTATION': 'cpp', 'ENVROOT': '/opt/amazon', 'SAGEMAKER_DATA_PATH': '/opt/ml', 'NVIDIA_DRIVER_CAPABILITIES': 'compute,utility', 'NVIDIA_REQUIRE_CUDA': 'cuda>=9.0', 'OMP_NUM_THREADS': '2', 'HOSTNAME': 'ip-10-0-172-143.us-east-2.compute.internal', 'AWS_CONTAINER_CREDENTIALS_RELATIVE_URI': '/v2/credentials/8ddaa09e-ac44-4d7f-998c-257c9b7012e5', 'DMLC_ROLE': 'server', 'PWD': '/', 'DMLC_NUM_SERVER': '1', 'TRAINING_JOB_ARN': 'arn:aws:sagemaker:us-east-2:240038582877:training-job/pca-2020-04-07-03-45-18-512', 'AWS_EXECUTION_ENV': 'AWS_ECS_EC2'}\u001b[0m\n",
      "\u001b[34m[04/07/2020 03:47:59 INFO 140434131449664] Environment: {'ECS_CONTAINER_METADATA_URI': 'http://169.254.170.2/v3/5ed8bb0f-1067-4bda-b611-edebdf6050f7', 'PROTOCOL_BUFFERS_PYTHON_IMPLEMENTATION_VERSION': '2', 'DMLC_PS_ROOT_PORT': '9000', 'DMLC_NUM_WORKER': '1', 'SAGEMAKER_HTTP_PORT': '8080', 'PATH': '/opt/amazon/bin:/usr/local/nvidia/bin:/usr/local/sbin:/usr/local/bin:/usr/sbin:/usr/bin:/sbin:/bin:/opt/amazon/bin:/opt/amazon/bin', 'PYTHONUNBUFFERED': 'TRUE', 'CANONICAL_ENVROOT': '/opt/amazon', 'LD_LIBRARY_PATH': '/opt/amazon/lib/python2.7/site-packages/cv2/../../../../lib:/usr/local/nvidia/lib64:/opt/amazon/lib', 'LANG': 'en_US.utf8', 'DMLC_INTERFACE': 'eth0', 'SHLVL': '1', 'DMLC_PS_ROOT_URI': '10.0.172.143', 'AWS_REGION': 'us-east-2', 'NVIDIA_VISIBLE_DEVICES': 'void', 'TRAINING_JOB_NAME': 'pca-2020-04-07-03-45-18-512', 'HOME': '/root', 'PROTOCOL_BUFFERS_PYTHON_IMPLEMENTATION': 'cpp', 'ENVROOT': '/opt/amazon', 'SAGEMAKER_DATA_PATH': '/opt/ml', 'NVIDIA_DRIVER_CAPABILITIES': 'compute,utility', 'NVIDIA_REQUIRE_CUDA': 'cuda>=9.0', 'OMP_NUM_THREADS': '2', 'HOSTNAME': 'ip-10-0-172-143.us-east-2.compute.internal', 'AWS_CONTAINER_CREDENTIALS_RELATIVE_URI': '/v2/credentials/8ddaa09e-ac44-4d7f-998c-257c9b7012e5', 'DMLC_ROLE': 'worker', 'PWD': '/', 'DMLC_NUM_SERVER': '1', 'TRAINING_JOB_ARN': 'arn:aws:sagemaker:us-east-2:240038582877:training-job/pca-2020-04-07-03-45-18-512', 'AWS_EXECUTION_ENV': 'AWS_ECS_EC2'}\u001b[0m\n",
      "\u001b[34mProcess 60 is a shell:scheduler.\u001b[0m\n",
      "\u001b[34mProcess 69 is a shell:server.\u001b[0m\n",
      "\u001b[34mProcess 1 is a worker.\u001b[0m\n",
      "\u001b[34m[04/07/2020 03:47:59 INFO 140434131449664] Using default worker.\u001b[0m\n",
      "\u001b[34m[04/07/2020 03:47:59 INFO 140434131449664] Loaded iterator creator application/x-recordio-protobuf for content type ('application/x-recordio-protobuf', '1.0')\u001b[0m\n",
      "\u001b[34m[04/07/2020 03:47:59 INFO 140434131449664] Loaded iterator creator application/x-labeled-vector-protobuf for content type ('application/x-labeled-vector-protobuf', '1.0')\u001b[0m\n",
      "\u001b[34m[04/07/2020 03:47:59 INFO 140434131449664] Loaded iterator creator protobuf for content type ('protobuf', '1.0')\u001b[0m\n",
      "\u001b[34m[04/07/2020 03:47:59 INFO 140434131449664] Create Store: dist_sync\u001b[0m\n",
      "\u001b[34m[04/07/2020 03:47:59 INFO 140434131449664] nvidia-smi took: 0.0251960754395 secs to identify 0 gpus\u001b[0m\n",
      "\u001b[34m[04/07/2020 03:47:59 INFO 140434131449664] Number of GPUs being used: 0\u001b[0m\n",
      "\u001b[34m[04/07/2020 03:47:59 INFO 140434131449664] The default executor is <PCAExecutor on cpu(0)>.\u001b[0m\n",
      "\u001b[34m[04/07/2020 03:47:59 INFO 140434131449664] 95 feature(s) found in 'data'.\u001b[0m\n",
      "\u001b[34m[04/07/2020 03:47:59 INFO 140434131449664] <PCAExecutor on cpu(0)> is assigned to batch slice from 0 to 499.\u001b[0m\n",
      "\u001b[34m#metrics {\"Metrics\": {\"initialize.time\": {\"count\": 1, \"max\": 595.2432155609131, \"sum\": 595.2432155609131, \"min\": 595.2432155609131}}, \"EndTime\": 1586231279.927724, \"Dimensions\": {\"Host\": \"algo-1\", \"Operation\": \"training\", \"Algorithm\": \"PCA\"}, \"StartTime\": 1586231279.321872}\n",
      "\u001b[0m\n",
      "\u001b[34m#metrics {\"Metrics\": {\"Max Batches Seen Between Resets\": {\"count\": 1, \"max\": 0, \"sum\": 0.0, \"min\": 0}, \"Number of Batches Since Last Reset\": {\"count\": 1, \"max\": 0, \"sum\": 0.0, \"min\": 0}, \"Number of Records Since Last Reset\": {\"count\": 1, \"max\": 0, \"sum\": 0.0, \"min\": 0}, \"Total Batches Seen\": {\"count\": 1, \"max\": 0, \"sum\": 0.0, \"min\": 0}, \"Total Records Seen\": {\"count\": 1, \"max\": 0, \"sum\": 0.0, \"min\": 0}, \"Max Records Seen Between Resets\": {\"count\": 1, \"max\": 0, \"sum\": 0.0, \"min\": 0}, \"Reset Count\": {\"count\": 1, \"max\": 0, \"sum\": 0.0, \"min\": 0}}, \"EndTime\": 1586231279.92796, \"Dimensions\": {\"Host\": \"algo-1\", \"Meta\": \"init_train_data_iter\", \"Operation\": \"training\", \"Algorithm\": \"PCA\"}, \"StartTime\": 1586231279.927901}\n",
      "\u001b[0m\n",
      "\u001b[34m[2020-04-07 03:47:59.928] [tensorio] [info] epoch_stats={\"data_pipeline\": \"/opt/ml/input/data/train\", \"epoch\": 0, \"duration\": 605, \"num_examples\": 1, \"num_bytes\": 204000}\u001b[0m\n",
      "\u001b[34m[2020-04-07 03:48:00.376] [tensorio] [info] epoch_stats={\"data_pipeline\": \"/opt/ml/input/data/train\", \"epoch\": 1, \"duration\": 437, \"num_examples\": 384, \"num_bytes\": 78194016}\u001b[0m\n",
      "\u001b[34m#metrics {\"Metrics\": {\"epochs\": {\"count\": 1, \"max\": 1, \"sum\": 1.0, \"min\": 1}, \"update.time\": {\"count\": 1, \"max\": 447.7829933166504, \"sum\": 447.7829933166504, \"min\": 447.7829933166504}}, \"EndTime\": 1586231280.376542, \"Dimensions\": {\"Host\": \"algo-1\", \"Operation\": \"training\", \"Algorithm\": \"PCA\"}, \"StartTime\": 1586231279.927825}\n",
      "\u001b[0m\n",
      "\u001b[34m[04/07/2020 03:48:00 INFO 140434131449664] #progress_metric: host=algo-1, completed 100 % of epochs\u001b[0m\n",
      "\u001b[34m#metrics {\"Metrics\": {\"Max Batches Seen Between Resets\": {\"count\": 1, \"max\": 384, \"sum\": 384.0, \"min\": 384}, \"Number of Batches Since Last Reset\": {\"count\": 1, \"max\": 384, \"sum\": 384.0, \"min\": 384}, \"Number of Records Since Last Reset\": {\"count\": 1, \"max\": 191652, \"sum\": 191652.0, \"min\": 191652}, \"Total Batches Seen\": {\"count\": 1, \"max\": 384, \"sum\": 384.0, \"min\": 384}, \"Total Records Seen\": {\"count\": 1, \"max\": 191652, \"sum\": 191652.0, \"min\": 191652}, \"Max Records Seen Between Resets\": {\"count\": 1, \"max\": 191652, \"sum\": 191652.0, \"min\": 191652}, \"Reset Count\": {\"count\": 1, \"max\": 1, \"sum\": 1.0, \"min\": 1}}, \"EndTime\": 1586231280.376959, \"Dimensions\": {\"Host\": \"algo-1\", \"Meta\": \"training_data_iter\", \"Operation\": \"training\", \"Algorithm\": \"PCA\", \"epoch\": 0}, \"StartTime\": 1586231279.928728}\n",
      "\u001b[0m\n",
      "\u001b[34m[04/07/2020 03:48:00 INFO 140434131449664] #throughput_metric: host=algo-1, train throughput=427444.595867 records/second\u001b[0m\n",
      "\u001b[34m#metrics {\"Metrics\": {\"finalize.time\": {\"count\": 1, \"max\": 22.227048873901367, \"sum\": 22.227048873901367, \"min\": 22.227048873901367}}, \"EndTime\": 1586231280.399589, \"Dimensions\": {\"Host\": \"algo-1\", \"Operation\": \"training\", \"Algorithm\": \"PCA\"}, \"StartTime\": 1586231280.376611}\n",
      "\u001b[0m\n",
      "\u001b[34m[04/07/2020 03:48:00 INFO 140434131449664] Test data is not provided.\u001b[0m\n",
      "\u001b[34m#metrics {\"Metrics\": {\"totaltime\": {\"count\": 1, \"max\": 2767.6379680633545, \"sum\": 2767.6379680633545, \"min\": 2767.6379680633545}, \"setuptime\": {\"count\": 1, \"max\": 1567.7838325500488, \"sum\": 1567.7838325500488, \"min\": 1567.7838325500488}}, \"EndTime\": 1586231280.410182, \"Dimensions\": {\"Host\": \"algo-1\", \"Operation\": \"training\", \"Algorithm\": \"PCA\"}, \"StartTime\": 1586231280.399642}\n",
      "\u001b[0m\n"
     ]
    },
    {
     "name": "stdout",
     "output_type": "stream",
     "text": [
      "\n",
      "2020-04-07 03:48:11 Uploading - Uploading generated training model\n",
      "2020-04-07 03:48:11 Completed - Training job completed\n",
      "Training seconds: 71\n",
      "Billable seconds: 71\n"
     ]
    }
   ],
   "source": [
    "pca.fit(formatted_train_data)"
   ]
  },
  {
   "cell_type": "code",
   "execution_count": 30,
   "metadata": {},
   "outputs": [
    {
     "name": "stdout",
     "output_type": "stream",
     "text": [
      "pca/pca-2020-04-07-03-45-18-512/output/model.tar.gz\n"
     ]
    },
    {
     "data": {
      "text/plain": [
       "2304"
      ]
     },
     "execution_count": 30,
     "metadata": {},
     "output_type": "execute_result"
    }
   ],
   "source": [
    "#get from AWS console\n",
    "training_job_name = 'pca-2020-04-07-03-45-18-512'\n",
    "model_key = os.path.join(prefix, training_job_name, 'output/model.tar.gz')\n",
    "print(model_key)\n",
    "\n",
    "boto3.resource('s3').Bucket(bucket).download_file(model_key, 'model.tar.gz')\n",
    "\n",
    "os.system('tar -zxvf model.tar.gz')\n",
    "os.system('unzip model_algo-1')"
   ]
  },
  {
   "cell_type": "code",
   "execution_count": 32,
   "metadata": {},
   "outputs": [
    {
     "name": "stdout",
     "output_type": "stream",
     "text": [
      "Collecting mxnet\n",
      "\u001b[?25l  Downloading https://files.pythonhosted.org/packages/81/f5/d79b5b40735086ff1100c680703e0f3efc830fa455e268e9e96f3c857e93/mxnet-1.6.0-py2.py3-none-any.whl (68.7MB)\n",
      "\u001b[K    100% |████████████████████████████████| 68.7MB 707kB/s eta 0:00:01\n",
      "\u001b[?25hCollecting graphviz<0.9.0,>=0.8.1 (from mxnet)\n",
      "  Downloading https://files.pythonhosted.org/packages/53/39/4ab213673844e0c004bed8a0781a0721a3f6bb23eb8854ee75c236428892/graphviz-0.8.4-py2.py3-none-any.whl\n",
      "Requirement already satisfied: requests<3,>=2.20.0 in /home/ec2-user/anaconda3/envs/pytorch_p36/lib/python3.6/site-packages (from mxnet) (2.20.0)\n",
      "Collecting numpy<2.0.0,>1.16.0 (from mxnet)\n",
      "\u001b[?25l  Downloading https://files.pythonhosted.org/packages/07/08/a549ba8b061005bb629b76adc000f3caaaf881028b963c2e18f811c6edc1/numpy-1.18.2-cp36-cp36m-manylinux1_x86_64.whl (20.2MB)\n",
      "\u001b[K    100% |████████████████████████████████| 20.2MB 2.5MB/s eta 0:00:01\n",
      "\u001b[?25hRequirement already satisfied: certifi>=2017.4.17 in /home/ec2-user/anaconda3/envs/pytorch_p36/lib/python3.6/site-packages (from requests<3,>=2.20.0->mxnet) (2019.11.28)\n",
      "Requirement already satisfied: urllib3<1.25,>=1.21.1 in /home/ec2-user/anaconda3/envs/pytorch_p36/lib/python3.6/site-packages (from requests<3,>=2.20.0->mxnet) (1.23)\n",
      "Requirement already satisfied: chardet<3.1.0,>=3.0.2 in /home/ec2-user/anaconda3/envs/pytorch_p36/lib/python3.6/site-packages (from requests<3,>=2.20.0->mxnet) (3.0.4)\n",
      "Requirement already satisfied: idna<2.8,>=2.5 in /home/ec2-user/anaconda3/envs/pytorch_p36/lib/python3.6/site-packages (from requests<3,>=2.20.0->mxnet) (2.6)\n",
      "\u001b[31mfastai 1.0.60 requires nvidia-ml-py3, which is not installed.\u001b[0m\n",
      "Installing collected packages: graphviz, numpy, mxnet\n",
      "  Found existing installation: numpy 1.15.4\n",
      "    Uninstalling numpy-1.15.4:\n",
      "      Successfully uninstalled numpy-1.15.4\n",
      "Successfully installed graphviz-0.8.4 mxnet-1.6.0 numpy-1.18.2\n",
      "\u001b[33mYou are using pip version 10.0.1, however version 20.0.2 is available.\n",
      "You should consider upgrading via the 'pip install --upgrade pip' command.\u001b[0m\n",
      "{'s': \n",
      "[1.02480202e+01 1.12598171e+01 1.24498568e+01 1.30026417e+01\n",
      " 1.33955917e+01 1.51223946e+01 1.69041271e+01 1.79669075e+01\n",
      " 1.94268093e+01 2.09470043e+01 2.22879772e+01 2.39021282e+01\n",
      " 2.46324596e+01 2.78675594e+01 2.83099537e+01 2.93075581e+01\n",
      " 3.24424362e+01 3.27273254e+01 3.71992226e+01 3.86713181e+01\n",
      " 4.02246933e+01 4.08932953e+01 4.32484322e+01 4.51132050e+01\n",
      " 4.81680641e+01 5.00800323e+01 5.15726128e+01 5.30764084e+01\n",
      " 5.37760162e+01 5.47689095e+01 5.64503174e+01 5.81388779e+01\n",
      " 5.88070641e+01 6.09319916e+01 6.26725006e+01 6.52809601e+01\n",
      " 6.66004944e+01 6.85575409e+01 7.06329422e+01 7.33883438e+01\n",
      " 7.49578323e+01 7.66919937e+01 7.81784668e+01 7.90635834e+01\n",
      " 8.04025345e+01 8.31185226e+01 8.44900589e+01 8.66983643e+01\n",
      " 8.73075638e+01 8.85535507e+01 8.93384018e+01 9.10819702e+01\n",
      " 9.16562119e+01 9.29253693e+01 9.54409409e+01 9.66486588e+01\n",
      " 9.70639572e+01 9.79237518e+01 9.83951645e+01 1.00029449e+02\n",
      " 1.01369911e+02 1.03432579e+02 1.08350578e+02 1.12070213e+02\n",
      " 1.14297577e+02 1.15605309e+02 1.16148354e+02 1.17987953e+02\n",
      " 1.19448837e+02 1.20136681e+02 1.22456360e+02 1.23977028e+02\n",
      " 1.26236549e+02 1.26486084e+02 1.28986496e+02 1.32907181e+02\n",
      " 1.35707504e+02 1.36172012e+02 1.41120361e+02 1.43329422e+02\n",
      " 1.45109863e+02 1.46764465e+02 1.49500916e+02 1.51033401e+02\n",
      " 1.57155548e+02 1.58331024e+02 1.67029282e+02 1.88323944e+02\n",
      " 1.93034225e+02 2.21536667e+02 3.19527313e+02 3.37852020e+02\n",
      " 6.75310791e+02 2.42202960e+07]\n",
      "<NDArray 94 @cpu(0)>, 'v': \n",
      "[[ 1.39585266e-09  1.23239097e-09 -4.18991009e-10 ...  1.94568166e-08\n",
      "   1.13163004e-07  1.00000000e+00]\n",
      " [-1.64509445e-04  1.32176556e-05 -7.22684126e-05 ... -3.75226111e-04\n",
      "   5.99816150e-04  4.30810445e-08]\n",
      " [-1.28056656e-03 -1.01332509e-04 -6.20160063e-05 ...  1.71815425e-01\n",
      "   1.26918286e-01 -1.96971843e-08]\n",
      " ...\n",
      " [-3.98191187e-04  2.52636295e-04 -1.70845102e-04 ... -8.44185054e-02\n",
      "   1.31056807e-03  6.33974739e-09]\n",
      " [ 1.78345770e-04  6.85526393e-05  1.41459197e-04 ... -3.68348621e-02\n",
      "  -8.51758868e-02 -5.73162895e-09]\n",
      " [-3.99220065e-04  1.73038352e-04  3.02464236e-04 ...  7.02948496e-02\n",
      "   5.85750565e-02 -1.39585721e-08]]\n",
      "<NDArray 95x94 @cpu(0)>, 'mean': \n",
      "[[9.58254844e+04 4.99999851e-01 3.36089641e-01 1.51733346e-02\n",
      "  2.65872441e-02 9.29733634e-01 9.23094302e-02 7.07462877e-02\n",
      "  1.89957432e-02 9.85163152e-01 9.55627263e-01 6.34967983e-02\n",
      "  1.39818192e-01 2.18254194e-01 1.42652184e-01 7.69273713e-02\n",
      "  3.49141002e-01 3.11807618e-02 1.08285606e-01 6.77522868e-02\n",
      "  9.83448848e-02 4.92179357e-02 1.56279832e-01 2.39763573e-01\n",
      "  6.14388585e-01 8.23603928e-01 7.16190517e-01 2.19322383e-01\n",
      "  2.19575912e-01 1.54787943e-01 4.03058678e-01 2.50872880e-01\n",
      "  8.25193375e-02 7.22738653e-02 1.14251025e-01 2.53650993e-01\n",
      "  2.04597026e-01 8.55412111e-02 4.67062116e-01 3.32033455e-01\n",
      "  7.53796706e-03 1.44785028e-02 9.42445517e-01 1.32670522e-01\n",
      "  9.77704465e-01 9.97556210e-01 9.30540636e-02 3.34639251e-02\n",
      "  1.28547236e-01 2.01047525e-01 6.84907258e-01 8.54582071e-01\n",
      "  7.44420528e-01 1.10966705e-01 1.69578083e-02 2.93144044e-02\n",
      "  9.12129939e-01 9.90811050e-01 9.98129964e-01 1.66944697e-01\n",
      "  3.37984592e-01 1.12589508e-01 3.59951884e-01 4.45294082e-01\n",
      "  7.40943193e-01 2.64262825e-01 4.11544114e-01 7.95829177e-01\n",
      "  6.27591789e-01 4.97467905e-01 3.67170691e-01 5.49598992e-01\n",
      "  4.99729991e-01 2.57810950e-01 2.83218086e-01 5.80639303e-01\n",
      "  5.68003416e-01 5.69004238e-01 5.31207621e-01 6.12422168e-01\n",
      "  4.47082907e-01 7.27746367e-01 4.80526924e-01 4.21375751e-01\n",
      "  3.60979915e-01 5.18797934e-01 4.57023054e-01 3.19859982e-01\n",
      "  5.30879676e-01 4.96938467e-01 6.16335928e-01 3.15361232e-01\n",
      "  9.02469084e-02 3.76432270e-01 2.57613420e-01]]\n",
      "<NDArray 1x95 @cpu(0)>}\n"
     ]
    }
   ],
   "source": [
    "#!pip install mxnet\n",
    "import mxnet as mx\n",
    "\n",
    "pca_model_params = mx.ndarray.load('model_algo-1')\n",
    "\n",
    "print(pca_model_params)"
   ]
  },
  {
   "cell_type": "code",
   "execution_count": null,
   "metadata": {},
   "outputs": [],
   "source": [
    "#mean - mean subtracted from a component in order to center it\n",
    "#v - makeup of the principal component (same as components_)\n",
    "# singular values of the components for the PCA transformation, % of variance from the projected future space"
   ]
  }
 ],
 "metadata": {
  "kernelspec": {
   "display_name": "conda_pytorch_p36",
   "language": "python",
   "name": "conda_pytorch_p36"
  },
  "language_info": {
   "codemirror_mode": {
    "name": "ipython",
    "version": 3
   },
   "file_extension": ".py",
   "mimetype": "text/x-python",
   "name": "python",
   "nbconvert_exporter": "python",
   "pygments_lexer": "ipython3",
   "version": "3.6.5"
  }
 },
 "nbformat": 4,
 "nbformat_minor": 4
}
