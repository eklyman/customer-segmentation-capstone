{
 "cells": [
  {
   "cell_type": "code",
   "execution_count": 6,
   "metadata": {},
   "outputs": [],
   "source": [
    "import io\n",
    "import os\n",
    "import matplotlib.pyplot as plt\n",
    "import pandas as pd\n",
    "import numpy as np\n",
    "\n",
    "import boto3\n",
    "import sagemaker\n",
    "from sagemaker import get_execution_role, PCA"
   ]
  },
  {
   "cell_type": "code",
   "execution_count": 7,
   "metadata": {},
   "outputs": [
    {
     "name": "stdout",
     "output_type": "stream",
     "text": [
      "<sagemaker.session.Session object at 0x7f0a72379160>\n",
      "arn:aws:iam::240038582877:role/service-role/AmazonSageMaker-ExecutionRole-20191028T202433\n"
     ]
    }
   ],
   "source": [
    "session = sagemaker.Session()\n",
    "print(session)\n",
    "\n",
    "role = get_execution_role()\n",
    "print(role)\n",
    "\n",
    "bucket = session.default_bucket()"
   ]
  },
  {
   "cell_type": "markdown",
   "metadata": {},
   "source": [
    "### Customers"
   ]
  },
  {
   "cell_type": "code",
   "execution_count": 8,
   "metadata": {},
   "outputs": [],
   "source": [
    "# load data\n",
    "prefix = 'segmentation'\n",
    "\n",
    "data_key= prefix + '/customers_scaled.csv'\n",
    "data_location = 's3://{}/{}'.format(bucket, data_key)"
   ]
  },
  {
   "cell_type": "code",
   "execution_count": 9,
   "metadata": {},
   "outputs": [
    {
     "name": "stdout",
     "output_type": "stream",
     "text": [
      "(191652, 94)\n"
     ]
    }
   ],
   "source": [
    "tmp_list = []\n",
    "\n",
    "for chunk in pd.read_csv(data_location, chunksize=100000):\n",
    "    tmp_list.append(chunk)\n",
    "    \n",
    "df = pd.concat(tmp_list, axis=0).drop(['Unnamed: 0'], axis=1)\n",
    "print(df.shape)\n",
    "del tmp_list"
   ]
  },
  {
   "cell_type": "code",
   "execution_count": 10,
   "metadata": {},
   "outputs": [
    {
     "data": {
      "text/html": [
       "<div>\n",
       "<style scoped>\n",
       "    .dataframe tbody tr th:only-of-type {\n",
       "        vertical-align: middle;\n",
       "    }\n",
       "\n",
       "    .dataframe tbody tr th {\n",
       "        vertical-align: top;\n",
       "    }\n",
       "\n",
       "    .dataframe thead th {\n",
       "        text-align: right;\n",
       "    }\n",
       "</style>\n",
       "<table border=\"1\" class=\"dataframe\">\n",
       "  <thead>\n",
       "    <tr style=\"text-align: right;\">\n",
       "      <th></th>\n",
       "      <th>LNR</th>\n",
       "      <th>AGER_TYP</th>\n",
       "      <th>D19_BANKEN_ANZ_12</th>\n",
       "      <th>D19_BANKEN_ANZ_24</th>\n",
       "      <th>D19_BANKEN_DATUM</th>\n",
       "      <th>D19_BANKEN_DIREKT</th>\n",
       "      <th>D19_BANKEN_GROSS</th>\n",
       "      <th>D19_BANKEN_LOKAL</th>\n",
       "      <th>D19_BANKEN_OFFLINE_DATUM</th>\n",
       "      <th>D19_BANKEN_ONLINE_DATUM</th>\n",
       "      <th>...</th>\n",
       "      <th>SEMIO_REL</th>\n",
       "      <th>SEMIO_SOZ</th>\n",
       "      <th>SEMIO_TRADV</th>\n",
       "      <th>SEMIO_VERT</th>\n",
       "      <th>SHOPPER_TYP</th>\n",
       "      <th>VERS_TYP</th>\n",
       "      <th>ZABEOTYP</th>\n",
       "      <th>ONLINE_PURCHASE</th>\n",
       "      <th>ANREDE_KZ</th>\n",
       "      <th>ALTERSKATEGORIE_GROB</th>\n",
       "    </tr>\n",
       "  </thead>\n",
       "  <tbody>\n",
       "    <tr>\n",
       "      <th>0</th>\n",
       "      <td>0.050221</td>\n",
       "      <td>0.75</td>\n",
       "      <td>0.000000</td>\n",
       "      <td>0.000000</td>\n",
       "      <td>1.000000</td>\n",
       "      <td>0.000000</td>\n",
       "      <td>0.000000</td>\n",
       "      <td>0.000000</td>\n",
       "      <td>1.0</td>\n",
       "      <td>1.000000</td>\n",
       "      <td>...</td>\n",
       "      <td>0.166667</td>\n",
       "      <td>0.833333</td>\n",
       "      <td>0.0</td>\n",
       "      <td>0.833333</td>\n",
       "      <td>1.00</td>\n",
       "      <td>0.666667</td>\n",
       "      <td>0.4</td>\n",
       "      <td>0.0</td>\n",
       "      <td>0.0</td>\n",
       "      <td>0.375</td>\n",
       "    </tr>\n",
       "    <tr>\n",
       "      <th>1</th>\n",
       "      <td>0.050232</td>\n",
       "      <td>0.00</td>\n",
       "      <td>0.000000</td>\n",
       "      <td>0.166667</td>\n",
       "      <td>0.555556</td>\n",
       "      <td>0.000000</td>\n",
       "      <td>0.833333</td>\n",
       "      <td>0.000000</td>\n",
       "      <td>1.0</td>\n",
       "      <td>1.000000</td>\n",
       "      <td>...</td>\n",
       "      <td>0.166667</td>\n",
       "      <td>0.333333</td>\n",
       "      <td>0.0</td>\n",
       "      <td>1.000000</td>\n",
       "      <td>1.00</td>\n",
       "      <td>0.666667</td>\n",
       "      <td>0.4</td>\n",
       "      <td>0.0</td>\n",
       "      <td>0.0</td>\n",
       "      <td>0.375</td>\n",
       "    </tr>\n",
       "    <tr>\n",
       "      <th>2</th>\n",
       "      <td>0.750693</td>\n",
       "      <td>0.00</td>\n",
       "      <td>0.000000</td>\n",
       "      <td>0.000000</td>\n",
       "      <td>1.000000</td>\n",
       "      <td>0.000000</td>\n",
       "      <td>0.000000</td>\n",
       "      <td>0.000000</td>\n",
       "      <td>1.0</td>\n",
       "      <td>1.000000</td>\n",
       "      <td>...</td>\n",
       "      <td>0.000000</td>\n",
       "      <td>0.166667</td>\n",
       "      <td>0.0</td>\n",
       "      <td>0.333333</td>\n",
       "      <td>0.50</td>\n",
       "      <td>1.000000</td>\n",
       "      <td>0.4</td>\n",
       "      <td>0.0</td>\n",
       "      <td>1.0</td>\n",
       "      <td>0.375</td>\n",
       "    </tr>\n",
       "    <tr>\n",
       "      <th>3</th>\n",
       "      <td>0.750698</td>\n",
       "      <td>0.50</td>\n",
       "      <td>0.000000</td>\n",
       "      <td>0.000000</td>\n",
       "      <td>1.000000</td>\n",
       "      <td>0.000000</td>\n",
       "      <td>0.000000</td>\n",
       "      <td>0.000000</td>\n",
       "      <td>1.0</td>\n",
       "      <td>1.000000</td>\n",
       "      <td>...</td>\n",
       "      <td>0.333333</td>\n",
       "      <td>0.833333</td>\n",
       "      <td>0.5</td>\n",
       "      <td>1.000000</td>\n",
       "      <td>0.25</td>\n",
       "      <td>0.666667</td>\n",
       "      <td>0.0</td>\n",
       "      <td>0.0</td>\n",
       "      <td>0.0</td>\n",
       "      <td>0.375</td>\n",
       "    </tr>\n",
       "    <tr>\n",
       "      <th>4</th>\n",
       "      <td>0.750703</td>\n",
       "      <td>0.00</td>\n",
       "      <td>0.166667</td>\n",
       "      <td>0.333333</td>\n",
       "      <td>0.222222</td>\n",
       "      <td>0.714286</td>\n",
       "      <td>0.000000</td>\n",
       "      <td>0.428571</td>\n",
       "      <td>1.0</td>\n",
       "      <td>0.666667</td>\n",
       "      <td>...</td>\n",
       "      <td>0.500000</td>\n",
       "      <td>0.500000</td>\n",
       "      <td>0.5</td>\n",
       "      <td>0.666667</td>\n",
       "      <td>0.50</td>\n",
       "      <td>1.000000</td>\n",
       "      <td>0.0</td>\n",
       "      <td>0.0</td>\n",
       "      <td>0.0</td>\n",
       "      <td>0.250</td>\n",
       "    </tr>\n",
       "  </tbody>\n",
       "</table>\n",
       "<p>5 rows × 94 columns</p>\n",
       "</div>"
      ],
      "text/plain": [
       "        LNR  AGER_TYP  D19_BANKEN_ANZ_12  D19_BANKEN_ANZ_24  D19_BANKEN_DATUM  \\\n",
       "0  0.050221      0.75           0.000000           0.000000          1.000000   \n",
       "1  0.050232      0.00           0.000000           0.166667          0.555556   \n",
       "2  0.750693      0.00           0.000000           0.000000          1.000000   \n",
       "3  0.750698      0.50           0.000000           0.000000          1.000000   \n",
       "4  0.750703      0.00           0.166667           0.333333          0.222222   \n",
       "\n",
       "   D19_BANKEN_DIREKT  D19_BANKEN_GROSS  D19_BANKEN_LOKAL  \\\n",
       "0           0.000000          0.000000          0.000000   \n",
       "1           0.000000          0.833333          0.000000   \n",
       "2           0.000000          0.000000          0.000000   \n",
       "3           0.000000          0.000000          0.000000   \n",
       "4           0.714286          0.000000          0.428571   \n",
       "\n",
       "   D19_BANKEN_OFFLINE_DATUM  D19_BANKEN_ONLINE_DATUM  ...  SEMIO_REL  \\\n",
       "0                       1.0                 1.000000  ...   0.166667   \n",
       "1                       1.0                 1.000000  ...   0.166667   \n",
       "2                       1.0                 1.000000  ...   0.000000   \n",
       "3                       1.0                 1.000000  ...   0.333333   \n",
       "4                       1.0                 0.666667  ...   0.500000   \n",
       "\n",
       "   SEMIO_SOZ  SEMIO_TRADV  SEMIO_VERT  SHOPPER_TYP  VERS_TYP  ZABEOTYP  \\\n",
       "0   0.833333          0.0    0.833333         1.00  0.666667       0.4   \n",
       "1   0.333333          0.0    1.000000         1.00  0.666667       0.4   \n",
       "2   0.166667          0.0    0.333333         0.50  1.000000       0.4   \n",
       "3   0.833333          0.5    1.000000         0.25  0.666667       0.0   \n",
       "4   0.500000          0.5    0.666667         0.50  1.000000       0.0   \n",
       "\n",
       "   ONLINE_PURCHASE  ANREDE_KZ  ALTERSKATEGORIE_GROB  \n",
       "0              0.0        0.0                 0.375  \n",
       "1              0.0        0.0                 0.375  \n",
       "2              0.0        1.0                 0.375  \n",
       "3              0.0        0.0                 0.375  \n",
       "4              0.0        0.0                 0.250  \n",
       "\n",
       "[5 rows x 94 columns]"
      ]
     },
     "execution_count": 10,
     "metadata": {},
     "output_type": "execute_result"
    }
   ],
   "source": [
    "df.head()"
   ]
  },
  {
   "cell_type": "code",
   "execution_count": 11,
   "metadata": {},
   "outputs": [
    {
     "data": {
      "text/plain": [
       "'s3://sagemaker-us-east-2-240038582877/pca/'"
      ]
     },
     "execution_count": 11,
     "metadata": {},
     "output_type": "execute_result"
    }
   ],
   "source": [
    "# prepare space to store model artifacts\n",
    "prefix = 'pca'\n",
    "output_path = 's3://{}/{}/'.format(bucket, prefix)\n",
    "output_path"
   ]
  },
  {
   "cell_type": "code",
   "execution_count": 15,
   "metadata": {},
   "outputs": [],
   "source": [
    "N_COMPONENTS = 10\n",
    "pca = PCA(role=role,\n",
    "          train_instance_count=1,\n",
    "          train_instance_type='ml.c4.xlarge',\n",
    "          output_path=output_path,\n",
    "          num_components=N_COMPONENTS,\n",
    "          sagemaker_session=session)"
   ]
  },
  {
   "cell_type": "code",
   "execution_count": 99,
   "metadata": {},
   "outputs": [],
   "source": [
    "#must convert to RecordSet for built in sagemaker models\n",
    "\n",
    "#convert df to np array\n",
    "train_data_np = df.values.astype('float32')\n",
    "\n",
    "#convert to RecordSet format\n",
    "formatted_train_data = pca.record_set(train_data_np)"
   ]
  },
  {
   "cell_type": "code",
   "execution_count": null,
   "metadata": {},
   "outputs": [
    {
     "name": "stdout",
     "output_type": "stream",
     "text": [
      "2020-04-09 02:09:26 Starting - Starting the training job...\n",
      "2020-04-09 02:09:27 Starting - Launching requested ML instances...\n",
      "2020-04-09 02:10:24 Starting - Preparing the instances for training......\n",
      "2020-04-09 02:11:26 Downloading - Downloading input data...\n",
      "2020-04-09 02:11:56 Training - Training image download completed. Training in progress..\u001b[34mDocker entrypoint called with argument(s): train\u001b[0m\n",
      "\u001b[34mRunning default environment configuration script\u001b[0m\n",
      "\u001b[34m[04/09/2020 02:11:59 INFO 140505833207616] Reading default configuration from /opt/amazon/lib/python2.7/site-packages/algorithm/resources/default-conf.json: {u'_num_gpus': u'auto', u'_log_level': u'info', u'subtract_mean': u'true', u'force_dense': u'true', u'epochs': 1, u'algorithm_mode': u'regular', u'extra_components': u'-1', u'_kvstore': u'dist_sync', u'_num_kv_servers': u'auto'}\u001b[0m\n",
      "\u001b[34m[04/09/2020 02:11:59 INFO 140505833207616] Reading provided configuration from /opt/ml/input/config/hyperparameters.json: {u'feature_dim': u'94', u'mini_batch_size': u'500', u'num_components': u'10'}\u001b[0m\n",
      "\u001b[34m[04/09/2020 02:11:59 INFO 140505833207616] Final configuration: {u'num_components': u'10', u'_num_gpus': u'auto', u'_log_level': u'info', u'subtract_mean': u'true', u'force_dense': u'true', u'epochs': 1, u'algorithm_mode': u'regular', u'feature_dim': u'94', u'extra_components': u'-1', u'_kvstore': u'dist_sync', u'_num_kv_servers': u'auto', u'mini_batch_size': u'500'}\u001b[0m\n",
      "\u001b[34m[04/09/2020 02:11:59 WARNING 140505833207616] Loggers have already been setup.\u001b[0m\n",
      "\u001b[34m[04/09/2020 02:12:00 INFO 140505833207616] Launching parameter server for role scheduler\u001b[0m\n",
      "\u001b[34m[04/09/2020 02:12:00 INFO 140505833207616] {'ECS_CONTAINER_METADATA_URI': 'http://169.254.170.2/v3/498a7354-8d2c-41c5-a9b2-41bc5cb31fe2', 'PROTOCOL_BUFFERS_PYTHON_IMPLEMENTATION_VERSION': '2', 'PATH': '/opt/amazon/bin:/usr/local/nvidia/bin:/usr/local/sbin:/usr/local/bin:/usr/sbin:/usr/bin:/sbin:/bin:/opt/amazon/bin:/opt/amazon/bin', 'SAGEMAKER_HTTP_PORT': '8080', 'HOME': '/root', 'PYTHONUNBUFFERED': 'TRUE', 'CANONICAL_ENVROOT': '/opt/amazon', 'LD_LIBRARY_PATH': '/opt/amazon/lib/python2.7/site-packages/cv2/../../../../lib:/usr/local/nvidia/lib64:/opt/amazon/lib', 'LANG': 'en_US.utf8', 'DMLC_INTERFACE': 'eth0', 'SHLVL': '1', 'AWS_REGION': 'us-east-2', 'NVIDIA_VISIBLE_DEVICES': 'void', 'TRAINING_JOB_NAME': 'pca-2020-04-09-02-09-26-174', 'PROTOCOL_BUFFERS_PYTHON_IMPLEMENTATION': 'cpp', 'ENVROOT': '/opt/amazon', 'SAGEMAKER_DATA_PATH': '/opt/ml', 'NVIDIA_DRIVER_CAPABILITIES': 'compute,utility', 'NVIDIA_REQUIRE_CUDA': 'cuda>=9.0', 'OMP_NUM_THREADS': '2', 'HOSTNAME': 'ip-10-0-128-45.us-east-2.compute.internal', 'AWS_CONTAINER_CREDENTIALS_RELATIVE_URI': '/v2/credentials/816f0499-b096-4d53-88a3-585dbac51876', 'PWD': '/', 'TRAINING_JOB_ARN': 'arn:aws:sagemaker:us-east-2:240038582877:training-job/pca-2020-04-09-02-09-26-174', 'AWS_EXECUTION_ENV': 'AWS_ECS_EC2'}\u001b[0m\n",
      "\u001b[34m[04/09/2020 02:12:00 INFO 140505833207616] envs={'ECS_CONTAINER_METADATA_URI': 'http://169.254.170.2/v3/498a7354-8d2c-41c5-a9b2-41bc5cb31fe2', 'PROTOCOL_BUFFERS_PYTHON_IMPLEMENTATION_VERSION': '2', 'DMLC_NUM_WORKER': '1', 'DMLC_PS_ROOT_PORT': '9000', 'PATH': '/opt/amazon/bin:/usr/local/nvidia/bin:/usr/local/sbin:/usr/local/bin:/usr/sbin:/usr/bin:/sbin:/bin:/opt/amazon/bin:/opt/amazon/bin', 'SAGEMAKER_HTTP_PORT': '8080', 'HOME': '/root', 'PYTHONUNBUFFERED': 'TRUE', 'CANONICAL_ENVROOT': '/opt/amazon', 'LD_LIBRARY_PATH': '/opt/amazon/lib/python2.7/site-packages/cv2/../../../../lib:/usr/local/nvidia/lib64:/opt/amazon/lib', 'LANG': 'en_US.utf8', 'DMLC_INTERFACE': 'eth0', 'SHLVL': '1', 'DMLC_PS_ROOT_URI': '10.0.128.45', 'AWS_REGION': 'us-east-2', 'NVIDIA_VISIBLE_DEVICES': 'void', 'TRAINING_JOB_NAME': 'pca-2020-04-09-02-09-26-174', 'PROTOCOL_BUFFERS_PYTHON_IMPLEMENTATION': 'cpp', 'ENVROOT': '/opt/amazon', 'SAGEMAKER_DATA_PATH': '/opt/ml', 'NVIDIA_DRIVER_CAPABILITIES': 'compute,utility', 'NVIDIA_REQUIRE_CUDA': 'cuda>=9.0', 'OMP_NUM_THREADS': '2', 'HOSTNAME': 'ip-10-0-128-45.us-east-2.compute.internal', 'AWS_CONTAINER_CREDENTIALS_RELATIVE_URI': '/v2/credentials/816f0499-b096-4d53-88a3-585dbac51876', 'DMLC_ROLE': 'scheduler', 'PWD': '/', 'DMLC_NUM_SERVER': '1', 'TRAINING_JOB_ARN': 'arn:aws:sagemaker:us-east-2:240038582877:training-job/pca-2020-04-09-02-09-26-174', 'AWS_EXECUTION_ENV': 'AWS_ECS_EC2'}\u001b[0m\n",
      "\u001b[34m[04/09/2020 02:12:00 INFO 140505833207616] Launching parameter server for role server\u001b[0m\n",
      "\u001b[34m[04/09/2020 02:12:00 INFO 140505833207616] {'ECS_CONTAINER_METADATA_URI': 'http://169.254.170.2/v3/498a7354-8d2c-41c5-a9b2-41bc5cb31fe2', 'PROTOCOL_BUFFERS_PYTHON_IMPLEMENTATION_VERSION': '2', 'PATH': '/opt/amazon/bin:/usr/local/nvidia/bin:/usr/local/sbin:/usr/local/bin:/usr/sbin:/usr/bin:/sbin:/bin:/opt/amazon/bin:/opt/amazon/bin', 'SAGEMAKER_HTTP_PORT': '8080', 'HOME': '/root', 'PYTHONUNBUFFERED': 'TRUE', 'CANONICAL_ENVROOT': '/opt/amazon', 'LD_LIBRARY_PATH': '/opt/amazon/lib/python2.7/site-packages/cv2/../../../../lib:/usr/local/nvidia/lib64:/opt/amazon/lib', 'LANG': 'en_US.utf8', 'DMLC_INTERFACE': 'eth0', 'SHLVL': '1', 'AWS_REGION': 'us-east-2', 'NVIDIA_VISIBLE_DEVICES': 'void', 'TRAINING_JOB_NAME': 'pca-2020-04-09-02-09-26-174', 'PROTOCOL_BUFFERS_PYTHON_IMPLEMENTATION': 'cpp', 'ENVROOT': '/opt/amazon', 'SAGEMAKER_DATA_PATH': '/opt/ml', 'NVIDIA_DRIVER_CAPABILITIES': 'compute,utility', 'NVIDIA_REQUIRE_CUDA': 'cuda>=9.0', 'OMP_NUM_THREADS': '2', 'HOSTNAME': 'ip-10-0-128-45.us-east-2.compute.internal', 'AWS_CONTAINER_CREDENTIALS_RELATIVE_URI': '/v2/credentials/816f0499-b096-4d53-88a3-585dbac51876', 'PWD': '/', 'TRAINING_JOB_ARN': 'arn:aws:sagemaker:us-east-2:240038582877:training-job/pca-2020-04-09-02-09-26-174', 'AWS_EXECUTION_ENV': 'AWS_ECS_EC2'}\u001b[0m\n",
      "\u001b[34m[04/09/2020 02:12:00 INFO 140505833207616] envs={'ECS_CONTAINER_METADATA_URI': 'http://169.254.170.2/v3/498a7354-8d2c-41c5-a9b2-41bc5cb31fe2', 'PROTOCOL_BUFFERS_PYTHON_IMPLEMENTATION_VERSION': '2', 'DMLC_NUM_WORKER': '1', 'DMLC_PS_ROOT_PORT': '9000', 'PATH': '/opt/amazon/bin:/usr/local/nvidia/bin:/usr/local/sbin:/usr/local/bin:/usr/sbin:/usr/bin:/sbin:/bin:/opt/amazon/bin:/opt/amazon/bin', 'SAGEMAKER_HTTP_PORT': '8080', 'HOME': '/root', 'PYTHONUNBUFFERED': 'TRUE', 'CANONICAL_ENVROOT': '/opt/amazon', 'LD_LIBRARY_PATH': '/opt/amazon/lib/python2.7/site-packages/cv2/../../../../lib:/usr/local/nvidia/lib64:/opt/amazon/lib', 'LANG': 'en_US.utf8', 'DMLC_INTERFACE': 'eth0', 'SHLVL': '1', 'DMLC_PS_ROOT_URI': '10.0.128.45', 'AWS_REGION': 'us-east-2', 'NVIDIA_VISIBLE_DEVICES': 'void', 'TRAINING_JOB_NAME': 'pca-2020-04-09-02-09-26-174', 'PROTOCOL_BUFFERS_PYTHON_IMPLEMENTATION': 'cpp', 'ENVROOT': '/opt/amazon', 'SAGEMAKER_DATA_PATH': '/opt/ml', 'NVIDIA_DRIVER_CAPABILITIES': 'compute,utility', 'NVIDIA_REQUIRE_CUDA': 'cuda>=9.0', 'OMP_NUM_THREADS': '2', 'HOSTNAME': 'ip-10-0-128-45.us-east-2.compute.internal', 'AWS_CONTAINER_CREDENTIALS_RELATIVE_URI': '/v2/credentials/816f0499-b096-4d53-88a3-585dbac51876', 'DMLC_ROLE': 'server', 'PWD': '/', 'DMLC_NUM_SERVER': '1', 'TRAINING_JOB_ARN': 'arn:aws:sagemaker:us-east-2:240038582877:training-job/pca-2020-04-09-02-09-26-174', 'AWS_EXECUTION_ENV': 'AWS_ECS_EC2'}\u001b[0m\n",
      "\u001b[34m[04/09/2020 02:12:00 INFO 140505833207616] Environment: {'ECS_CONTAINER_METADATA_URI': 'http://169.254.170.2/v3/498a7354-8d2c-41c5-a9b2-41bc5cb31fe2', 'PROTOCOL_BUFFERS_PYTHON_IMPLEMENTATION_VERSION': '2', 'DMLC_PS_ROOT_PORT': '9000', 'DMLC_NUM_WORKER': '1', 'SAGEMAKER_HTTP_PORT': '8080', 'PATH': '/opt/amazon/bin:/usr/local/nvidia/bin:/usr/local/sbin:/usr/local/bin:/usr/sbin:/usr/bin:/sbin:/bin:/opt/amazon/bin:/opt/amazon/bin', 'PYTHONUNBUFFERED': 'TRUE', 'CANONICAL_ENVROOT': '/opt/amazon', 'LD_LIBRARY_PATH': '/opt/amazon/lib/python2.7/site-packages/cv2/../../../../lib:/usr/local/nvidia/lib64:/opt/amazon/lib', 'LANG': 'en_US.utf8', 'DMLC_INTERFACE': 'eth0', 'SHLVL': '1', 'DMLC_PS_ROOT_URI': '10.0.128.45', 'AWS_REGION': 'us-east-2', 'NVIDIA_VISIBLE_DEVICES': 'void', 'TRAINING_JOB_NAME': 'pca-2020-04-09-02-09-26-174', 'HOME': '/root', 'PROTOCOL_BUFFERS_PYTHON_IMPLEMENTATION': 'cpp', 'ENVROOT': '/opt/amazon', 'SAGEMAKER_DATA_PATH': '/opt/ml', 'NVIDIA_DRIVER_CAPABILITIES': 'compute,utility', 'NVIDIA_REQUIRE_CUDA': 'cuda>=9.0', 'OMP_NUM_THREADS': '2', 'HOSTNAME': 'ip-10-0-128-45.us-east-2.compute.internal', 'AWS_CONTAINER_CREDENTIALS_RELATIVE_URI': '/v2/credentials/816f0499-b096-4d53-88a3-585dbac51876', 'DMLC_ROLE': 'worker', 'PWD': '/', 'DMLC_NUM_SERVER': '1', 'TRAINING_JOB_ARN': 'arn:aws:sagemaker:us-east-2:240038582877:training-job/pca-2020-04-09-02-09-26-174', 'AWS_EXECUTION_ENV': 'AWS_ECS_EC2'}\u001b[0m\n",
      "\u001b[34mProcess 60 is a shell:scheduler.\u001b[0m\n",
      "\u001b[34mProcess 69 is a shell:server.\u001b[0m\n",
      "\u001b[34mProcess 1 is a worker.\u001b[0m\n",
      "\u001b[34m[04/09/2020 02:12:00 INFO 140505833207616] Using default worker.\u001b[0m\n",
      "\u001b[34m[04/09/2020 02:12:00 INFO 140505833207616] Loaded iterator creator application/x-recordio-protobuf for content type ('application/x-recordio-protobuf', '1.0')\u001b[0m\n",
      "\u001b[34m[04/09/2020 02:12:00 INFO 140505833207616] Loaded iterator creator application/x-labeled-vector-protobuf for content type ('application/x-labeled-vector-protobuf', '1.0')\u001b[0m\n",
      "\u001b[34m[04/09/2020 02:12:00 INFO 140505833207616] Loaded iterator creator protobuf for content type ('protobuf', '1.0')\u001b[0m\n",
      "\u001b[34m[04/09/2020 02:12:00 INFO 140505833207616] Create Store: dist_sync\u001b[0m\n",
      "\u001b[34m[04/09/2020 02:12:01 INFO 140505833207616] nvidia-smi took: 0.0252349376678 secs to identify 0 gpus\u001b[0m\n",
      "\u001b[34m[04/09/2020 02:12:01 INFO 140505833207616] Number of GPUs being used: 0\u001b[0m\n",
      "\u001b[34m[04/09/2020 02:12:01 INFO 140505833207616] The default executor is <PCAExecutor on cpu(0)>.\u001b[0m\n",
      "\u001b[34m[04/09/2020 02:12:01 INFO 140505833207616] 94 feature(s) found in 'data'.\u001b[0m\n",
      "\u001b[34m[04/09/2020 02:12:01 INFO 140505833207616] <PCAExecutor on cpu(0)> is assigned to batch slice from 0 to 499.\u001b[0m\n",
      "\u001b[34m#metrics {\"Metrics\": {\"initialize.time\": {\"count\": 1, \"max\": 688.866138458252, \"sum\": 688.866138458252, \"min\": 688.866138458252}}, \"EndTime\": 1586398321.36499, \"Dimensions\": {\"Host\": \"algo-1\", \"Operation\": \"training\", \"Algorithm\": \"PCA\"}, \"StartTime\": 1586398320.671449}\n",
      "\u001b[0m\n",
      "\u001b[34m#metrics {\"Metrics\": {\"Max Batches Seen Between Resets\": {\"count\": 1, \"max\": 0, \"sum\": 0.0, \"min\": 0}, \"Number of Batches Since Last Reset\": {\"count\": 1, \"max\": 0, \"sum\": 0.0, \"min\": 0}, \"Number of Records Since Last Reset\": {\"count\": 1, \"max\": 0, \"sum\": 0.0, \"min\": 0}, \"Total Batches Seen\": {\"count\": 1, \"max\": 0, \"sum\": 0.0, \"min\": 0}, \"Total Records Seen\": {\"count\": 1, \"max\": 0, \"sum\": 0.0, \"min\": 0}, \"Max Records Seen Between Resets\": {\"count\": 1, \"max\": 0, \"sum\": 0.0, \"min\": 0}, \"Reset Count\": {\"count\": 1, \"max\": 0, \"sum\": 0.0, \"min\": 0}}, \"EndTime\": 1586398321.365343, \"Dimensions\": {\"Host\": \"algo-1\", \"Meta\": \"init_train_data_iter\", \"Operation\": \"training\", \"Algorithm\": \"PCA\"}, \"StartTime\": 1586398321.365253}\n",
      "\u001b[0m\n",
      "\u001b[34m[2020-04-09 02:12:01.366] [tensorio] [info] epoch_stats={\"data_pipeline\": \"/opt/ml/input/data/train\", \"epoch\": 0, \"duration\": 693, \"num_examples\": 1, \"num_bytes\": 202000}\u001b[0m\n",
      "\u001b[34m[2020-04-09 02:12:01.756] [tensorio] [info] epoch_stats={\"data_pipeline\": \"/opt/ml/input/data/train\", \"epoch\": 1, \"duration\": 378, \"num_examples\": 384, \"num_bytes\": 77427408}\u001b[0m\n",
      "\u001b[34m#metrics {\"Metrics\": {\"epochs\": {\"count\": 1, \"max\": 1, \"sum\": 1.0, \"min\": 1}, \"update.time\": {\"count\": 1, \"max\": 390.54203033447266, \"sum\": 390.54203033447266, \"min\": 390.54203033447266}}, \"EndTime\": 1586398321.757225, \"Dimensions\": {\"Host\": \"algo-1\", \"Operation\": \"training\", \"Algorithm\": \"PCA\"}, \"StartTime\": 1586398321.365166}\n",
      "\u001b[0m\n",
      "\u001b[34m[04/09/2020 02:12:01 INFO 140505833207616] #progress_metric: host=algo-1, completed 100 % of epochs\u001b[0m\n",
      "\u001b[34m#metrics {\"Metrics\": {\"Max Batches Seen Between Resets\": {\"count\": 1, \"max\": 384, \"sum\": 384.0, \"min\": 384}, \"Number of Batches Since Last Reset\": {\"count\": 1, \"max\": 384, \"sum\": 384.0, \"min\": 384}, \"Number of Records Since Last Reset\": {\"count\": 1, \"max\": 191652, \"sum\": 191652.0, \"min\": 191652}, \"Total Batches Seen\": {\"count\": 1, \"max\": 384, \"sum\": 384.0, \"min\": 384}, \"Total Records Seen\": {\"count\": 1, \"max\": 191652, \"sum\": 191652.0, \"min\": 191652}, \"Max Records Seen Between Resets\": {\"count\": 1, \"max\": 191652, \"sum\": 191652.0, \"min\": 191652}, \"Reset Count\": {\"count\": 1, \"max\": 1, \"sum\": 1.0, \"min\": 1}}, \"EndTime\": 1586398321.757703, \"Dimensions\": {\"Host\": \"algo-1\", \"Meta\": \"training_data_iter\", \"Operation\": \"training\", \"Algorithm\": \"PCA\", \"epoch\": 0}, \"StartTime\": 1586398321.366648}\n",
      "\u001b[0m\n",
      "\u001b[34m[04/09/2020 02:12:01 INFO 140505833207616] #throughput_metric: host=algo-1, train throughput=489854.155418 records/second\u001b[0m\n",
      "\u001b[34m#metrics {\"Metrics\": {\"finalize.time\": {\"count\": 1, \"max\": 32.115936279296875, \"sum\": 32.115936279296875, \"min\": 32.115936279296875}}, \"EndTime\": 1586398321.79057, \"Dimensions\": {\"Host\": \"algo-1\", \"Operation\": \"training\", \"Algorithm\": \"PCA\"}, \"StartTime\": 1586398321.757308}\n",
      "\u001b[0m\n",
      "\u001b[34m[04/09/2020 02:12:01 INFO 140505833207616] Test data is not provided.\u001b[0m\n",
      "\u001b[34m#metrics {\"Metrics\": {\"totaltime\": {\"count\": 1, \"max\": 2804.6329021453857, \"sum\": 2804.6329021453857, \"min\": 2804.6329021453857}, \"setuptime\": {\"count\": 1, \"max\": 1553.4679889678955, \"sum\": 1553.4679889678955, \"min\": 1553.4679889678955}}, \"EndTime\": 1586398321.803358, \"Dimensions\": {\"Host\": \"algo-1\", \"Operation\": \"training\", \"Algorithm\": \"PCA\"}, \"StartTime\": 1586398321.790644}\n",
      "\u001b[0m\n"
     ]
    },
    {
     "name": "stdout",
     "output_type": "stream",
     "text": [
      "\n",
      "2020-04-09 02:12:12 Uploading - Uploading generated training model\n",
      "2020-04-09 02:12:12 Completed - Training job completed\n"
     ]
    }
   ],
   "source": [
    "# pca.fit(formatted_train_data)"
   ]
  },
  {
   "cell_type": "code",
   "execution_count": 12,
   "metadata": {},
   "outputs": [
    {
     "name": "stdout",
     "output_type": "stream",
     "text": [
      "pca/pca-2020-04-09-02-04-47-061/output/model.tar.gz\n"
     ]
    },
    {
     "data": {
      "text/plain": [
       "2304"
      ]
     },
     "execution_count": 12,
     "metadata": {},
     "output_type": "execute_result"
    }
   ],
   "source": [
    "#get from AWS console\n",
    "training_job_name = 'pca-2020-04-09-02-04-47-061'\n",
    "model_key = os.path.join(prefix, training_job_name, 'output/model.tar.gz')\n",
    "print(model_key)\n",
    "\n",
    "boto3.resource('s3').Bucket(bucket).download_file(model_key, 'model.tar.gz')\n",
    "\n",
    "os.system('tar -zxvf model.tar.gz')\n",
    "os.system('unzip model_algo-1')"
   ]
  },
  {
   "cell_type": "code",
   "execution_count": 13,
   "metadata": {},
   "outputs": [
    {
     "name": "stdout",
     "output_type": "stream",
     "text": [
      "{'s': \n",
      "[141.1204  143.32965 145.11024 146.76447 149.50151 151.03342 157.1557\n",
      " 158.33104 167.0297  188.32408 193.03432 221.53874 319.5286  337.85233\n",
      " 675.31635]\n",
      "<NDArray 15 @cpu(0)>, 'v': \n",
      "[[ 7.0923059e-03 -5.8247638e-04  3.1522124e-03 ... -1.3421000e-03\n",
      "   3.8028313e-04  5.9330574e-04]\n",
      " [ 2.4519821e-01 -9.0075172e-02  5.8993749e-02 ...  5.7734650e-02\n",
      "  -1.7181677e-01  1.2691927e-01]\n",
      " [-1.9225318e-02 -1.3404696e-02  8.6637484e-03 ... -9.3044837e-05\n",
      "   2.0812510e-02  9.0478146e-03]\n",
      " ...\n",
      " [ 1.2520333e-02  3.1468025e-03 -2.0302340e-02 ... -2.4974789e-02\n",
      "   8.4419683e-02  1.3095209e-03]\n",
      " [ 6.9954127e-02  1.1673045e-02 -1.6498663e-02 ...  5.7309365e-01\n",
      "   3.6814865e-02 -8.5172832e-02]\n",
      " [-4.5499880e-02 -2.4861801e-02  4.9221837e-03 ...  1.8885460e-02\n",
      "  -7.0295915e-02  5.8576241e-02]]\n",
      "<NDArray 94x15 @cpu(0)>, 'mean': \n",
      "[[0.49999985 0.33608964 0.01517333 0.02658724 0.92973363 0.09230943\n",
      "  0.07074629 0.01899574 0.98516315 0.95562726 0.0634968  0.13981819\n",
      "  0.2182542  0.14265218 0.07692737 0.349141   0.03118076 0.10828561\n",
      "  0.06775229 0.09834488 0.04921794 0.15627983 0.23976357 0.6143886\n",
      "  0.8236039  0.7161905  0.21932238 0.21957591 0.15478794 0.40305868\n",
      "  0.25087288 0.08251934 0.07227387 0.11425103 0.253651   0.20459703\n",
      "  0.08554121 0.46706212 0.33203346 0.00753797 0.0144785  0.9424455\n",
      "  0.13267052 0.97770447 0.9975562  0.09305406 0.03346393 0.12854724\n",
      "  0.20104752 0.68490726 0.8545821  0.7444205  0.1109667  0.01695781\n",
      "  0.0293144  0.91212994 0.99081105 0.99812996 0.1669447  0.3379846\n",
      "  0.11258951 0.35995188 0.44529408 0.7409432  0.26426283 0.4115441\n",
      "  0.7958292  0.6275918  0.4974679  0.3671707  0.549599   0.49973\n",
      "  0.25781095 0.2832181  0.5806393  0.5680034  0.56900424 0.5312076\n",
      "  0.61242217 0.4470829  0.72774637 0.48052692 0.42137575 0.3609799\n",
      "  0.51879793 0.45702305 0.31985998 0.5308797  0.49693847 0.6163359\n",
      "  0.31536123 0.09024691 0.37643227 0.25761342]]\n",
      "<NDArray 1x94 @cpu(0)>}\n"
     ]
    }
   ],
   "source": [
    "# !pip install mxnet\n",
    "import mxnet as mx\n",
    "\n",
    "pca_model_params = mx.ndarray.load('model_algo-1')\n",
    "\n",
    "print(pca_model_params)"
   ]
  },
  {
   "cell_type": "code",
   "execution_count": 16,
   "metadata": {},
   "outputs": [
    {
     "name": "stdout",
     "output_type": "stream",
     "text": [
      "             0\n",
      "5   151.033417\n",
      "6   157.155701\n",
      "7   158.331039\n",
      "8   167.029694\n",
      "9   188.324081\n",
      "10  193.034317\n",
      "11  221.538742\n",
      "12  319.528595\n",
      "13  337.852325\n",
      "14  675.316345\n"
     ]
    }
   ],
   "source": [
    "#mean - mean subtracted from a component in order to center it\n",
    "#v - makeup of the principal component (same as components_)\n",
    "#s - singular values of the components for the PCA transformation, % of variance from the projected future space\n",
    "\n",
    "#explained-variance-ratio ~= square(s) / sum(square(s))\n",
    "\n",
    "s=pd.DataFrame(pca_model_params['s'].asnumpy())\n",
    "v=pd.DataFrame(pca_model_params['v'].asnumpy())\n",
    "\n",
    "n_principal_components = 5\n",
    "\n",
    "start_idx = N_COMPONENTS - n_principal_components\n",
    "\n",
    "# s = s.apply(lambda x: '%.5f' % x, axis=1)\n",
    "\n",
    "print(s.iloc[start_idx:])"
   ]
  },
  {
   "cell_type": "code",
   "execution_count": 17,
   "metadata": {},
   "outputs": [],
   "source": [
    "#what is the smallest number or principal comonents that captures at least 80% of the\n",
    "#total variance in the dataset?\n",
    "\n",
    "def explained_variance(s, n_top_components):\n",
    "#     exp_variance = np.square(s.iloc[start_idx:])\n",
    "    exp_variance = np.square(s.iloc[start_idx:]).sum() / np.square(s).sum()\n",
    "    return exp_variance"
   ]
  },
  {
   "cell_type": "code",
   "execution_count": 20,
   "metadata": {},
   "outputs": [
    {
     "name": "stdout",
     "output_type": "stream",
     "text": [
      "0    0.894593\n",
      "dtype: float32\n"
     ]
    }
   ],
   "source": [
    "n_top_components = 10\n",
    "exp_variance = explained_variance(s, n_top_components)\n",
    "print(exp_variance)"
   ]
  },
  {
   "cell_type": "code",
   "execution_count": null,
   "metadata": {},
   "outputs": [],
   "source": []
  }
 ],
 "metadata": {
  "kernelspec": {
   "display_name": "conda_pytorch_p36",
   "language": "python",
   "name": "conda_pytorch_p36"
  },
  "language_info": {
   "codemirror_mode": {
    "name": "ipython",
    "version": 3
   },
   "file_extension": ".py",
   "mimetype": "text/x-python",
   "name": "python",
   "nbconvert_exporter": "python",
   "pygments_lexer": "ipython3",
   "version": "3.6.5"
  }
 },
 "nbformat": 4,
 "nbformat_minor": 4
}
