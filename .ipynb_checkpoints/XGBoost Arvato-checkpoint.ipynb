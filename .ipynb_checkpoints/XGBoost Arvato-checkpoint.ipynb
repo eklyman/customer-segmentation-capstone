{
 "cells": [
  {
   "cell_type": "code",
   "execution_count": 1,
   "metadata": {},
   "outputs": [],
   "source": [
    "import io\n",
    "import os\n",
    "import matplotlib.pyplot as plt\n",
    "import pandas as pd\n",
    "import numpy as np\n",
    "\n",
    "import boto3\n",
    "import sagemaker\n",
    "from sagemaker import get_execution_role"
   ]
  },
  {
   "cell_type": "code",
   "execution_count": 2,
   "metadata": {},
   "outputs": [
    {
     "name": "stdout",
     "output_type": "stream",
     "text": [
      "<sagemaker.session.Session object at 0x7f223165db00>\n",
      "arn:aws:iam::240038582877:role/service-role/AmazonSageMaker-ExecutionRole-20191028T202433\n"
     ]
    }
   ],
   "source": [
    "session = sagemaker.Session()\n",
    "print(session)\n",
    "\n",
    "role = get_execution_role()\n",
    "print(role)\n",
    "\n",
    "bucket = session.default_bucket()"
   ]
  },
  {
   "cell_type": "code",
   "execution_count": 3,
   "metadata": {},
   "outputs": [],
   "source": [
    "# TOP TWO COMPONENTS TOP FEATURES \n",
    "features =[\n",
    "'FINANZ_ANLEGER', # (German pop) Investor\n",
    "'D19_KONSUMTYP_MAX', # (German pop) \n",
    "'VERS_TYP', #INSURANCE \n",
    "'FINANZ_UNAUFFAELLIGER', #financial typology: unremarkable\n",
    "'SEMIO_VERT', # (German pop) affinity indicating in what way the person is dreamily\n",
    "'GEBURTSJAHR', # (German pop) birth year\n",
    "'HEALTH_TYP', #health typology\n",
    "'D19_SONSTIGE', # (German pop) transactional activity based on the product group ALL OTHER CATEGORIES\n",
    "'SHOPPER_TYP', #\n",
    "'D19_VERSAND_ONLINE_DATUM', # (German pop) actuality of the last transaction with the complete file TOTAL\n",
    "'D19_GESAMT_ONLINE_DATUM', # (German pop) actuality of the last transaction with the complete file ONLINE\n",
    "'D19_VERSAND_DATUM', # (German pop) actuality of the last transaction for the segment mail-order TOTAL\n",
    "'D19_GESAMT_ANZ_24', # (German pop) transaction activity TOTAL POOL in the last 24 months\n",
    "'D19_VERSAND_ANZ_24', #transaction activity MAIL-ORDER in the last 24 months \n",
    "'FINANZ_UNAUFFAELLIGER', #financial typology: unremarkable\n",
    "'D19_GESAMT_DATUM', # (German pop) actuality of the last transaction with the complete file TOTAL\n",
    "'FINANZ_SPARER', #financial typology: money saver\n",
    "'D19_GESAMT_ANZ_12', #transaction activity TOTAL POOL in the last 12 months \n",
    "'RESPONSE'\n",
    "]"
   ]
  },
  {
   "cell_type": "code",
   "execution_count": 4,
   "metadata": {},
   "outputs": [],
   "source": [
    "# load data\n",
    "prefix = 'segmentation'\n",
    "\n",
    "data_key= prefix + '/mailout_train_raw.csv'\n",
    "data_location = 's3://{}/{}'.format(bucket, data_key)"
   ]
  },
  {
   "cell_type": "markdown",
   "metadata": {},
   "source": [
    "### Training"
   ]
  },
  {
   "cell_type": "code",
   "execution_count": 5,
   "metadata": {},
   "outputs": [
    {
     "name": "stderr",
     "output_type": "stream",
     "text": [
      "/home/ec2-user/anaconda3/envs/mxnet_p36/lib/python3.6/site-packages/IPython/core/interactiveshell.py:2785: DtypeWarning: Columns (19,20) have mixed types. Specify dtype option on import or set low_memory=False.\n",
      "  interactivity=interactivity, compiler=compiler, result=result)\n"
     ]
    },
    {
     "name": "stdout",
     "output_type": "stream",
     "text": [
      "(42962, 367)\n"
     ]
    }
   ],
   "source": [
    "tmp_list = []\n",
    "\n",
    "for chunk in pd.read_csv(data_location, chunksize=100000):\n",
    "    tmp_list.append(chunk)\n",
    "    \n",
    "df = pd.concat(tmp_list, axis=0).drop(['Unnamed: 0'], axis=1)\n",
    "print(df.shape)\n",
    "del tmp_list"
   ]
  },
  {
   "cell_type": "code",
   "execution_count": 6,
   "metadata": {},
   "outputs": [
    {
     "data": {
      "text/plain": [
       "532"
      ]
     },
     "execution_count": 6,
     "metadata": {},
     "output_type": "execute_result"
    }
   ],
   "source": [
    "df['RESPONSE'].sum()"
   ]
  },
  {
   "cell_type": "code",
   "execution_count": 7,
   "metadata": {},
   "outputs": [
    {
     "data": {
      "text/plain": [
       "(42962, 361)"
      ]
     },
     "execution_count": 7,
     "metadata": {},
     "output_type": "execute_result"
    }
   ],
   "source": [
    "# select int and float fields, reshuffle dataframe\n",
    "df = df.select_dtypes(['int', 'float']).sample(frac=1, axis=0)\n",
    "df.shape"
   ]
  },
  {
   "cell_type": "code",
   "execution_count": 8,
   "metadata": {},
   "outputs": [],
   "source": [
    "y = df['RESPONSE']\n",
    "X = df.drop(['RESPONSE'], axis=1)"
   ]
  },
  {
   "cell_type": "code",
   "execution_count": 9,
   "metadata": {},
   "outputs": [
    {
     "data": {
      "text/plain": [
       "array(['EWDICHTE', 'KBA13_KMH_0_140', 'KBA13_SEG_SONSTIGE',\n",
       "       'D19_KONSUMTYP', 'KBA05_KRSOBER', 'KBA05_SEG8', 'KBA13_NISSAN',\n",
       "       'CJT_TYP_1', 'KBA05_HERST2', 'KBA05_ALTER1', 'KBA13_HALTER_55',\n",
       "       'D19_VERSAND_ANZ_24', 'KBA13_SEG_KLEINST', 'LP_LEBENSPHASE_FEIN',\n",
       "       'VHA', 'KBA05_MOD4', 'STRUKTURTYP', 'KBA13_CCM_1600',\n",
       "       'GEBAEUDETYP_RASTER', 'KBA13_OPEL', 'KBA13_BJ_2000', 'KBA05_KW3',\n",
       "       'ORTSGR_KLS9', 'KBA13_HALTER_45', 'D19_VERSICHERUNGEN',\n",
       "       'D19_BANKEN_ONLINE_DATUM', 'D19_GESAMT_OFFLINE_DATUM',\n",
       "       'D19_SCHUHE', 'KBA13_HERST_EUROPA', 'KBA13_KRSZUL_NEU',\n",
       "       'PRAEGENDE_JUGENDJAHRE', 'ALTERSKATEGORIE_GROB', 'LP_FAMILIE_GROB',\n",
       "       'PLZ8_ANTG3', 'KBA13_RENAULT', 'KBA13_SITZE_4'], dtype=object)"
      ]
     },
     "execution_count": 9,
     "metadata": {},
     "output_type": "execute_result"
    }
   ],
   "source": [
    "#randomly drop columns to experiment with different features\n",
    "X = X.sample(frac=0.1, axis=1)\n",
    "X.columns.values"
   ]
  },
  {
   "cell_type": "code",
   "execution_count": 10,
   "metadata": {},
   "outputs": [
    {
     "data": {
      "text/plain": [
       "(42962, 36)"
      ]
     },
     "execution_count": 10,
     "metadata": {},
     "output_type": "execute_result"
    }
   ],
   "source": [
    "X.shape"
   ]
  },
  {
   "cell_type": "markdown",
   "metadata": {},
   "source": [
    "### Standardize"
   ]
  },
  {
   "cell_type": "code",
   "execution_count": 11,
   "metadata": {},
   "outputs": [
    {
     "name": "stderr",
     "output_type": "stream",
     "text": [
      "/home/ec2-user/anaconda3/envs/mxnet_p36/lib/python3.6/site-packages/sklearn/preprocessing/data.py:645: DataConversionWarning: Data with input dtype int64, float64 were all converted to float64 by StandardScaler.\n",
      "  return self.partial_fit(X, y)\n",
      "/home/ec2-user/anaconda3/envs/mxnet_p36/lib/python3.6/site-packages/ipykernel/__main__.py:5: DataConversionWarning: Data with input dtype int64, float64 were all converted to float64 by StandardScaler.\n"
     ]
    }
   ],
   "source": [
    "from sklearn.preprocessing import StandardScaler\n",
    "scaler = StandardScaler()\n",
    "scaler.fit(X)\n",
    "StandardScaler()\n",
    "transformed_df = pd.DataFrame(columns = X.columns.values, index = X.index.values, data=scaler.transform(X));"
   ]
  },
  {
   "cell_type": "code",
   "execution_count": 12,
   "metadata": {},
   "outputs": [
    {
     "data": {
      "text/plain": [
       "(42962, 36)"
      ]
     },
     "execution_count": 12,
     "metadata": {},
     "output_type": "execute_result"
    }
   ],
   "source": [
    "transformed_df = transformed_df.fillna(0)\n",
    "transformed_df.isnull().any(axis=0);\n",
    "transformed_df.shape"
   ]
  },
  {
   "cell_type": "code",
   "execution_count": 13,
   "metadata": {},
   "outputs": [],
   "source": [
    "tmp = pd.concat([y, transformed_df], axis=1)"
   ]
  },
  {
   "cell_type": "code",
   "execution_count": 14,
   "metadata": {},
   "outputs": [
    {
     "name": "stdout",
     "output_type": "stream",
     "text": [
      "21480\n",
      "10740\n",
      "10742\n"
     ]
    }
   ],
   "source": [
    "train = tmp.iloc[0:21480]\n",
    "print(train.shape[0])\n",
    "validation = tmp.iloc[21480:32220]\n",
    "print(validation.shape[0])\n",
    "test = tmp.iloc[32220:]\n",
    "print(test.shape[0])"
   ]
  },
  {
   "cell_type": "code",
   "execution_count": 15,
   "metadata": {},
   "outputs": [
    {
     "name": "stdout",
     "output_type": "stream",
     "text": [
      "1.2243947858472997\n",
      "1.2756052141527001\n",
      "1.2288214485198286\n"
     ]
    }
   ],
   "source": [
    "print(train['RESPONSE'].mean() * 100)\n",
    "print(validation['RESPONSE'].mean() * 100)\n",
    "print(test['RESPONSE'].mean() * 100)"
   ]
  },
  {
   "cell_type": "code",
   "execution_count": 16,
   "metadata": {},
   "outputs": [],
   "source": [
    "train.to_csv('train.csv', header=False, index=False)"
   ]
  },
  {
   "cell_type": "code",
   "execution_count": 17,
   "metadata": {},
   "outputs": [],
   "source": [
    "validation.to_csv('validation.csv', header=False, index=False)"
   ]
  },
  {
   "cell_type": "code",
   "execution_count": 18,
   "metadata": {},
   "outputs": [],
   "source": [
    "X_test = test.drop('RESPONSE', axis=1)\n",
    "Y_test = test['RESPONSE']"
   ]
  },
  {
   "cell_type": "code",
   "execution_count": 19,
   "metadata": {},
   "outputs": [],
   "source": [
    "X_test.to_csv('test.csv', header=False, index=False)"
   ]
  },
  {
   "cell_type": "code",
   "execution_count": 20,
   "metadata": {},
   "outputs": [
    {
     "name": "stdout",
     "output_type": "stream",
     "text": [
      "(21480, 37)\n",
      "(10740, 37)\n",
      "(10742, 37)\n"
     ]
    }
   ],
   "source": [
    "print(train.shape)\n",
    "print(validation.shape)\n",
    "print(test.shape)"
   ]
  },
  {
   "cell_type": "code",
   "execution_count": 21,
   "metadata": {},
   "outputs": [],
   "source": [
    "prefix='supervised'\n",
    "\n",
    "train_location = session.upload_data('train.csv', key_prefix=prefix)\n",
    "validate_location = session.upload_data('validation.csv', key_prefix=prefix)\n",
    "test_location = session.upload_data('test.csv', key_prefix=prefix)"
   ]
  },
  {
   "cell_type": "code",
   "execution_count": 22,
   "metadata": {},
   "outputs": [],
   "source": [
    "from sagemaker.amazon.amazon_estimator import get_image_uri\n",
    "\n",
    "container = get_image_uri(session.boto_region_name, 'xgboost', '0.90-2')"
   ]
  },
  {
   "cell_type": "code",
   "execution_count": 23,
   "metadata": {},
   "outputs": [],
   "source": [
    "xgb = None\n",
    "xgb = sagemaker.estimator.Estimator(\n",
    "    container, \n",
    "    role, \n",
    "    train_instance_count=1,\n",
    "    train_instance_type='ml.m4.xlarge',\n",
    "    output_path='s3://{}/{}/output'.format(session.default_bucket(), prefix),\n",
    "    sagemaker_session=session\n",
    ")"
   ]
  },
  {
   "cell_type": "code",
   "execution_count": 27,
   "metadata": {},
   "outputs": [],
   "source": [
    "xgb.set_hyperparameters(max_depth=5,\n",
    "                        eta=0.2,\n",
    "                        gamma=4,\n",
    "                        min_child_weight=6,\n",
    "                        subsample=0.8,\n",
    "                        silent=0,\n",
    "                        objective=\"binary:logistic\",\n",
    "                        eval_metric=\"auc\",\n",
    "                        early_stopping_rounds=10,\n",
    "                        num_round=500)"
   ]
  },
  {
   "cell_type": "code",
   "execution_count": 28,
   "metadata": {},
   "outputs": [
    {
     "data": {
      "text/plain": [
       "{'max_depth': 5,\n",
       " 'eta': 0.2,\n",
       " 'gamma': 4,\n",
       " 'min_child_weight': 6,\n",
       " 'subsample': 0.8,\n",
       " 'silent': 0,\n",
       " 'objective': 'binary:logistic',\n",
       " 'eval_metric': 'auc',\n",
       " 'early_stopping_rounds': 10,\n",
       " 'num_round': 500}"
      ]
     },
     "execution_count": 28,
     "metadata": {},
     "output_type": "execute_result"
    }
   ],
   "source": [
    "# ensure that hyperparams are set correctly\n",
    "xgb.hyperparameters()"
   ]
  },
  {
   "cell_type": "code",
   "execution_count": 29,
   "metadata": {},
   "outputs": [
    {
     "data": {
      "text/html": [
       "<div>\n",
       "<style scoped>\n",
       "    .dataframe tbody tr th:only-of-type {\n",
       "        vertical-align: middle;\n",
       "    }\n",
       "\n",
       "    .dataframe tbody tr th {\n",
       "        vertical-align: top;\n",
       "    }\n",
       "\n",
       "    .dataframe thead th {\n",
       "        text-align: right;\n",
       "    }\n",
       "</style>\n",
       "<table border=\"1\" class=\"dataframe\">\n",
       "  <thead>\n",
       "    <tr style=\"text-align: right;\">\n",
       "      <th></th>\n",
       "      <th>RESPONSE</th>\n",
       "      <th>EWDICHTE</th>\n",
       "      <th>KBA13_KMH_0_140</th>\n",
       "      <th>KBA13_SEG_SONSTIGE</th>\n",
       "      <th>D19_KONSUMTYP</th>\n",
       "      <th>KBA05_KRSOBER</th>\n",
       "      <th>KBA05_SEG8</th>\n",
       "      <th>KBA13_NISSAN</th>\n",
       "      <th>CJT_TYP_1</th>\n",
       "      <th>KBA05_HERST2</th>\n",
       "      <th>...</th>\n",
       "      <th>D19_GESAMT_OFFLINE_DATUM</th>\n",
       "      <th>D19_SCHUHE</th>\n",
       "      <th>KBA13_HERST_EUROPA</th>\n",
       "      <th>KBA13_KRSZUL_NEU</th>\n",
       "      <th>PRAEGENDE_JUGENDJAHRE</th>\n",
       "      <th>ALTERSKATEGORIE_GROB</th>\n",
       "      <th>LP_FAMILIE_GROB</th>\n",
       "      <th>PLZ8_ANTG3</th>\n",
       "      <th>KBA13_RENAULT</th>\n",
       "      <th>KBA13_SITZE_4</th>\n",
       "    </tr>\n",
       "  </thead>\n",
       "  <tbody>\n",
       "    <tr>\n",
       "      <th>37958</th>\n",
       "      <td>0</td>\n",
       "      <td>0.122762</td>\n",
       "      <td>-0.816443</td>\n",
       "      <td>-1.097872</td>\n",
       "      <td>-0.251984</td>\n",
       "      <td>-0.085894</td>\n",
       "      <td>0.110627</td>\n",
       "      <td>-1.934342</td>\n",
       "      <td>-0.399407</td>\n",
       "      <td>1.619272</td>\n",
       "      <td>...</td>\n",
       "      <td>0.332665</td>\n",
       "      <td>-0.352762</td>\n",
       "      <td>0.900768</td>\n",
       "      <td>0.124038</td>\n",
       "      <td>-0.113971</td>\n",
       "      <td>0.736410</td>\n",
       "      <td>1.346344</td>\n",
       "      <td>0.539724</td>\n",
       "      <td>-0.028805</td>\n",
       "      <td>-0.128536</td>\n",
       "    </tr>\n",
       "    <tr>\n",
       "      <th>17492</th>\n",
       "      <td>0</td>\n",
       "      <td>1.275257</td>\n",
       "      <td>1.808776</td>\n",
       "      <td>1.005273</td>\n",
       "      <td>-0.976195</td>\n",
       "      <td>-1.150692</td>\n",
       "      <td>-0.684190</td>\n",
       "      <td>0.011508</td>\n",
       "      <td>1.815335</td>\n",
       "      <td>-0.922138</td>\n",
       "      <td>...</td>\n",
       "      <td>-1.412118</td>\n",
       "      <td>-0.352762</td>\n",
       "      <td>-0.072194</td>\n",
       "      <td>-1.178494</td>\n",
       "      <td>2.550462</td>\n",
       "      <td>-2.073993</td>\n",
       "      <td>1.346344</td>\n",
       "      <td>1.555088</td>\n",
       "      <td>-0.979925</td>\n",
       "      <td>1.721277</td>\n",
       "    </tr>\n",
       "    <tr>\n",
       "      <th>10415</th>\n",
       "      <td>0</td>\n",
       "      <td>1.275257</td>\n",
       "      <td>0.496167</td>\n",
       "      <td>-1.097872</td>\n",
       "      <td>1.920650</td>\n",
       "      <td>-1.150692</td>\n",
       "      <td>-0.684190</td>\n",
       "      <td>0.011508</td>\n",
       "      <td>-1.137654</td>\n",
       "      <td>-0.922138</td>\n",
       "      <td>...</td>\n",
       "      <td>0.768861</td>\n",
       "      <td>-0.352762</td>\n",
       "      <td>-0.072194</td>\n",
       "      <td>-1.178494</td>\n",
       "      <td>0.152472</td>\n",
       "      <td>0.736410</td>\n",
       "      <td>-0.673995</td>\n",
       "      <td>1.555088</td>\n",
       "      <td>-0.979925</td>\n",
       "      <td>1.721277</td>\n",
       "    </tr>\n",
       "    <tr>\n",
       "      <th>19360</th>\n",
       "      <td>0</td>\n",
       "      <td>-0.453486</td>\n",
       "      <td>1.152471</td>\n",
       "      <td>1.005273</td>\n",
       "      <td>-0.976195</td>\n",
       "      <td>-0.085894</td>\n",
       "      <td>-0.684190</td>\n",
       "      <td>-1.934342</td>\n",
       "      <td>-0.399407</td>\n",
       "      <td>-0.075001</td>\n",
       "      <td>...</td>\n",
       "      <td>-0.539727</td>\n",
       "      <td>1.571649</td>\n",
       "      <td>-0.072194</td>\n",
       "      <td>-1.178494</td>\n",
       "      <td>0.418916</td>\n",
       "      <td>0.736410</td>\n",
       "      <td>-1.179079</td>\n",
       "      <td>-0.475639</td>\n",
       "      <td>-0.028805</td>\n",
       "      <td>-0.128536</td>\n",
       "    </tr>\n",
       "    <tr>\n",
       "      <th>12517</th>\n",
       "      <td>0</td>\n",
       "      <td>1.275257</td>\n",
       "      <td>1.152471</td>\n",
       "      <td>-1.097872</td>\n",
       "      <td>-0.976195</td>\n",
       "      <td>0.978905</td>\n",
       "      <td>-0.684190</td>\n",
       "      <td>0.984433</td>\n",
       "      <td>0.338840</td>\n",
       "      <td>-0.075001</td>\n",
       "      <td>...</td>\n",
       "      <td>-3.156901</td>\n",
       "      <td>3.496060</td>\n",
       "      <td>1.873730</td>\n",
       "      <td>0.124038</td>\n",
       "      <td>0.951802</td>\n",
       "      <td>-0.200391</td>\n",
       "      <td>-0.673995</td>\n",
       "      <td>-0.475639</td>\n",
       "      <td>1.873434</td>\n",
       "      <td>-0.128536</td>\n",
       "    </tr>\n",
       "  </tbody>\n",
       "</table>\n",
       "<p>5 rows × 37 columns</p>\n",
       "</div>"
      ],
      "text/plain": [
       "       RESPONSE  EWDICHTE  KBA13_KMH_0_140  KBA13_SEG_SONSTIGE  D19_KONSUMTYP  \\\n",
       "37958         0  0.122762        -0.816443           -1.097872      -0.251984   \n",
       "17492         0  1.275257         1.808776            1.005273      -0.976195   \n",
       "10415         0  1.275257         0.496167           -1.097872       1.920650   \n",
       "19360         0 -0.453486         1.152471            1.005273      -0.976195   \n",
       "12517         0  1.275257         1.152471           -1.097872      -0.976195   \n",
       "\n",
       "       KBA05_KRSOBER  KBA05_SEG8  KBA13_NISSAN  CJT_TYP_1  KBA05_HERST2  ...  \\\n",
       "37958      -0.085894    0.110627     -1.934342  -0.399407      1.619272  ...   \n",
       "17492      -1.150692   -0.684190      0.011508   1.815335     -0.922138  ...   \n",
       "10415      -1.150692   -0.684190      0.011508  -1.137654     -0.922138  ...   \n",
       "19360      -0.085894   -0.684190     -1.934342  -0.399407     -0.075001  ...   \n",
       "12517       0.978905   -0.684190      0.984433   0.338840     -0.075001  ...   \n",
       "\n",
       "       D19_GESAMT_OFFLINE_DATUM  D19_SCHUHE  KBA13_HERST_EUROPA  \\\n",
       "37958                  0.332665   -0.352762            0.900768   \n",
       "17492                 -1.412118   -0.352762           -0.072194   \n",
       "10415                  0.768861   -0.352762           -0.072194   \n",
       "19360                 -0.539727    1.571649           -0.072194   \n",
       "12517                 -3.156901    3.496060            1.873730   \n",
       "\n",
       "       KBA13_KRSZUL_NEU  PRAEGENDE_JUGENDJAHRE  ALTERSKATEGORIE_GROB  \\\n",
       "37958          0.124038              -0.113971              0.736410   \n",
       "17492         -1.178494               2.550462             -2.073993   \n",
       "10415         -1.178494               0.152472              0.736410   \n",
       "19360         -1.178494               0.418916              0.736410   \n",
       "12517          0.124038               0.951802             -0.200391   \n",
       "\n",
       "       LP_FAMILIE_GROB  PLZ8_ANTG3  KBA13_RENAULT  KBA13_SITZE_4  \n",
       "37958         1.346344    0.539724      -0.028805      -0.128536  \n",
       "17492         1.346344    1.555088      -0.979925       1.721277  \n",
       "10415        -0.673995    1.555088      -0.979925       1.721277  \n",
       "19360        -1.179079   -0.475639      -0.028805      -0.128536  \n",
       "12517        -0.673995   -0.475639       1.873434      -0.128536  \n",
       "\n",
       "[5 rows x 37 columns]"
      ]
     },
     "execution_count": 29,
     "metadata": {},
     "output_type": "execute_result"
    }
   ],
   "source": [
    "train.head()"
   ]
  },
  {
   "cell_type": "code",
   "execution_count": 30,
   "metadata": {},
   "outputs": [
    {
     "data": {
      "text/html": [
       "<div>\n",
       "<style scoped>\n",
       "    .dataframe tbody tr th:only-of-type {\n",
       "        vertical-align: middle;\n",
       "    }\n",
       "\n",
       "    .dataframe tbody tr th {\n",
       "        vertical-align: top;\n",
       "    }\n",
       "\n",
       "    .dataframe thead th {\n",
       "        text-align: right;\n",
       "    }\n",
       "</style>\n",
       "<table border=\"1\" class=\"dataframe\">\n",
       "  <thead>\n",
       "    <tr style=\"text-align: right;\">\n",
       "      <th></th>\n",
       "      <th>RESPONSE</th>\n",
       "      <th>EWDICHTE</th>\n",
       "      <th>KBA13_KMH_0_140</th>\n",
       "      <th>KBA13_SEG_SONSTIGE</th>\n",
       "      <th>D19_KONSUMTYP</th>\n",
       "      <th>KBA05_KRSOBER</th>\n",
       "      <th>KBA05_SEG8</th>\n",
       "      <th>KBA13_NISSAN</th>\n",
       "      <th>CJT_TYP_1</th>\n",
       "      <th>KBA05_HERST2</th>\n",
       "      <th>...</th>\n",
       "      <th>D19_GESAMT_OFFLINE_DATUM</th>\n",
       "      <th>D19_SCHUHE</th>\n",
       "      <th>KBA13_HERST_EUROPA</th>\n",
       "      <th>KBA13_KRSZUL_NEU</th>\n",
       "      <th>PRAEGENDE_JUGENDJAHRE</th>\n",
       "      <th>ALTERSKATEGORIE_GROB</th>\n",
       "      <th>LP_FAMILIE_GROB</th>\n",
       "      <th>PLZ8_ANTG3</th>\n",
       "      <th>KBA13_RENAULT</th>\n",
       "      <th>KBA13_SITZE_4</th>\n",
       "    </tr>\n",
       "  </thead>\n",
       "  <tbody>\n",
       "    <tr>\n",
       "      <th>7089</th>\n",
       "      <td>0</td>\n",
       "      <td>0.000000</td>\n",
       "      <td>0.000000</td>\n",
       "      <td>0.000000</td>\n",
       "      <td>0.000000</td>\n",
       "      <td>0.000000</td>\n",
       "      <td>0.000000</td>\n",
       "      <td>0.000000</td>\n",
       "      <td>-0.399407</td>\n",
       "      <td>0.000000</td>\n",
       "      <td>...</td>\n",
       "      <td>0.768861</td>\n",
       "      <td>-0.352762</td>\n",
       "      <td>0.000000</td>\n",
       "      <td>0.000000</td>\n",
       "      <td>-1.179745</td>\n",
       "      <td>-1.137192</td>\n",
       "      <td>0.841259</td>\n",
       "      <td>0.000000</td>\n",
       "      <td>0.000000</td>\n",
       "      <td>0.000000</td>\n",
       "    </tr>\n",
       "    <tr>\n",
       "      <th>18142</th>\n",
       "      <td>0</td>\n",
       "      <td>1.275257</td>\n",
       "      <td>1.152471</td>\n",
       "      <td>2.056846</td>\n",
       "      <td>1.920650</td>\n",
       "      <td>-0.085894</td>\n",
       "      <td>-0.684190</td>\n",
       "      <td>0.984433</td>\n",
       "      <td>-0.399407</td>\n",
       "      <td>0.772135</td>\n",
       "      <td>...</td>\n",
       "      <td>0.332665</td>\n",
       "      <td>3.496060</td>\n",
       "      <td>0.900768</td>\n",
       "      <td>-2.481027</td>\n",
       "      <td>-0.913301</td>\n",
       "      <td>0.736410</td>\n",
       "      <td>-1.179079</td>\n",
       "      <td>1.555088</td>\n",
       "      <td>0.922314</td>\n",
       "      <td>-1.978349</td>\n",
       "    </tr>\n",
       "    <tr>\n",
       "      <th>1596</th>\n",
       "      <td>0</td>\n",
       "      <td>-1.605981</td>\n",
       "      <td>0.496167</td>\n",
       "      <td>-2.149444</td>\n",
       "      <td>-0.614089</td>\n",
       "      <td>-0.085894</td>\n",
       "      <td>0.110627</td>\n",
       "      <td>-0.961417</td>\n",
       "      <td>-0.399407</td>\n",
       "      <td>0.772135</td>\n",
       "      <td>...</td>\n",
       "      <td>-1.412118</td>\n",
       "      <td>-0.352762</td>\n",
       "      <td>1.873730</td>\n",
       "      <td>0.124038</td>\n",
       "      <td>0.951802</td>\n",
       "      <td>0.736410</td>\n",
       "      <td>1.346344</td>\n",
       "      <td>-1.491002</td>\n",
       "      <td>1.873434</td>\n",
       "      <td>0.796371</td>\n",
       "    </tr>\n",
       "    <tr>\n",
       "      <th>32448</th>\n",
       "      <td>0</td>\n",
       "      <td>1.275257</td>\n",
       "      <td>-0.816443</td>\n",
       "      <td>-0.046299</td>\n",
       "      <td>-0.251984</td>\n",
       "      <td>-1.150692</td>\n",
       "      <td>1.700259</td>\n",
       "      <td>0.011508</td>\n",
       "      <td>-0.399407</td>\n",
       "      <td>-0.922138</td>\n",
       "      <td>...</td>\n",
       "      <td>0.768861</td>\n",
       "      <td>-0.352762</td>\n",
       "      <td>0.900768</td>\n",
       "      <td>0.124038</td>\n",
       "      <td>-0.646858</td>\n",
       "      <td>-0.200391</td>\n",
       "      <td>-0.673995</td>\n",
       "      <td>1.555088</td>\n",
       "      <td>0.922314</td>\n",
       "      <td>0.796371</td>\n",
       "    </tr>\n",
       "    <tr>\n",
       "      <th>4401</th>\n",
       "      <td>0</td>\n",
       "      <td>0.699009</td>\n",
       "      <td>-0.816443</td>\n",
       "      <td>-0.046299</td>\n",
       "      <td>-0.251984</td>\n",
       "      <td>-0.085894</td>\n",
       "      <td>-0.684190</td>\n",
       "      <td>0.984433</td>\n",
       "      <td>-0.399407</td>\n",
       "      <td>-0.075001</td>\n",
       "      <td>...</td>\n",
       "      <td>-0.103531</td>\n",
       "      <td>-0.352762</td>\n",
       "      <td>-0.072194</td>\n",
       "      <td>0.124038</td>\n",
       "      <td>-0.646858</td>\n",
       "      <td>0.736410</td>\n",
       "      <td>-0.168910</td>\n",
       "      <td>-0.475639</td>\n",
       "      <td>-0.979925</td>\n",
       "      <td>0.796371</td>\n",
       "    </tr>\n",
       "  </tbody>\n",
       "</table>\n",
       "<p>5 rows × 37 columns</p>\n",
       "</div>"
      ],
      "text/plain": [
       "       RESPONSE  EWDICHTE  KBA13_KMH_0_140  KBA13_SEG_SONSTIGE  D19_KONSUMTYP  \\\n",
       "7089          0  0.000000         0.000000            0.000000       0.000000   \n",
       "18142         0  1.275257         1.152471            2.056846       1.920650   \n",
       "1596          0 -1.605981         0.496167           -2.149444      -0.614089   \n",
       "32448         0  1.275257        -0.816443           -0.046299      -0.251984   \n",
       "4401          0  0.699009        -0.816443           -0.046299      -0.251984   \n",
       "\n",
       "       KBA05_KRSOBER  KBA05_SEG8  KBA13_NISSAN  CJT_TYP_1  KBA05_HERST2  ...  \\\n",
       "7089        0.000000    0.000000      0.000000  -0.399407      0.000000  ...   \n",
       "18142      -0.085894   -0.684190      0.984433  -0.399407      0.772135  ...   \n",
       "1596       -0.085894    0.110627     -0.961417  -0.399407      0.772135  ...   \n",
       "32448      -1.150692    1.700259      0.011508  -0.399407     -0.922138  ...   \n",
       "4401       -0.085894   -0.684190      0.984433  -0.399407     -0.075001  ...   \n",
       "\n",
       "       D19_GESAMT_OFFLINE_DATUM  D19_SCHUHE  KBA13_HERST_EUROPA  \\\n",
       "7089                   0.768861   -0.352762            0.000000   \n",
       "18142                  0.332665    3.496060            0.900768   \n",
       "1596                  -1.412118   -0.352762            1.873730   \n",
       "32448                  0.768861   -0.352762            0.900768   \n",
       "4401                  -0.103531   -0.352762           -0.072194   \n",
       "\n",
       "       KBA13_KRSZUL_NEU  PRAEGENDE_JUGENDJAHRE  ALTERSKATEGORIE_GROB  \\\n",
       "7089           0.000000              -1.179745             -1.137192   \n",
       "18142         -2.481027              -0.913301              0.736410   \n",
       "1596           0.124038               0.951802              0.736410   \n",
       "32448          0.124038              -0.646858             -0.200391   \n",
       "4401           0.124038              -0.646858              0.736410   \n",
       "\n",
       "       LP_FAMILIE_GROB  PLZ8_ANTG3  KBA13_RENAULT  KBA13_SITZE_4  \n",
       "7089          0.841259    0.000000       0.000000       0.000000  \n",
       "18142        -1.179079    1.555088       0.922314      -1.978349  \n",
       "1596          1.346344   -1.491002       1.873434       0.796371  \n",
       "32448        -0.673995    1.555088       0.922314       0.796371  \n",
       "4401         -0.168910   -0.475639      -0.979925       0.796371  \n",
       "\n",
       "[5 rows x 37 columns]"
      ]
     },
     "execution_count": 30,
     "metadata": {},
     "output_type": "execute_result"
    }
   ],
   "source": [
    "validation.head()"
   ]
  },
  {
   "cell_type": "markdown",
   "metadata": {},
   "source": [
    "### Fit the XGBoost model"
   ]
  },
  {
   "cell_type": "code",
   "execution_count": 31,
   "metadata": {},
   "outputs": [],
   "source": [
    "s3_input_train = sagemaker.s3_input(s3_data=train_location, content_type='csv')\n",
    "s3_input_validation = sagemaker.s3_input(s3_data=validate_location, content_type='csv')"
   ]
  },
  {
   "cell_type": "code",
   "execution_count": 32,
   "metadata": {},
   "outputs": [
    {
     "name": "stdout",
     "output_type": "stream",
     "text": [
      "2020-05-17 22:31:03 Starting - Starting the training job...\n",
      "2020-05-17 22:31:04 Starting - Launching requested ML instances......\n",
      "2020-05-17 22:32:08 Starting - Preparing the instances for training......\n",
      "2020-05-17 22:33:07 Downloading - Downloading input data...\n",
      "2020-05-17 22:33:43 Training - Downloading the training image..\u001b[34mINFO:sagemaker-containers:Imported framework sagemaker_xgboost_container.training\u001b[0m\n",
      "\u001b[34mINFO:sagemaker-containers:Failed to parse hyperparameter eval_metric value auc to Json.\u001b[0m\n",
      "\u001b[34mReturning the value itself\u001b[0m\n",
      "\u001b[34mINFO:sagemaker-containers:Failed to parse hyperparameter objective value binary:logistic to Json.\u001b[0m\n",
      "\u001b[34mReturning the value itself\u001b[0m\n",
      "\u001b[34mINFO:sagemaker-containers:No GPUs detected (normal if no gpus installed)\u001b[0m\n",
      "\u001b[34mINFO:sagemaker_xgboost_container.training:Running XGBoost Sagemaker in algorithm mode\u001b[0m\n",
      "\u001b[34mINFO:root:Determined delimiter of CSV input is ','\u001b[0m\n",
      "\u001b[34mINFO:root:Determined delimiter of CSV input is ','\u001b[0m\n",
      "\u001b[34mINFO:root:Determined delimiter of CSV input is ','\u001b[0m\n",
      "\u001b[34m[22:34:09] 21480x36 matrix with 773280 entries loaded from /opt/ml/input/data/train?format=csv&label_column=0&delimiter=,\u001b[0m\n",
      "\u001b[34mINFO:root:Determined delimiter of CSV input is ','\u001b[0m\n",
      "\u001b[34m[22:34:09] 10740x36 matrix with 386640 entries loaded from /opt/ml/input/data/validation?format=csv&label_column=0&delimiter=,\u001b[0m\n",
      "\u001b[34mINFO:root:Single node training.\u001b[0m\n",
      "\u001b[34mINFO:root:Train matrix has 21480 rows\u001b[0m\n",
      "\u001b[34mINFO:root:Validation matrix has 10740 rows\u001b[0m\n",
      "\u001b[34m[0]#011train-auc:0.5#011validation-auc:0.5\u001b[0m\n",
      "\u001b[34m[1]#011train-auc:0.5#011validation-auc:0.5\u001b[0m\n",
      "\u001b[34m[2]#011train-auc:0.5#011validation-auc:0.5\u001b[0m\n",
      "\u001b[34m[3]#011train-auc:0.5#011validation-auc:0.5\u001b[0m\n",
      "\u001b[34m[4]#011train-auc:0.5#011validation-auc:0.5\u001b[0m\n",
      "\u001b[34m[5]#011train-auc:0.5#011validation-auc:0.5\u001b[0m\n",
      "\u001b[34m[6]#011train-auc:0.5#011validation-auc:0.5\u001b[0m\n",
      "\u001b[34m[7]#011train-auc:0.5#011validation-auc:0.5\u001b[0m\n",
      "\u001b[34m[8]#011train-auc:0.5#011validation-auc:0.5\u001b[0m\n",
      "\u001b[34m[9]#011train-auc:0.5#011validation-auc:0.5\u001b[0m\n",
      "\u001b[34m[10]#011train-auc:0.62014#011validation-auc:0.598311\u001b[0m\n",
      "\u001b[34m[11]#011train-auc:0.622535#011validation-auc:0.616127\u001b[0m\n",
      "\u001b[34m[12]#011train-auc:0.649076#011validation-auc:0.633822\u001b[0m\n",
      "\u001b[34m[13]#011train-auc:0.652242#011validation-auc:0.643402\u001b[0m\n",
      "\u001b[34m[14]#011train-auc:0.652242#011validation-auc:0.643402\u001b[0m\n",
      "\u001b[34m[15]#011train-auc:0.667553#011validation-auc:0.658941\u001b[0m\n",
      "\u001b[34m[16]#011train-auc:0.666631#011validation-auc:0.654976\u001b[0m\n",
      "\u001b[34m[17]#011train-auc:0.678918#011validation-auc:0.650114\u001b[0m\n",
      "\u001b[34m[18]#011train-auc:0.690458#011validation-auc:0.642376\u001b[0m\n",
      "\u001b[34m[19]#011train-auc:0.690945#011validation-auc:0.646024\u001b[0m\n",
      "\u001b[34m[20]#011train-auc:0.698434#011validation-auc:0.629677\u001b[0m\n",
      "\u001b[34m[21]#011train-auc:0.708208#011validation-auc:0.630638\u001b[0m\n",
      "\u001b[34m[22]#011train-auc:0.712496#011validation-auc:0.63026\u001b[0m\n",
      "\u001b[34m[23]#011train-auc:0.711515#011validation-auc:0.634277\u001b[0m\n",
      "\u001b[34m[24]#011train-auc:0.721542#011validation-auc:0.63688\u001b[0m\n",
      "\u001b[34m[25]#011train-auc:0.734973#011validation-auc:0.633359\u001b[0m\n",
      "\n",
      "2020-05-17 22:34:30 Uploading - Uploading generated training model\n",
      "2020-05-17 22:34:30 Completed - Training job completed\n",
      "Training seconds: 83\n",
      "Billable seconds: 83\n"
     ]
    }
   ],
   "source": [
    "xgb.fit({ 'train': s3_input_train, 'validation': s3_input_validation })"
   ]
  },
  {
   "cell_type": "markdown",
   "metadata": {},
   "source": [
    "### Testing the model"
   ]
  },
  {
   "cell_type": "code",
   "execution_count": 33,
   "metadata": {},
   "outputs": [],
   "source": [
    "xgb_transformer = xgb.transformer(instance_count=1, instance_type='ml.m4.xlarge')"
   ]
  },
  {
   "cell_type": "code",
   "execution_count": 34,
   "metadata": {},
   "outputs": [],
   "source": [
    "xgb_transformer.transform(test_location, content_type='text/csv', split_type='Line')"
   ]
  },
  {
   "cell_type": "code",
   "execution_count": 35,
   "metadata": {},
   "outputs": [
    {
     "name": "stdout",
     "output_type": "stream",
     "text": [
      "....................\u001b[34m[2020-05-17 22:37:54 +0000] [16] [INFO] Starting gunicorn 19.10.0\u001b[0m\n",
      "\u001b[34m[2020-05-17 22:37:54 +0000] [16] [INFO] Listening at: unix:/tmp/gunicorn.sock (16)\u001b[0m\n",
      "\u001b[34m[2020-05-17 22:37:54 +0000] [16] [INFO] Using worker: gevent\u001b[0m\n",
      "\u001b[34m[2020-05-17 22:37:54 +0000] [23] [INFO] Booting worker with pid: 23\u001b[0m\n",
      "\u001b[34m[2020-05-17 22:37:54 +0000] [24] [INFO] Booting worker with pid: 24\u001b[0m\n",
      "\u001b[34m[2020-05-17 22:37:54 +0000] [28] [INFO] Booting worker with pid: 28\u001b[0m\n",
      "\u001b[34m[2020-05-17 22:37:54 +0000] [29] [INFO] Booting worker with pid: 29\u001b[0m\n",
      "\u001b[34m[2020-05-17:22:38:24:INFO] No GPUs detected (normal if no gpus installed)\u001b[0m\n",
      "\u001b[34m169.254.255.130 - - [17/May/2020:22:38:24 +0000] \"GET /ping HTTP/1.1\" 200 0 \"-\" \"Go-http-client/1.1\"\u001b[0m\n",
      "\u001b[34m169.254.255.130 - - [17/May/2020:22:38:24 +0000] \"GET /execution-parameters HTTP/1.1\" 200 84 \"-\" \"Go-http-client/1.1\"\u001b[0m\n",
      "\u001b[34m[2020-05-17:22:38:25:INFO] Determined delimiter of CSV input is ','\u001b[0m\n",
      "\u001b[34m[2020-05-17:22:38:25:INFO] No GPUs detected (normal if no gpus installed)\u001b[0m\n",
      "\u001b[34m169.254.255.130 - - [17/May/2020:22:38:25 +0000] \"POST /invocations HTTP/1.1\" 200 16658 \"-\" \"Go-http-client/1.1\"\u001b[0m\n",
      "\u001b[35m[2020-05-17:22:38:24:INFO] No GPUs detected (normal if no gpus installed)\u001b[0m\n",
      "\u001b[35m169.254.255.130 - - [17/May/2020:22:38:24 +0000] \"GET /ping HTTP/1.1\" 200 0 \"-\" \"Go-http-client/1.1\"\u001b[0m\n",
      "\u001b[35m169.254.255.130 - - [17/May/2020:22:38:24 +0000] \"GET /execution-parameters HTTP/1.1\" 200 84 \"-\" \"Go-http-client/1.1\"\u001b[0m\n",
      "\u001b[35m[2020-05-17:22:38:25:INFO] Determined delimiter of CSV input is ','\u001b[0m\n",
      "\u001b[35m[2020-05-17:22:38:25:INFO] No GPUs detected (normal if no gpus installed)\u001b[0m\n",
      "\u001b[35m169.254.255.130 - - [17/May/2020:22:38:25 +0000] \"POST /invocations HTTP/1.1\" 200 16658 \"-\" \"Go-http-client/1.1\"\u001b[0m\n",
      "\u001b[34m[2020-05-17:22:38:25:INFO] Determined delimiter of CSV input is ','\u001b[0m\n",
      "\u001b[35m[2020-05-17:22:38:25:INFO] Determined delimiter of CSV input is ','\u001b[0m\n",
      "\u001b[34m169.254.255.130 - - [17/May/2020:22:38:25 +0000] \"POST /invocations HTTP/1.1\" 200 203063 \"-\" \"Go-http-client/1.1\"\u001b[0m\n",
      "\u001b[35m169.254.255.130 - - [17/May/2020:22:38:25 +0000] \"POST /invocations HTTP/1.1\" 200 203063 \"-\" \"Go-http-client/1.1\"\u001b[0m\n",
      "\u001b[32m2020-05-17T22:38:24.977:[sagemaker logs]: MaxConcurrentTransforms=4, MaxPayloadInMB=6, BatchStrategy=MULTI_RECORD\u001b[0m\n",
      "\n"
     ]
    }
   ],
   "source": [
    "xgb_transformer.wait()"
   ]
  },
  {
   "cell_type": "code",
   "execution_count": 36,
   "metadata": {},
   "outputs": [
    {
     "name": "stdout",
     "output_type": "stream",
     "text": [
      "Completed 214.6 KiB/214.6 KiB (3.7 MiB/s) with 1 file(s) remaining\r",
      "download: s3://sagemaker-us-east-2-240038582877/sagemaker-xgboost-2020-05-17-22-34-45-774/test.csv.out to dataset/test.csv.out\r\n"
     ]
    }
   ],
   "source": [
    "!aws s3 cp --recursive $xgb_transformer.output_path 'dataset'"
   ]
  },
  {
   "cell_type": "code",
   "execution_count": 37,
   "metadata": {},
   "outputs": [],
   "source": [
    "predictions = pd.read_csv('dataset/test.csv.out', header=None)\n",
    "predictions = [round(num) for num in predictions.squeeze().values]"
   ]
  },
  {
   "cell_type": "code",
   "execution_count": 38,
   "metadata": {},
   "outputs": [],
   "source": [
    "from sklearn.metrics import roc_auc_score, confusion_matrix\n",
    "auc = roc_auc_score(Y_test, predictions)\n",
    "tn, fp, fn, tp = confusion_matrix(Y_test, predictions).ravel()"
   ]
  },
  {
   "cell_type": "code",
   "execution_count": 39,
   "metadata": {},
   "outputs": [
    {
     "data": {
      "text/plain": [
       "(10610, 0, 132, 0)"
      ]
     },
     "execution_count": 39,
     "metadata": {},
     "output_type": "execute_result"
    }
   ],
   "source": [
    "tn, fp, fn, tp"
   ]
  },
  {
   "cell_type": "code",
   "execution_count": 40,
   "metadata": {},
   "outputs": [
    {
     "data": {
      "text/plain": [
       "0.5"
      ]
     },
     "execution_count": 40,
     "metadata": {},
     "output_type": "execute_result"
    }
   ],
   "source": [
    "auc"
   ]
  }
 ],
 "metadata": {
  "kernelspec": {
   "display_name": "conda_mxnet_p36",
   "language": "python",
   "name": "conda_mxnet_p36"
  },
  "language_info": {
   "codemirror_mode": {
    "name": "ipython",
    "version": 3
   },
   "file_extension": ".py",
   "mimetype": "text/x-python",
   "name": "python",
   "nbconvert_exporter": "python",
   "pygments_lexer": "ipython3",
   "version": "3.6.5"
  }
 },
 "nbformat": 4,
 "nbformat_minor": 4
}
